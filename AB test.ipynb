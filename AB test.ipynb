{
 "cells": [
  {
   "cell_type": "markdown",
   "metadata": {},
   "source": [
    "#  Анализ пользовательского поведения в мобильном приложении. А/А/В тесты.\n",
    "\n",
    "Вы работаете в стартапе, который продаёт продукты питания. Нужно разобраться, как ведут себя пользователи вашего мобильного приложения. \n",
    "\n",
    "Дизайнеры захотели поменять шрифты во всём приложении, а менеджеры испугались, что пользователям будет непривычно. Договорились принять решение по результатам A/A/B-теста.\n",
    "\n",
    "\n",
    "**Цель исследования.**\n",
    "\n",
    "•\tИзучить воронку продаж. \n",
    "\n",
    "•\tУзнайть, как пользователи доходят до покупки. Сколько пользователей доходит до покупки, а сколько — «застревает» на       предыдущих шагах? На каких именно?\n",
    "\n",
    "•\tИсследовать результаты A/A/B-эксперимента\n",
    "\n",
    "**Описание данных**\n",
    "\n",
    "Каждая запись в логе — это действие пользователя, или события\n",
    "\n",
    "* **EventName** - название события; \n",
    " \n",
    "* **DeviceIDHash** — уникальный идентификатор пользователя;,\n",
    " \n",
    "* **EventTimestamp** — время события.\n",
    "\n",
    "* **ExpId**— номер эксперимента: 246 и 247 — контрольные группы, а 248 — экспериментальная\n",
    "\n",
    "**Ход исследования.**\n",
    "\n",
    "1.Откроем файл с данными и изучим общую информацию.\n",
    "\n",
    "2.Подготовка данныx.\n",
    "\n",
    "3.Изучить и проверить данные.\n",
    "\n",
    "4.Изучить воронку событий.\n",
    "\n",
    "5.Изучить результаты эксперимента.\n",
    "\n",
    "6.Общий вывод."
   ]
  },
  {
   "cell_type": "markdown",
   "metadata": {},
   "source": [
    "### Загрузите данные и подготовьте их к анализу."
   ]
  },
  {
   "cell_type": "code",
   "execution_count": 1,
   "metadata": {},
   "outputs": [],
   "source": [
    "import numpy as np\n",
    "import pandas as pd\n",
    "\n",
    "import seaborn as sns\n",
    "from matplotlib import pyplot as plt\n",
    "from IPython.display import display\n",
    "from plotly import graph_objects as go\n",
    "\n",
    "import scipy.stats as st\n",
    "import datetime as dt\n",
    "import math as mth"
   ]
  },
  {
   "cell_type": "code",
   "execution_count": 2,
   "metadata": {
    "scrolled": true
   },
   "outputs": [
    {
     "data": {
      "text/html": [
       "<div>\n",
       "<style scoped>\n",
       "    .dataframe tbody tr th:only-of-type {\n",
       "        vertical-align: middle;\n",
       "    }\n",
       "\n",
       "    .dataframe tbody tr th {\n",
       "        vertical-align: top;\n",
       "    }\n",
       "\n",
       "    .dataframe thead th {\n",
       "        text-align: right;\n",
       "    }\n",
       "</style>\n",
       "<table border=\"1\" class=\"dataframe\">\n",
       "  <thead>\n",
       "    <tr style=\"text-align: right;\">\n",
       "      <th></th>\n",
       "      <th>EventName</th>\n",
       "      <th>DeviceIDHash</th>\n",
       "      <th>EventTimestamp</th>\n",
       "      <th>ExpId</th>\n",
       "    </tr>\n",
       "  </thead>\n",
       "  <tbody>\n",
       "    <tr>\n",
       "      <th>0</th>\n",
       "      <td>MainScreenAppear</td>\n",
       "      <td>4575588528974610257</td>\n",
       "      <td>1564029816</td>\n",
       "      <td>246</td>\n",
       "    </tr>\n",
       "    <tr>\n",
       "      <th>1</th>\n",
       "      <td>MainScreenAppear</td>\n",
       "      <td>7416695313311560658</td>\n",
       "      <td>1564053102</td>\n",
       "      <td>246</td>\n",
       "    </tr>\n",
       "    <tr>\n",
       "      <th>2</th>\n",
       "      <td>PaymentScreenSuccessful</td>\n",
       "      <td>3518123091307005509</td>\n",
       "      <td>1564054127</td>\n",
       "      <td>248</td>\n",
       "    </tr>\n",
       "    <tr>\n",
       "      <th>3</th>\n",
       "      <td>CartScreenAppear</td>\n",
       "      <td>3518123091307005509</td>\n",
       "      <td>1564054127</td>\n",
       "      <td>248</td>\n",
       "    </tr>\n",
       "    <tr>\n",
       "      <th>4</th>\n",
       "      <td>PaymentScreenSuccessful</td>\n",
       "      <td>6217807653094995999</td>\n",
       "      <td>1564055322</td>\n",
       "      <td>248</td>\n",
       "    </tr>\n",
       "    <tr>\n",
       "      <th>5</th>\n",
       "      <td>CartScreenAppear</td>\n",
       "      <td>6217807653094995999</td>\n",
       "      <td>1564055323</td>\n",
       "      <td>248</td>\n",
       "    </tr>\n",
       "    <tr>\n",
       "      <th>6</th>\n",
       "      <td>OffersScreenAppear</td>\n",
       "      <td>8351860793733343758</td>\n",
       "      <td>1564066242</td>\n",
       "      <td>246</td>\n",
       "    </tr>\n",
       "    <tr>\n",
       "      <th>7</th>\n",
       "      <td>MainScreenAppear</td>\n",
       "      <td>5682100281902512875</td>\n",
       "      <td>1564085677</td>\n",
       "      <td>246</td>\n",
       "    </tr>\n",
       "    <tr>\n",
       "      <th>8</th>\n",
       "      <td>MainScreenAppear</td>\n",
       "      <td>1850981295691852772</td>\n",
       "      <td>1564086702</td>\n",
       "      <td>247</td>\n",
       "    </tr>\n",
       "    <tr>\n",
       "      <th>9</th>\n",
       "      <td>MainScreenAppear</td>\n",
       "      <td>5407636962369102641</td>\n",
       "      <td>1564112112</td>\n",
       "      <td>246</td>\n",
       "    </tr>\n",
       "  </tbody>\n",
       "</table>\n",
       "</div>"
      ],
      "text/plain": [
       "                 EventName         DeviceIDHash  EventTimestamp  ExpId\n",
       "0         MainScreenAppear  4575588528974610257      1564029816    246\n",
       "1         MainScreenAppear  7416695313311560658      1564053102    246\n",
       "2  PaymentScreenSuccessful  3518123091307005509      1564054127    248\n",
       "3         CartScreenAppear  3518123091307005509      1564054127    248\n",
       "4  PaymentScreenSuccessful  6217807653094995999      1564055322    248\n",
       "5         CartScreenAppear  6217807653094995999      1564055323    248\n",
       "6       OffersScreenAppear  8351860793733343758      1564066242    246\n",
       "7         MainScreenAppear  5682100281902512875      1564085677    246\n",
       "8         MainScreenAppear  1850981295691852772      1564086702    247\n",
       "9         MainScreenAppear  5407636962369102641      1564112112    246"
      ]
     },
     "execution_count": 2,
     "metadata": {},
     "output_type": "execute_result"
    }
   ],
   "source": [
    "df=pd.read_csv('logs_exp.csv',sep='\\t')\n",
    "df.head(10)"
   ]
  },
  {
   "cell_type": "code",
   "execution_count": 3,
   "metadata": {},
   "outputs": [
    {
     "name": "stdout",
     "output_type": "stream",
     "text": [
      "<class 'pandas.core.frame.DataFrame'>\n",
      "RangeIndex: 244126 entries, 0 to 244125\n",
      "Data columns (total 4 columns):\n",
      " #   Column          Non-Null Count   Dtype \n",
      "---  ------          --------------   ----- \n",
      " 0   EventName       244126 non-null  object\n",
      " 1   DeviceIDHash    244126 non-null  int64 \n",
      " 2   EventTimestamp  244126 non-null  int64 \n",
      " 3   ExpId           244126 non-null  int64 \n",
      "dtypes: int64(3), object(1)\n",
      "memory usage: 7.5+ MB\n"
     ]
    }
   ],
   "source": [
    "df.info()"
   ]
  },
  {
   "cell_type": "code",
   "execution_count": 4,
   "metadata": {},
   "outputs": [
    {
     "data": {
      "text/plain": [
       "413"
      ]
     },
     "execution_count": 4,
     "metadata": {},
     "output_type": "execute_result"
    }
   ],
   "source": [
    "df.duplicated().sum()"
   ]
  },
  {
   "cell_type": "code",
   "execution_count": 5,
   "metadata": {},
   "outputs": [
    {
     "data": {
      "text/plain": [
       "EventName         0\n",
       "DeviceIDHash      0\n",
       "EventTimestamp    0\n",
       "ExpId             0\n",
       "dtype: int64"
      ]
     },
     "execution_count": 5,
     "metadata": {},
     "output_type": "execute_result"
    }
   ],
   "source": [
    "df.isna().sum()"
   ]
  },
  {
   "cell_type": "markdown",
   "metadata": {},
   "source": [
    "#### Вывод \n",
    "Открыли фаил, просмотрели содержание стобцов. проверили на дубликаты. Преступаем к обработке."
   ]
  },
  {
   "cell_type": "markdown",
   "metadata": {},
   "source": [
    "### Подготовка данныx."
   ]
  },
  {
   "cell_type": "code",
   "execution_count": 6,
   "metadata": {},
   "outputs": [
    {
     "data": {
      "text/html": [
       "<div>\n",
       "<style scoped>\n",
       "    .dataframe tbody tr th:only-of-type {\n",
       "        vertical-align: middle;\n",
       "    }\n",
       "\n",
       "    .dataframe tbody tr th {\n",
       "        vertical-align: top;\n",
       "    }\n",
       "\n",
       "    .dataframe thead th {\n",
       "        text-align: right;\n",
       "    }\n",
       "</style>\n",
       "<table border=\"1\" class=\"dataframe\">\n",
       "  <thead>\n",
       "    <tr style=\"text-align: right;\">\n",
       "      <th></th>\n",
       "      <th>event_name</th>\n",
       "      <th>device_id</th>\n",
       "      <th>timestamp</th>\n",
       "      <th>exp_id</th>\n",
       "    </tr>\n",
       "  </thead>\n",
       "  <tbody>\n",
       "    <tr>\n",
       "      <th>0</th>\n",
       "      <td>MainScreenAppear</td>\n",
       "      <td>4575588528974610257</td>\n",
       "      <td>1564029816</td>\n",
       "      <td>246</td>\n",
       "    </tr>\n",
       "    <tr>\n",
       "      <th>1</th>\n",
       "      <td>MainScreenAppear</td>\n",
       "      <td>7416695313311560658</td>\n",
       "      <td>1564053102</td>\n",
       "      <td>246</td>\n",
       "    </tr>\n",
       "    <tr>\n",
       "      <th>2</th>\n",
       "      <td>PaymentScreenSuccessful</td>\n",
       "      <td>3518123091307005509</td>\n",
       "      <td>1564054127</td>\n",
       "      <td>248</td>\n",
       "    </tr>\n",
       "    <tr>\n",
       "      <th>3</th>\n",
       "      <td>CartScreenAppear</td>\n",
       "      <td>3518123091307005509</td>\n",
       "      <td>1564054127</td>\n",
       "      <td>248</td>\n",
       "    </tr>\n",
       "    <tr>\n",
       "      <th>4</th>\n",
       "      <td>PaymentScreenSuccessful</td>\n",
       "      <td>6217807653094995999</td>\n",
       "      <td>1564055322</td>\n",
       "      <td>248</td>\n",
       "    </tr>\n",
       "  </tbody>\n",
       "</table>\n",
       "</div>"
      ],
      "text/plain": [
       "                event_name            device_id   timestamp  exp_id\n",
       "0         MainScreenAppear  4575588528974610257  1564029816     246\n",
       "1         MainScreenAppear  7416695313311560658  1564053102     246\n",
       "2  PaymentScreenSuccessful  3518123091307005509  1564054127     248\n",
       "3         CartScreenAppear  3518123091307005509  1564054127     248\n",
       "4  PaymentScreenSuccessful  6217807653094995999  1564055322     248"
      ]
     },
     "execution_count": 6,
     "metadata": {},
     "output_type": "execute_result"
    }
   ],
   "source": [
    "df.columns=['event_name','device_id','timestamp','exp_id'] # преимоновываем столбцы\n",
    "df.head(5)"
   ]
  },
  {
   "cell_type": "code",
   "execution_count": 7,
   "metadata": {
    "scrolled": true
   },
   "outputs": [
    {
     "data": {
      "text/html": [
       "<div>\n",
       "<style scoped>\n",
       "    .dataframe tbody tr th:only-of-type {\n",
       "        vertical-align: middle;\n",
       "    }\n",
       "\n",
       "    .dataframe tbody tr th {\n",
       "        vertical-align: top;\n",
       "    }\n",
       "\n",
       "    .dataframe thead th {\n",
       "        text-align: right;\n",
       "    }\n",
       "</style>\n",
       "<table border=\"1\" class=\"dataframe\">\n",
       "  <thead>\n",
       "    <tr style=\"text-align: right;\">\n",
       "      <th></th>\n",
       "      <th>event_name</th>\n",
       "      <th>device_id</th>\n",
       "      <th>timestamp</th>\n",
       "      <th>exp_id</th>\n",
       "      <th>date_time</th>\n",
       "    </tr>\n",
       "  </thead>\n",
       "  <tbody>\n",
       "    <tr>\n",
       "      <th>0</th>\n",
       "      <td>MainScreenAppear</td>\n",
       "      <td>4575588528974610257</td>\n",
       "      <td>1564029816</td>\n",
       "      <td>246</td>\n",
       "      <td>2019-07-25 04:43:36</td>\n",
       "    </tr>\n",
       "    <tr>\n",
       "      <th>1</th>\n",
       "      <td>MainScreenAppear</td>\n",
       "      <td>7416695313311560658</td>\n",
       "      <td>1564053102</td>\n",
       "      <td>246</td>\n",
       "      <td>2019-07-25 11:11:42</td>\n",
       "    </tr>\n",
       "    <tr>\n",
       "      <th>2</th>\n",
       "      <td>PaymentScreenSuccessful</td>\n",
       "      <td>3518123091307005509</td>\n",
       "      <td>1564054127</td>\n",
       "      <td>248</td>\n",
       "      <td>2019-07-25 11:28:47</td>\n",
       "    </tr>\n",
       "    <tr>\n",
       "      <th>3</th>\n",
       "      <td>CartScreenAppear</td>\n",
       "      <td>3518123091307005509</td>\n",
       "      <td>1564054127</td>\n",
       "      <td>248</td>\n",
       "      <td>2019-07-25 11:28:47</td>\n",
       "    </tr>\n",
       "    <tr>\n",
       "      <th>4</th>\n",
       "      <td>PaymentScreenSuccessful</td>\n",
       "      <td>6217807653094995999</td>\n",
       "      <td>1564055322</td>\n",
       "      <td>248</td>\n",
       "      <td>2019-07-25 11:48:42</td>\n",
       "    </tr>\n",
       "  </tbody>\n",
       "</table>\n",
       "</div>"
      ],
      "text/plain": [
       "                event_name            device_id   timestamp  exp_id  \\\n",
       "0         MainScreenAppear  4575588528974610257  1564029816     246   \n",
       "1         MainScreenAppear  7416695313311560658  1564053102     246   \n",
       "2  PaymentScreenSuccessful  3518123091307005509  1564054127     248   \n",
       "3         CartScreenAppear  3518123091307005509  1564054127     248   \n",
       "4  PaymentScreenSuccessful  6217807653094995999  1564055322     248   \n",
       "\n",
       "            date_time  \n",
       "0 2019-07-25 04:43:36  \n",
       "1 2019-07-25 11:11:42  \n",
       "2 2019-07-25 11:28:47  \n",
       "3 2019-07-25 11:28:47  \n",
       "4 2019-07-25 11:48:42  "
      ]
     },
     "execution_count": 7,
     "metadata": {},
     "output_type": "execute_result"
    }
   ],
   "source": [
    "df['date_time']= pd.to_datetime(df['timestamp'],unit='s') #добавляем столбецдаты и времени\n",
    "df.head(5)"
   ]
  },
  {
   "cell_type": "code",
   "execution_count": 8,
   "metadata": {
    "scrolled": true
   },
   "outputs": [
    {
     "data": {
      "text/html": [
       "<div>\n",
       "<style scoped>\n",
       "    .dataframe tbody tr th:only-of-type {\n",
       "        vertical-align: middle;\n",
       "    }\n",
       "\n",
       "    .dataframe tbody tr th {\n",
       "        vertical-align: top;\n",
       "    }\n",
       "\n",
       "    .dataframe thead th {\n",
       "        text-align: right;\n",
       "    }\n",
       "</style>\n",
       "<table border=\"1\" class=\"dataframe\">\n",
       "  <thead>\n",
       "    <tr style=\"text-align: right;\">\n",
       "      <th></th>\n",
       "      <th>event_name</th>\n",
       "      <th>device_id</th>\n",
       "      <th>timestamp</th>\n",
       "      <th>exp_id</th>\n",
       "      <th>date_time</th>\n",
       "      <th>date</th>\n",
       "    </tr>\n",
       "  </thead>\n",
       "  <tbody>\n",
       "    <tr>\n",
       "      <th>0</th>\n",
       "      <td>MainScreenAppear</td>\n",
       "      <td>4575588528974610257</td>\n",
       "      <td>1564029816</td>\n",
       "      <td>246</td>\n",
       "      <td>2019-07-25 04:43:36</td>\n",
       "      <td>2019-07-25</td>\n",
       "    </tr>\n",
       "    <tr>\n",
       "      <th>1</th>\n",
       "      <td>MainScreenAppear</td>\n",
       "      <td>7416695313311560658</td>\n",
       "      <td>1564053102</td>\n",
       "      <td>246</td>\n",
       "      <td>2019-07-25 11:11:42</td>\n",
       "      <td>2019-07-25</td>\n",
       "    </tr>\n",
       "    <tr>\n",
       "      <th>2</th>\n",
       "      <td>PaymentScreenSuccessful</td>\n",
       "      <td>3518123091307005509</td>\n",
       "      <td>1564054127</td>\n",
       "      <td>248</td>\n",
       "      <td>2019-07-25 11:28:47</td>\n",
       "      <td>2019-07-25</td>\n",
       "    </tr>\n",
       "    <tr>\n",
       "      <th>3</th>\n",
       "      <td>CartScreenAppear</td>\n",
       "      <td>3518123091307005509</td>\n",
       "      <td>1564054127</td>\n",
       "      <td>248</td>\n",
       "      <td>2019-07-25 11:28:47</td>\n",
       "      <td>2019-07-25</td>\n",
       "    </tr>\n",
       "    <tr>\n",
       "      <th>4</th>\n",
       "      <td>PaymentScreenSuccessful</td>\n",
       "      <td>6217807653094995999</td>\n",
       "      <td>1564055322</td>\n",
       "      <td>248</td>\n",
       "      <td>2019-07-25 11:48:42</td>\n",
       "      <td>2019-07-25</td>\n",
       "    </tr>\n",
       "  </tbody>\n",
       "</table>\n",
       "</div>"
      ],
      "text/plain": [
       "                event_name            device_id   timestamp  exp_id  \\\n",
       "0         MainScreenAppear  4575588528974610257  1564029816     246   \n",
       "1         MainScreenAppear  7416695313311560658  1564053102     246   \n",
       "2  PaymentScreenSuccessful  3518123091307005509  1564054127     248   \n",
       "3         CartScreenAppear  3518123091307005509  1564054127     248   \n",
       "4  PaymentScreenSuccessful  6217807653094995999  1564055322     248   \n",
       "\n",
       "            date_time        date  \n",
       "0 2019-07-25 04:43:36  2019-07-25  \n",
       "1 2019-07-25 11:11:42  2019-07-25  \n",
       "2 2019-07-25 11:28:47  2019-07-25  \n",
       "3 2019-07-25 11:28:47  2019-07-25  \n",
       "4 2019-07-25 11:48:42  2019-07-25  "
      ]
     },
     "execution_count": 8,
     "metadata": {},
     "output_type": "execute_result"
    }
   ],
   "source": [
    "df['date']=df['date_time'].dt.date # добовляем столбец даты\n",
    "df.head(5)\n"
   ]
  },
  {
   "cell_type": "code",
   "execution_count": 9,
   "metadata": {},
   "outputs": [
    {
     "name": "stdout",
     "output_type": "stream",
     "text": [
      "<class 'pandas.core.frame.DataFrame'>\n",
      "RangeIndex: 244126 entries, 0 to 244125\n",
      "Data columns (total 6 columns):\n",
      " #   Column      Non-Null Count   Dtype         \n",
      "---  ------      --------------   -----         \n",
      " 0   event_name  244126 non-null  object        \n",
      " 1   device_id   244126 non-null  int64         \n",
      " 2   timestamp   244126 non-null  int64         \n",
      " 3   exp_id      244126 non-null  int64         \n",
      " 4   date_time   244126 non-null  datetime64[ns]\n",
      " 5   date        244126 non-null  object        \n",
      "dtypes: datetime64[ns](1), int64(3), object(2)\n",
      "memory usage: 11.2+ MB\n"
     ]
    }
   ],
   "source": [
    "df.info()"
   ]
  },
  {
   "cell_type": "code",
   "execution_count": 10,
   "metadata": {
    "scrolled": true
   },
   "outputs": [
    {
     "name": "stdout",
     "output_type": "stream",
     "text": [
      "<class 'pandas.core.frame.DataFrame'>\n",
      "RangeIndex: 244126 entries, 0 to 244125\n",
      "Data columns (total 6 columns):\n",
      " #   Column      Non-Null Count   Dtype         \n",
      "---  ------      --------------   -----         \n",
      " 0   event_name  244126 non-null  object        \n",
      " 1   device_id   244126 non-null  int64         \n",
      " 2   timestamp   244126 non-null  int64         \n",
      " 3   exp_id      244126 non-null  int64         \n",
      " 4   date_time   244126 non-null  datetime64[ns]\n",
      " 5   date        244126 non-null  datetime64[ns]\n",
      "dtypes: datetime64[ns](2), int64(3), object(1)\n",
      "memory usage: 11.2+ MB\n"
     ]
    }
   ],
   "source": [
    "df['date']=df['date'].astype('datetime64') # преобразовываем тип столбца date\n",
    "df.info()\n"
   ]
  },
  {
   "cell_type": "code",
   "execution_count": 11,
   "metadata": {
    "scrolled": false
   },
   "outputs": [
    {
     "data": {
      "text/html": [
       "<div>\n",
       "<style scoped>\n",
       "    .dataframe tbody tr th:only-of-type {\n",
       "        vertical-align: middle;\n",
       "    }\n",
       "\n",
       "    .dataframe tbody tr th {\n",
       "        vertical-align: top;\n",
       "    }\n",
       "\n",
       "    .dataframe thead th {\n",
       "        text-align: right;\n",
       "    }\n",
       "</style>\n",
       "<table border=\"1\" class=\"dataframe\">\n",
       "  <thead>\n",
       "    <tr style=\"text-align: right;\">\n",
       "      <th></th>\n",
       "      <th>event_name</th>\n",
       "      <th>device_id</th>\n",
       "      <th>timestamp</th>\n",
       "      <th>exp_id</th>\n",
       "      <th>date_time</th>\n",
       "      <th>date</th>\n",
       "    </tr>\n",
       "  </thead>\n",
       "  <tbody>\n",
       "    <tr>\n",
       "      <th>0</th>\n",
       "      <td>MainScreenAppear</td>\n",
       "      <td>4575588528974610257</td>\n",
       "      <td>1564029816</td>\n",
       "      <td>246</td>\n",
       "      <td>2019-07-25 04:43:36</td>\n",
       "      <td>2019-07-25</td>\n",
       "    </tr>\n",
       "    <tr>\n",
       "      <th>1</th>\n",
       "      <td>MainScreenAppear</td>\n",
       "      <td>7416695313311560658</td>\n",
       "      <td>1564053102</td>\n",
       "      <td>246</td>\n",
       "      <td>2019-07-25 11:11:42</td>\n",
       "      <td>2019-07-25</td>\n",
       "    </tr>\n",
       "    <tr>\n",
       "      <th>2</th>\n",
       "      <td>PaymentScreenSuccessful</td>\n",
       "      <td>3518123091307005509</td>\n",
       "      <td>1564054127</td>\n",
       "      <td>248</td>\n",
       "      <td>2019-07-25 11:28:47</td>\n",
       "      <td>2019-07-25</td>\n",
       "    </tr>\n",
       "    <tr>\n",
       "      <th>3</th>\n",
       "      <td>CartScreenAppear</td>\n",
       "      <td>3518123091307005509</td>\n",
       "      <td>1564054127</td>\n",
       "      <td>248</td>\n",
       "      <td>2019-07-25 11:28:47</td>\n",
       "      <td>2019-07-25</td>\n",
       "    </tr>\n",
       "    <tr>\n",
       "      <th>4</th>\n",
       "      <td>PaymentScreenSuccessful</td>\n",
       "      <td>6217807653094995999</td>\n",
       "      <td>1564055322</td>\n",
       "      <td>248</td>\n",
       "      <td>2019-07-25 11:48:42</td>\n",
       "      <td>2019-07-25</td>\n",
       "    </tr>\n",
       "    <tr>\n",
       "      <th>...</th>\n",
       "      <td>...</td>\n",
       "      <td>...</td>\n",
       "      <td>...</td>\n",
       "      <td>...</td>\n",
       "      <td>...</td>\n",
       "      <td>...</td>\n",
       "    </tr>\n",
       "    <tr>\n",
       "      <th>243708</th>\n",
       "      <td>MainScreenAppear</td>\n",
       "      <td>4599628364049201812</td>\n",
       "      <td>1565212345</td>\n",
       "      <td>247</td>\n",
       "      <td>2019-08-07 21:12:25</td>\n",
       "      <td>2019-08-07</td>\n",
       "    </tr>\n",
       "    <tr>\n",
       "      <th>243709</th>\n",
       "      <td>MainScreenAppear</td>\n",
       "      <td>5849806612437486590</td>\n",
       "      <td>1565212439</td>\n",
       "      <td>246</td>\n",
       "      <td>2019-08-07 21:13:59</td>\n",
       "      <td>2019-08-07</td>\n",
       "    </tr>\n",
       "    <tr>\n",
       "      <th>243710</th>\n",
       "      <td>MainScreenAppear</td>\n",
       "      <td>5746969938801999050</td>\n",
       "      <td>1565212483</td>\n",
       "      <td>246</td>\n",
       "      <td>2019-08-07 21:14:43</td>\n",
       "      <td>2019-08-07</td>\n",
       "    </tr>\n",
       "    <tr>\n",
       "      <th>243711</th>\n",
       "      <td>MainScreenAppear</td>\n",
       "      <td>5746969938801999050</td>\n",
       "      <td>1565212498</td>\n",
       "      <td>246</td>\n",
       "      <td>2019-08-07 21:14:58</td>\n",
       "      <td>2019-08-07</td>\n",
       "    </tr>\n",
       "    <tr>\n",
       "      <th>243712</th>\n",
       "      <td>OffersScreenAppear</td>\n",
       "      <td>5746969938801999050</td>\n",
       "      <td>1565212517</td>\n",
       "      <td>246</td>\n",
       "      <td>2019-08-07 21:15:17</td>\n",
       "      <td>2019-08-07</td>\n",
       "    </tr>\n",
       "  </tbody>\n",
       "</table>\n",
       "<p>243713 rows × 6 columns</p>\n",
       "</div>"
      ],
      "text/plain": [
       "                     event_name            device_id   timestamp  exp_id  \\\n",
       "0              MainScreenAppear  4575588528974610257  1564029816     246   \n",
       "1              MainScreenAppear  7416695313311560658  1564053102     246   \n",
       "2       PaymentScreenSuccessful  3518123091307005509  1564054127     248   \n",
       "3              CartScreenAppear  3518123091307005509  1564054127     248   \n",
       "4       PaymentScreenSuccessful  6217807653094995999  1564055322     248   \n",
       "...                         ...                  ...         ...     ...   \n",
       "243708         MainScreenAppear  4599628364049201812  1565212345     247   \n",
       "243709         MainScreenAppear  5849806612437486590  1565212439     246   \n",
       "243710         MainScreenAppear  5746969938801999050  1565212483     246   \n",
       "243711         MainScreenAppear  5746969938801999050  1565212498     246   \n",
       "243712       OffersScreenAppear  5746969938801999050  1565212517     246   \n",
       "\n",
       "                 date_time       date  \n",
       "0      2019-07-25 04:43:36 2019-07-25  \n",
       "1      2019-07-25 11:11:42 2019-07-25  \n",
       "2      2019-07-25 11:28:47 2019-07-25  \n",
       "3      2019-07-25 11:28:47 2019-07-25  \n",
       "4      2019-07-25 11:48:42 2019-07-25  \n",
       "...                    ...        ...  \n",
       "243708 2019-08-07 21:12:25 2019-08-07  \n",
       "243709 2019-08-07 21:13:59 2019-08-07  \n",
       "243710 2019-08-07 21:14:43 2019-08-07  \n",
       "243711 2019-08-07 21:14:58 2019-08-07  \n",
       "243712 2019-08-07 21:15:17 2019-08-07  \n",
       "\n",
       "[243713 rows x 6 columns]"
      ]
     },
     "execution_count": 11,
     "metadata": {},
     "output_type": "execute_result"
    }
   ],
   "source": [
    "df=df.drop_duplicates()  # удаляем дубликаты, процент потери маленький можно спокойно удалить.\n",
    "df=df.reset_index(drop=True)\n",
    "df"
   ]
  },
  {
   "cell_type": "markdown",
   "metadata": {},
   "source": [
    "#### Вывод.\n",
    "*В ходе обработки были добавлены столбцы date, и date_time. Заменены названия столбцов. Удалены дубликаты. Изменен тип данных в столбце date.*"
   ]
  },
  {
   "cell_type": "markdown",
   "metadata": {},
   "source": [
    "### Изучить и проверить данные."
   ]
  },
  {
   "cell_type": "markdown",
   "metadata": {},
   "source": [
    "#### Кол-во событий в логе."
   ]
  },
  {
   "cell_type": "code",
   "execution_count": 12,
   "metadata": {},
   "outputs": [
    {
     "name": "stdout",
     "output_type": "stream",
     "text": [
      "Всего кол-во событий в логе 243713\n",
      "MainScreenAppear           119101\n",
      "OffersScreenAppear          46808\n",
      "CartScreenAppear            42668\n",
      "PaymentScreenSuccessful     34118\n",
      "Tutorial                     1018\n",
      "Name: event_name, dtype: int64\n"
     ]
    }
   ],
   "source": [
    "count_events=df['event_name'].count()\n",
    "print('Всего кол-во событий в логе',  count_events)\n",
    "print(df['event_name'].value_counts())"
   ]
  },
  {
   "cell_type": "markdown",
   "metadata": {},
   "source": [
    "#### Кол-во пользоватей в логе."
   ]
  },
  {
   "cell_type": "code",
   "execution_count": 13,
   "metadata": {},
   "outputs": [
    {
     "name": "stdout",
     "output_type": "stream",
     "text": [
      "Всего пользователе в логе 7551\n"
     ]
    }
   ],
   "source": [
    "users=df['device_id'].nunique()\n",
    "print('Всего пользователе в логе',users)"
   ]
  },
  {
   "cell_type": "markdown",
   "metadata": {},
   "source": [
    "#### Сколько в среднем событий приходится на пользователя?"
   ]
  },
  {
   "cell_type": "code",
   "execution_count": 14,
   "metadata": {},
   "outputs": [
    {
     "name": "stdout",
     "output_type": "stream",
     "text": [
      "Средне кол-во событий  на ползователя= 32.0\n"
     ]
    }
   ],
   "source": [
    "print('Средне кол-во событий  на ползователя=', (count_events/users).round())"
   ]
  },
  {
   "cell_type": "code",
   "execution_count": 15,
   "metadata": {},
   "outputs": [
    {
     "data": {
      "text/plain": [
       "count    7551.000000\n",
       "mean       32.275593\n",
       "std        65.154219\n",
       "min         1.000000\n",
       "25%         9.000000\n",
       "50%        20.000000\n",
       "75%        37.000000\n",
       "max      2307.000000\n",
       "Name: event_name, dtype: float64"
      ]
     },
     "execution_count": 15,
     "metadata": {},
     "output_type": "execute_result"
    }
   ],
   "source": [
    "cnt_us_ev=df.groupby('device_id')['event_name'].count()\n",
    "cnt_us_ev.describe()"
   ]
  },
  {
   "cell_type": "code",
   "execution_count": 16,
   "metadata": {},
   "outputs": [
    {
     "data": {
      "image/png": "[encoded data removed]",
      "text/plain": [
       "<Figure size 1500x400 with 1 Axes>"
      ]
     },
     "metadata": {},
     "output_type": "display_data"
    }
   ],
   "source": [
    "plt.figure(figsize=(15,4))\n",
    "plt.hist(cnt_us_ev, bins=100, range=(200,2310)) \n",
    "plt.xlabel('Кол-во пользователей')\n",
    "plt.grid()\n",
    "plt.ylabel('Кол-во событий')\n",
    "plt.title('Кол-ва событий на пользователя');"
   ]
  },
  {
   "cell_type": "markdown",
   "metadata": {},
   "source": [
    "*На гистограмме видно, что есть множество выбросов, что влияет на показания среднего, лучше взять медианное значение. Медианное значение  кол-во событий на пользователя =20*\n"
   ]
  },
  {
   "cell_type": "markdown",
   "metadata": {},
   "source": [
    "#### Изучить временной период."
   ]
  },
  {
   "cell_type": "code",
   "execution_count": 17,
   "metadata": {},
   "outputs": [
    {
     "data": {
      "text/plain": [
       "Timestamp('2019-07-25 00:00:00')"
      ]
     },
     "metadata": {},
     "output_type": "display_data"
    },
    {
     "data": {
      "text/plain": [
       "Timestamp('2019-08-07 00:00:00')"
      ]
     },
     "metadata": {},
     "output_type": "display_data"
    },
    {
     "name": "stdout",
     "output_type": "stream",
     "text": [
      "Приод:13 days 00:00:00\n"
     ]
    }
   ],
   "source": [
    "display(df['date'].min(),df['date'].max())\n",
    "print(f\"Приод:{df['date'].max()- df['date'].min()}\")"
   ]
  },
  {
   "cell_type": "code",
   "execution_count": 18,
   "metadata": {
    "scrolled": false
   },
   "outputs": [
    {
     "data": {
      "image/png": "[encoded data removed]",
      "text/plain": [
       "<Figure size 2000x500 with 1 Axes>"
      ]
     },
     "metadata": {},
     "output_type": "display_data"
    }
   ],
   "source": [
    "plt.figure(figsize=(20,5))\n",
    "plt.grid()\n",
    "df['date_time'].hist(edgecolor='black')\n",
    "plt.xlabel('Дата')\n",
    "plt.ylabel('Кол-во событий')\n",
    "plt.title('Распределение событий по времени');\n",
    "plt.show();\n"
   ]
  },
  {
   "cell_type": "markdown",
   "metadata": {},
   "source": [
    "*На гистограмме видно что начало месяца данных было мало (возможно их не собирали) с 1 августа данных стало больше, посмотрим распределение если убрать начало месяца.*"
   ]
  },
  {
   "cell_type": "code",
   "execution_count": 19,
   "metadata": {
    "scrolled": false
   },
   "outputs": [
    {
     "data": {
      "image/png": "[encoded data removed]",
      "text/plain": [
       "<Figure size 2000x500 with 1 Axes>"
      ]
     },
     "metadata": {},
     "output_type": "display_data"
    }
   ],
   "source": [
    "df_new=df.loc[df['date_time']>'2019-08-01']\n",
    "plt.figure(figsize=(20,5))\n",
    "plt.grid()\n",
    "df_new['date_time'].hist(edgecolor='black')\n",
    "plt.xlabel('Дата')\n",
    "plt.ylabel('Кол-во событий')\n",
    "plt.title('Распределение событий по времени');\n",
    "\n",
    "plt.show();"
   ]
  },
  {
   "cell_type": "markdown",
   "metadata": {},
   "source": [
    "*С 1 августа у нас плотные данные. Первую неделю можно отбросить. Будем считать что у нас есть данные с 1 по 7 августа*"
   ]
  },
  {
   "cell_type": "code",
   "execution_count": 20,
   "metadata": {
    "scrolled": false
   },
   "outputs": [
    {
     "data": {
      "text/html": [
       "<div>\n",
       "<style scoped>\n",
       "    .dataframe tbody tr th:only-of-type {\n",
       "        vertical-align: middle;\n",
       "    }\n",
       "\n",
       "    .dataframe tbody tr th {\n",
       "        vertical-align: top;\n",
       "    }\n",
       "\n",
       "    .dataframe thead th {\n",
       "        text-align: right;\n",
       "    }\n",
       "</style>\n",
       "<table border=\"1\" class=\"dataframe\">\n",
       "  <thead>\n",
       "    <tr style=\"text-align: right;\">\n",
       "      <th></th>\n",
       "      <th>event_name</th>\n",
       "      <th>device_id</th>\n",
       "      <th>timestamp</th>\n",
       "      <th>exp_id</th>\n",
       "      <th>date_time</th>\n",
       "      <th>date</th>\n",
       "    </tr>\n",
       "  </thead>\n",
       "  <tbody>\n",
       "    <tr>\n",
       "      <th>0</th>\n",
       "      <td>Tutorial</td>\n",
       "      <td>3737462046622621720</td>\n",
       "      <td>1564618048</td>\n",
       "      <td>246</td>\n",
       "      <td>2019-08-01 00:07:28</td>\n",
       "      <td>2019-08-01</td>\n",
       "    </tr>\n",
       "    <tr>\n",
       "      <th>1</th>\n",
       "      <td>MainScreenAppear</td>\n",
       "      <td>3737462046622621720</td>\n",
       "      <td>1564618080</td>\n",
       "      <td>246</td>\n",
       "      <td>2019-08-01 00:08:00</td>\n",
       "      <td>2019-08-01</td>\n",
       "    </tr>\n",
       "    <tr>\n",
       "      <th>2</th>\n",
       "      <td>MainScreenAppear</td>\n",
       "      <td>3737462046622621720</td>\n",
       "      <td>1564618135</td>\n",
       "      <td>246</td>\n",
       "      <td>2019-08-01 00:08:55</td>\n",
       "      <td>2019-08-01</td>\n",
       "    </tr>\n",
       "    <tr>\n",
       "      <th>3</th>\n",
       "      <td>OffersScreenAppear</td>\n",
       "      <td>3737462046622621720</td>\n",
       "      <td>1564618138</td>\n",
       "      <td>246</td>\n",
       "      <td>2019-08-01 00:08:58</td>\n",
       "      <td>2019-08-01</td>\n",
       "    </tr>\n",
       "    <tr>\n",
       "      <th>4</th>\n",
       "      <td>MainScreenAppear</td>\n",
       "      <td>1433840883824088890</td>\n",
       "      <td>1564618139</td>\n",
       "      <td>247</td>\n",
       "      <td>2019-08-01 00:08:59</td>\n",
       "      <td>2019-08-01</td>\n",
       "    </tr>\n",
       "    <tr>\n",
       "      <th>...</th>\n",
       "      <td>...</td>\n",
       "      <td>...</td>\n",
       "      <td>...</td>\n",
       "      <td>...</td>\n",
       "      <td>...</td>\n",
       "      <td>...</td>\n",
       "    </tr>\n",
       "    <tr>\n",
       "      <th>240882</th>\n",
       "      <td>MainScreenAppear</td>\n",
       "      <td>4599628364049201812</td>\n",
       "      <td>1565212345</td>\n",
       "      <td>247</td>\n",
       "      <td>2019-08-07 21:12:25</td>\n",
       "      <td>2019-08-07</td>\n",
       "    </tr>\n",
       "    <tr>\n",
       "      <th>240883</th>\n",
       "      <td>MainScreenAppear</td>\n",
       "      <td>5849806612437486590</td>\n",
       "      <td>1565212439</td>\n",
       "      <td>246</td>\n",
       "      <td>2019-08-07 21:13:59</td>\n",
       "      <td>2019-08-07</td>\n",
       "    </tr>\n",
       "    <tr>\n",
       "      <th>240884</th>\n",
       "      <td>MainScreenAppear</td>\n",
       "      <td>5746969938801999050</td>\n",
       "      <td>1565212483</td>\n",
       "      <td>246</td>\n",
       "      <td>2019-08-07 21:14:43</td>\n",
       "      <td>2019-08-07</td>\n",
       "    </tr>\n",
       "    <tr>\n",
       "      <th>240885</th>\n",
       "      <td>MainScreenAppear</td>\n",
       "      <td>5746969938801999050</td>\n",
       "      <td>1565212498</td>\n",
       "      <td>246</td>\n",
       "      <td>2019-08-07 21:14:58</td>\n",
       "      <td>2019-08-07</td>\n",
       "    </tr>\n",
       "    <tr>\n",
       "      <th>240886</th>\n",
       "      <td>OffersScreenAppear</td>\n",
       "      <td>5746969938801999050</td>\n",
       "      <td>1565212517</td>\n",
       "      <td>246</td>\n",
       "      <td>2019-08-07 21:15:17</td>\n",
       "      <td>2019-08-07</td>\n",
       "    </tr>\n",
       "  </tbody>\n",
       "</table>\n",
       "<p>240887 rows × 6 columns</p>\n",
       "</div>"
      ],
      "text/plain": [
       "                event_name            device_id   timestamp  exp_id  \\\n",
       "0                 Tutorial  3737462046622621720  1564618048     246   \n",
       "1         MainScreenAppear  3737462046622621720  1564618080     246   \n",
       "2         MainScreenAppear  3737462046622621720  1564618135     246   \n",
       "3       OffersScreenAppear  3737462046622621720  1564618138     246   \n",
       "4         MainScreenAppear  1433840883824088890  1564618139     247   \n",
       "...                    ...                  ...         ...     ...   \n",
       "240882    MainScreenAppear  4599628364049201812  1565212345     247   \n",
       "240883    MainScreenAppear  5849806612437486590  1565212439     246   \n",
       "240884    MainScreenAppear  5746969938801999050  1565212483     246   \n",
       "240885    MainScreenAppear  5746969938801999050  1565212498     246   \n",
       "240886  OffersScreenAppear  5746969938801999050  1565212517     246   \n",
       "\n",
       "                 date_time       date  \n",
       "0      2019-08-01 00:07:28 2019-08-01  \n",
       "1      2019-08-01 00:08:00 2019-08-01  \n",
       "2      2019-08-01 00:08:55 2019-08-01  \n",
       "3      2019-08-01 00:08:58 2019-08-01  \n",
       "4      2019-08-01 00:08:59 2019-08-01  \n",
       "...                    ...        ...  \n",
       "240882 2019-08-07 21:12:25 2019-08-07  \n",
       "240883 2019-08-07 21:13:59 2019-08-07  \n",
       "240884 2019-08-07 21:14:43 2019-08-07  \n",
       "240885 2019-08-07 21:14:58 2019-08-07  \n",
       "240886 2019-08-07 21:15:17 2019-08-07  \n",
       "\n",
       "[240887 rows x 6 columns]"
      ]
     },
     "execution_count": 20,
     "metadata": {},
     "output_type": "execute_result"
    }
   ],
   "source": [
    "df=df.loc[df['date_time']>'2019-08-1'].reset_index(drop=True) # удаляем данные за первую неделю.\n",
    "df.sort_values(by='date_time')"
   ]
  },
  {
   "cell_type": "code",
   "execution_count": 21,
   "metadata": {
    "scrolled": true
   },
   "outputs": [
    {
     "name": "stdout",
     "output_type": "stream",
     "text": [
      "Кол-во потерянных пользователй 17\n",
      "Процент потери пользователей 0.23\n",
      "Кол-во потерянных событий 2826\n",
      "Процент потри событий 1.16\n"
     ]
    }
   ],
   "source": [
    "new_users=df['device_id'].nunique()\n",
    "loss_users=users-new_users\n",
    "print('Кол-во потерянных пользователй',loss_users)\n",
    "print('Процент потери пользователей',round((users-new_users)/users*100,2))\n",
    "\n",
    "new_count_events=df['event_name'].count()\n",
    "loss_event=count_events-new_count_events\n",
    "print('Кол-во потерянных событий',loss_event)\n",
    "print('Процент потри событий',round((count_events-new_count_events)/count_events*100,2))"
   ]
  },
  {
   "cell_type": "markdown",
   "metadata": {},
   "source": [
    "**Убрав данные с 25 июля по 1 августа. Мы потеряли  9 поьзователй(0.23% от общей массы) и 796 событий(1.16% от общей массы). Это не значительные  потери.**"
   ]
  },
  {
   "cell_type": "markdown",
   "metadata": {},
   "source": [
    "#### Проверка эксперементальных групп."
   ]
  },
  {
   "cell_type": "code",
   "execution_count": 22,
   "metadata": {},
   "outputs": [
    {
     "data": {
      "text/plain": [
       "248    84563\n",
       "246    79302\n",
       "247    77022\n",
       "Name: exp_id, dtype: int64"
      ]
     },
     "execution_count": 22,
     "metadata": {},
     "output_type": "execute_result"
    }
   ],
   "source": [
    "df['exp_id'].value_counts()"
   ]
  },
  {
   "cell_type": "code",
   "execution_count": 23,
   "metadata": {},
   "outputs": [
    {
     "data": {
      "text/plain": [
       "exp_id\n",
       "246    2484\n",
       "247    2513\n",
       "248    2537\n",
       "Name: device_id, dtype: int64"
      ]
     },
     "execution_count": 23,
     "metadata": {},
     "output_type": "execute_result"
    }
   ],
   "source": [
    "df.groupby('exp_id')['device_id'].nunique()"
   ]
  },
  {
   "cell_type": "code",
   "execution_count": 24,
   "metadata": {},
   "outputs": [
    {
     "data": {
      "text/plain": [
       "exp_id    0\n",
       "dtype: int64"
      ]
     },
     "execution_count": 24,
     "metadata": {},
     "output_type": "execute_result"
    }
   ],
   "source": [
    "df.groupby('device_id').agg({'exp_id':'nunique'}).query('exp_id>1').count()\n",
    "\n"
   ]
  },
  {
   "cell_type": "markdown",
   "metadata": {},
   "source": [
    "*Пользователи разделены между группы практически равномерно. Проверили чтоб группах не было одних и тех же пользователей*"
   ]
  },
  {
   "cell_type": "markdown",
   "metadata": {},
   "source": [
    "#### Вывод.\n",
    "*Рассмотрев за какой период нам предоставлены данные (25.07.2019-07.08.2019). Определили, что до 1 августа данные собирались плохо и эти данные для нас не пригодны. Для дальнейшего исследования берем данные начиная с 1 августа. После удаления первой недели мы потеряли 0.12% пользователей и 0.33% событий, что не очень большая потеря для общей массы. Проверили чтоб в данных не было пользователей, которые учувствуют во всех трех группах. Распределение между группами практически равномерно около 2500 тыс., а событий примерно по 80 тыс.*"
   ]
  },
  {
   "cell_type": "markdown",
   "metadata": {},
   "source": [
    "### Изучить воронку событий."
   ]
  },
  {
   "cell_type": "markdown",
   "metadata": {},
   "source": [
    "#### Посмотрите, какие события есть в логах, как часто они встречаются. Отсортируйте события по частоте."
   ]
  },
  {
   "cell_type": "code",
   "execution_count": 25,
   "metadata": {
    "scrolled": true
   },
   "outputs": [
    {
     "data": {
      "text/plain": [
       "MainScreenAppear           117328\n",
       "OffersScreenAppear          46333\n",
       "CartScreenAppear            42303\n",
       "PaymentScreenSuccessful     33918\n",
       "Tutorial                     1005\n",
       "Name: event_name, dtype: int64"
      ]
     },
     "execution_count": 25,
     "metadata": {},
     "output_type": "execute_result"
    }
   ],
   "source": [
    " df['event_name'].value_counts()"
   ]
  },
  {
   "cell_type": "markdown",
   "metadata": {},
   "source": [
    "**Название событий и распределение по частоте**\n",
    "\n",
    "1.Появление главного экрана - MainScreenAppear \n",
    "\n",
    "2.Появление экрана предложений - OffersScreenAppear\n",
    "\n",
    "3.Появление экрана корзины - CartScreenAppear \n",
    "\n",
    "4.Экран оплата успешна - PaymentScreenSuccessful\n",
    "\n",
    "5.Руководство - Tutorial \n",
    "\n"
   ]
  },
  {
   "cell_type": "markdown",
   "metadata": {},
   "source": [
    "#### Посчитайте, сколько пользователей совершали каждое из этих событий. Отсортируйте события по числу пользователей. Посчитайте долю пользователей, которые хоть раз совершали событие."
   ]
  },
  {
   "cell_type": "code",
   "execution_count": 26,
   "metadata": {
    "scrolled": true
   },
   "outputs": [
    {
     "data": {
      "text/html": [
       "<div>\n",
       "<style scoped>\n",
       "    .dataframe tbody tr th:only-of-type {\n",
       "        vertical-align: middle;\n",
       "    }\n",
       "\n",
       "    .dataframe tbody tr th {\n",
       "        vertical-align: top;\n",
       "    }\n",
       "\n",
       "    .dataframe thead th {\n",
       "        text-align: right;\n",
       "    }\n",
       "</style>\n",
       "<table border=\"1\" class=\"dataframe\">\n",
       "  <thead>\n",
       "    <tr style=\"text-align: right;\">\n",
       "      <th></th>\n",
       "      <th>count_event</th>\n",
       "      <th>count_id</th>\n",
       "      <th>id_p_event</th>\n",
       "    </tr>\n",
       "    <tr>\n",
       "      <th>event_name</th>\n",
       "      <th></th>\n",
       "      <th></th>\n",
       "      <th></th>\n",
       "    </tr>\n",
       "  </thead>\n",
       "  <tbody>\n",
       "    <tr>\n",
       "      <th>MainScreenAppear</th>\n",
       "      <td>117328</td>\n",
       "      <td>7419</td>\n",
       "      <td>98.5</td>\n",
       "    </tr>\n",
       "    <tr>\n",
       "      <th>OffersScreenAppear</th>\n",
       "      <td>46333</td>\n",
       "      <td>4593</td>\n",
       "      <td>61.0</td>\n",
       "    </tr>\n",
       "    <tr>\n",
       "      <th>CartScreenAppear</th>\n",
       "      <td>42303</td>\n",
       "      <td>3734</td>\n",
       "      <td>49.6</td>\n",
       "    </tr>\n",
       "    <tr>\n",
       "      <th>PaymentScreenSuccessful</th>\n",
       "      <td>33918</td>\n",
       "      <td>3539</td>\n",
       "      <td>47.0</td>\n",
       "    </tr>\n",
       "    <tr>\n",
       "      <th>Tutorial</th>\n",
       "      <td>1005</td>\n",
       "      <td>840</td>\n",
       "      <td>11.1</td>\n",
       "    </tr>\n",
       "  </tbody>\n",
       "</table>\n",
       "</div>"
      ],
      "text/plain": [
       "                         count_event  count_id  id_p_event\n",
       "event_name                                                \n",
       "MainScreenAppear              117328      7419        98.5\n",
       "OffersScreenAppear             46333      4593        61.0\n",
       "CartScreenAppear               42303      3734        49.6\n",
       "PaymentScreenSuccessful        33918      3539        47.0\n",
       "Tutorial                        1005       840        11.1"
      ]
     },
     "execution_count": 26,
     "metadata": {},
     "output_type": "execute_result"
    }
   ],
   "source": [
    "event_id=df.groupby('event_name').agg({'event_name':'count','device_id': 'nunique'}).sort_values(by='device_id',ascending=False)\n",
    "event_id.columns=['count_event','count_id']\n",
    "event_id['id_p_event']=round(event_id['count_id']/new_users*100,1)\n",
    "event_id"
   ]
  },
  {
   "cell_type": "markdown",
   "metadata": {},
   "source": [
    "**'count_event'- кол-во событий**\n",
    "\n",
    "**'count_id'- кол-во пользователй**\n",
    "\n",
    "**'id_p_event'-  доля пользователей совершившее хотябы одно событие.**\n",
    "\n",
    "Построим воронку  порядка событий  по числу  вользователй совершивших каждое из событий."
   ]
  },
  {
   "cell_type": "code",
   "execution_count": 40,
   "metadata": {},
   "outputs": [
    {
     "data": {
      "application/vnd.plotly.v1+json": {
       "config": {
        "plotlyServerURL": "https://plot.ly"
       },
       "data": [
        {
         "type": "funnel",
         "x": [
          98.5,
          61.1,
          49.6,
          47,
          11.1
         ],
         "y": [
          "MainScreenAppear",
          "OffersScreenAppear",
          "CartScreenAppear",
          "PaymentScreenSuccessful",
          "Tutorial"
         ]
        }
       ],
       "layout": {
        "template": {
         "data": {
          "bar": [
           {
            "error_x": {
             "color": "#2a3f5f"
            },
            "error_y": {
             "color": "#2a3f5f"
            },
            "marker": {
             "line": {
              "color": "#E5ECF6",
              "width": 0.5
             },
             "pattern": {
              "fillmode": "overlay",
              "size": 10,
              "solidity": 0.2
             }
            },
            "type": "bar"
           }
          ],
          "barpolar": [
           {
            "marker": {
             "line": {
              "color": "#E5ECF6",
              "width": 0.5
             },
             "pattern": {
              "fillmode": "overlay",
              "size": 10,
              "solidity": 0.2
             }
            },
            "type": "barpolar"
           }
          ],
          "carpet": [
           {
            "aaxis": {
             "endlinecolor": "#2a3f5f",
             "gridcolor": "white",
             "linecolor": "white",
             "minorgridcolor": "white",
             "startlinecolor": "#2a3f5f"
            },
            "baxis": {
             "endlinecolor": "#2a3f5f",
             "gridcolor": "white",
             "linecolor": "white",
             "minorgridcolor": "white",
             "startlinecolor": "#2a3f5f"
            },
            "type": "carpet"
           }
          ],
          "choropleth": [
           {
            "colorbar": {
             "outlinewidth": 0,
             "ticks": ""
            },
            "type": "choropleth"
           }
          ],
          "contour": [
           {
            "colorbar": {
             "outlinewidth": 0,
             "ticks": ""
            },
            "colorscale": [
             [
              0,
              "#0d0887"
             ],
             [
              0.1111111111111111,
              "#46039f"
             ],
             [
              0.2222222222222222,
              "#7201a8"
             ],
             [
              0.3333333333333333,
              "#9c179e"
             ],
             [
              0.4444444444444444,
              "#bd3786"
             ],
             [
              0.5555555555555556,
              "#d8576b"
             ],
             [
              0.6666666666666666,
              "#ed7953"
             ],
             [
              0.7777777777777778,
              "#fb9f3a"
             ],
             [
              0.8888888888888888,
              "#fdca26"
             ],
             [
              1,
              "#f0f921"
             ]
            ],
            "type": "contour"
           }
          ],
          "contourcarpet": [
           {
            "colorbar": {
             "outlinewidth": 0,
             "ticks": ""
            },
            "type": "contourcarpet"
           }
          ],
          "heatmap": [
           {
            "colorbar": {
             "outlinewidth": 0,
             "ticks": ""
            },
            "colorscale": [
             [
              0,
              "#0d0887"
             ],
             [
              0.1111111111111111,
              "#46039f"
             ],
             [
              0.2222222222222222,
              "#7201a8"
             ],
             [
              0.3333333333333333,
              "#9c179e"
             ],
             [
              0.4444444444444444,
              "#bd3786"
             ],
             [
              0.5555555555555556,
              "#d8576b"
             ],
             [
              0.6666666666666666,
              "#ed7953"
             ],
             [
              0.7777777777777778,
              "#fb9f3a"
             ],
             [
              0.8888888888888888,
              "#fdca26"
             ],
             [
              1,
              "#f0f921"
             ]
            ],
            "type": "heatmap"
           }
          ],
          "heatmapgl": [
           {
            "colorbar": {
             "outlinewidth": 0,
             "ticks": ""
            },
            "colorscale": [
             [
              0,
              "#0d0887"
             ],
             [
              0.1111111111111111,
              "#46039f"
             ],
             [
              0.2222222222222222,
              "#7201a8"
             ],
             [
              0.3333333333333333,
              "#9c179e"
             ],
             [
              0.4444444444444444,
              "#bd3786"
             ],
             [
              0.5555555555555556,
              "#d8576b"
             ],
             [
              0.6666666666666666,
              "#ed7953"
             ],
             [
              0.7777777777777778,
              "#fb9f3a"
             ],
             [
              0.8888888888888888,
              "#fdca26"
             ],
             [
              1,
              "#f0f921"
             ]
            ],
            "type": "heatmapgl"
           }
          ],
          "histogram": [
           {
            "marker": {
             "pattern": {
              "fillmode": "overlay",
              "size": 10,
              "solidity": 0.2
             }
            },
            "type": "histogram"
           }
          ],
          "histogram2d": [
           {
            "colorbar": {
             "outlinewidth": 0,
             "ticks": ""
            },
            "colorscale": [
             [
              0,
              "#0d0887"
             ],
             [
              0.1111111111111111,
              "#46039f"
             ],
             [
              0.2222222222222222,
              "#7201a8"
             ],
             [
              0.3333333333333333,
              "#9c179e"
             ],
             [
              0.4444444444444444,
              "#bd3786"
             ],
             [
              0.5555555555555556,
              "#d8576b"
             ],
             [
              0.6666666666666666,
              "#ed7953"
             ],
             [
              0.7777777777777778,
              "#fb9f3a"
             ],
             [
              0.8888888888888888,
              "#fdca26"
             ],
             [
              1,
              "#f0f921"
             ]
            ],
            "type": "histogram2d"
           }
          ],
          "histogram2dcontour": [
           {
            "colorbar": {
             "outlinewidth": 0,
             "ticks": ""
            },
            "colorscale": [
             [
              0,
              "#0d0887"
             ],
             [
              0.1111111111111111,
              "#46039f"
             ],
             [
              0.2222222222222222,
              "#7201a8"
             ],
             [
              0.3333333333333333,
              "#9c179e"
             ],
             [
              0.4444444444444444,
              "#bd3786"
             ],
             [
              0.5555555555555556,
              "#d8576b"
             ],
             [
              0.6666666666666666,
              "#ed7953"
             ],
             [
              0.7777777777777778,
              "#fb9f3a"
             ],
             [
              0.8888888888888888,
              "#fdca26"
             ],
             [
              1,
              "#f0f921"
             ]
            ],
            "type": "histogram2dcontour"
           }
          ],
          "mesh3d": [
           {
            "colorbar": {
             "outlinewidth": 0,
             "ticks": ""
            },
            "type": "mesh3d"
           }
          ],
          "parcoords": [
           {
            "line": {
             "colorbar": {
              "outlinewidth": 0,
              "ticks": ""
             }
            },
            "type": "parcoords"
           }
          ],
          "pie": [
           {
            "automargin": true,
            "type": "pie"
           }
          ],
          "scatter": [
           {
            "fillpattern": {
             "fillmode": "overlay",
             "size": 10,
             "solidity": 0.2
            },
            "type": "scatter"
           }
          ],
          "scatter3d": [
           {
            "line": {
             "colorbar": {
              "outlinewidth": 0,
              "ticks": ""
             }
            },
            "marker": {
             "colorbar": {
              "outlinewidth": 0,
              "ticks": ""
             }
            },
            "type": "scatter3d"
           }
          ],
          "scattercarpet": [
           {
            "marker": {
             "colorbar": {
              "outlinewidth": 0,
              "ticks": ""
             }
            },
            "type": "scattercarpet"
           }
          ],
          "scattergeo": [
           {
            "marker": {
             "colorbar": {
              "outlinewidth": 0,
              "ticks": ""
             }
            },
            "type": "scattergeo"
           }
          ],
          "scattergl": [
           {
            "marker": {
             "colorbar": {
              "outlinewidth": 0,
              "ticks": ""
             }
            },
            "type": "scattergl"
           }
          ],
          "scattermapbox": [
           {
            "marker": {
             "colorbar": {
              "outlinewidth": 0,
              "ticks": ""
             }
            },
            "type": "scattermapbox"
           }
          ],
          "scatterpolar": [
           {
            "marker": {
             "colorbar": {
              "outlinewidth": 0,
              "ticks": ""
             }
            },
            "type": "scatterpolar"
           }
          ],
          "scatterpolargl": [
           {
            "marker": {
             "colorbar": {
              "outlinewidth": 0,
              "ticks": ""
             }
            },
            "type": "scatterpolargl"
           }
          ],
          "scatterternary": [
           {
            "marker": {
             "colorbar": {
              "outlinewidth": 0,
              "ticks": ""
             }
            },
            "type": "scatterternary"
           }
          ],
          "surface": [
           {
            "colorbar": {
             "outlinewidth": 0,
             "ticks": ""
            },
            "colorscale": [
             [
              0,
              "#0d0887"
             ],
             [
              0.1111111111111111,
              "#46039f"
             ],
             [
              0.2222222222222222,
              "#7201a8"
             ],
             [
              0.3333333333333333,
              "#9c179e"
             ],
             [
              0.4444444444444444,
              "#bd3786"
             ],
             [
              0.5555555555555556,
              "#d8576b"
             ],
             [
              0.6666666666666666,
              "#ed7953"
             ],
             [
              0.7777777777777778,
              "#fb9f3a"
             ],
             [
              0.8888888888888888,
              "#fdca26"
             ],
             [
              1,
              "#f0f921"
             ]
            ],
            "type": "surface"
           }
          ],
          "table": [
           {
            "cells": {
             "fill": {
              "color": "#EBF0F8"
             },
             "line": {
              "color": "white"
             }
            },
            "header": {
             "fill": {
              "color": "#C8D4E3"
             },
             "line": {
              "color": "white"
             }
            },
            "type": "table"
           }
          ]
         },
         "layout": {
          "annotationdefaults": {
           "arrowcolor": "#2a3f5f",
           "arrowhead": 0,
           "arrowwidth": 1
          },
          "autotypenumbers": "strict",
          "coloraxis": {
           "colorbar": {
            "outlinewidth": 0,
            "ticks": ""
           }
          },
          "colorscale": {
           "diverging": [
            [
             0,
             "#8e0152"
            ],
            [
             0.1,
             "#c51b7d"
            ],
            [
             0.2,
             "#de77ae"
            ],
            [
             0.3,
             "#f1b6da"
            ],
            [
             0.4,
             "#fde0ef"
            ],
            [
             0.5,
             "#f7f7f7"
            ],
            [
             0.6,
             "#e6f5d0"
            ],
            [
             0.7,
             "#b8e186"
            ],
            [
             0.8,
             "#7fbc41"
            ],
            [
             0.9,
             "#4d9221"
            ],
            [
             1,
             "#276419"
            ]
           ],
           "sequential": [
            [
             0,
             "#0d0887"
            ],
            [
             0.1111111111111111,
             "#46039f"
            ],
            [
             0.2222222222222222,
             "#7201a8"
            ],
            [
             0.3333333333333333,
             "#9c179e"
            ],
            [
             0.4444444444444444,
             "#bd3786"
            ],
            [
             0.5555555555555556,
             "#d8576b"
            ],
            [
             0.6666666666666666,
             "#ed7953"
            ],
            [
             0.7777777777777778,
             "#fb9f3a"
            ],
            [
             0.8888888888888888,
             "#fdca26"
            ],
            [
             1,
             "#f0f921"
            ]
           ],
           "sequentialminus": [
            [
             0,
             "#0d0887"
            ],
            [
             0.1111111111111111,
             "#46039f"
            ],
            [
             0.2222222222222222,
             "#7201a8"
            ],
            [
             0.3333333333333333,
             "#9c179e"
            ],
            [
             0.4444444444444444,
             "#bd3786"
            ],
            [
             0.5555555555555556,
             "#d8576b"
            ],
            [
             0.6666666666666666,
             "#ed7953"
            ],
            [
             0.7777777777777778,
             "#fb9f3a"
            ],
            [
             0.8888888888888888,
             "#fdca26"
            ],
            [
             1,
             "#f0f921"
            ]
           ]
          },
          "colorway": [
           "#636efa",
           "#EF553B",
           "#00cc96",
           "#ab63fa",
           "#FFA15A",
           "#19d3f3",
           "#FF6692",
           "#B6E880",
           "#FF97FF",
           "#FECB52"
          ],
          "font": {
           "color": "#2a3f5f"
          },
          "geo": {
           "bgcolor": "white",
           "lakecolor": "white",
           "landcolor": "#E5ECF6",
           "showlakes": true,
           "showland": true,
           "subunitcolor": "white"
          },
          "hoverlabel": {
           "align": "left"
          },
          "hovermode": "closest",
          "mapbox": {
           "style": "light"
          },
          "paper_bgcolor": "white",
          "plot_bgcolor": "#E5ECF6",
          "polar": {
           "angularaxis": {
            "gridcolor": "white",
            "linecolor": "white",
            "ticks": ""
           },
           "bgcolor": "#E5ECF6",
           "radialaxis": {
            "gridcolor": "white",
            "linecolor": "white",
            "ticks": ""
           }
          },
          "scene": {
           "xaxis": {
            "backgroundcolor": "#E5ECF6",
            "gridcolor": "white",
            "gridwidth": 2,
            "linecolor": "white",
            "showbackground": true,
            "ticks": "",
            "zerolinecolor": "white"
           },
           "yaxis": {
            "backgroundcolor": "#E5ECF6",
            "gridcolor": "white",
            "gridwidth": 2,
            "linecolor": "white",
            "showbackground": true,
            "ticks": "",
            "zerolinecolor": "white"
           },
           "zaxis": {
            "backgroundcolor": "#E5ECF6",
            "gridcolor": "white",
            "gridwidth": 2,
            "linecolor": "white",
            "showbackground": true,
            "ticks": "",
            "zerolinecolor": "white"
           }
          },
          "shapedefaults": {
           "line": {
            "color": "#2a3f5f"
           }
          },
          "ternary": {
           "aaxis": {
            "gridcolor": "white",
            "linecolor": "white",
            "ticks": ""
           },
           "baxis": {
            "gridcolor": "white",
            "linecolor": "white",
            "ticks": ""
           },
           "bgcolor": "#E5ECF6",
           "caxis": {
            "gridcolor": "white",
            "linecolor": "white",
            "ticks": ""
           }
          },
          "title": {
           "x": 0.05
          },
          "xaxis": {
           "automargin": true,
           "gridcolor": "white",
           "linecolor": "white",
           "ticks": "",
           "title": {
            "standoff": 15
           },
           "zerolinecolor": "white",
           "zerolinewidth": 2
          },
          "yaxis": {
           "automargin": true,
           "gridcolor": "white",
           "linecolor": "white",
           "ticks": "",
           "title": {
            "standoff": 15
           },
           "zerolinecolor": "white",
           "zerolinewidth": 2
          }
         }
        },
        "title": {
         "text": "Воронка цепочки событий использования мобильного приложения"
        }
       }
      },
      "text/html": [
       "<div>                            <div id=\"81cb6513-9365-464e-90be-8105efd96eb8\" class=\"plotly-graph-div\" style=\"height:525px; width:100%;\"></div>            <script type=\"text/javascript\">                require([\"plotly\"], function(Plotly) {                    window.PLOTLYENV=window.PLOTLYENV || {};                                    if (document.getElementById(\"81cb6513-9365-464e-90be-8105efd96eb8\")) {                    Plotly.newPlot(                        \"81cb6513-9365-464e-90be-8105efd96eb8\",                        [{\"x\":[98.5,61.1,49.6,47,11.1],\"y\":[\"MainScreenAppear\",\"OffersScreenAppear\",\"CartScreenAppear\",\"PaymentScreenSuccessful\",\"Tutorial\"],\"type\":\"funnel\"}],                        {\"template\":{\"data\":{\"histogram2dcontour\":[{\"type\":\"histogram2dcontour\",\"colorbar\":{\"outlinewidth\":0,\"ticks\":\"\"},\"colorscale\":[[0.0,\"#0d0887\"],[0.1111111111111111,\"#46039f\"],[0.2222222222222222,\"#7201a8\"],[0.3333333333333333,\"#9c179e\"],[0.4444444444444444,\"#bd3786\"],[0.5555555555555556,\"#d8576b\"],[0.6666666666666666,\"#ed7953\"],[0.7777777777777778,\"#fb9f3a\"],[0.8888888888888888,\"#fdca26\"],[1.0,\"#f0f921\"]]}],\"choropleth\":[{\"type\":\"choropleth\",\"colorbar\":{\"outlinewidth\":0,\"ticks\":\"\"}}],\"histogram2d\":[{\"type\":\"histogram2d\",\"colorbar\":{\"outlinewidth\":0,\"ticks\":\"\"},\"colorscale\":[[0.0,\"#0d0887\"],[0.1111111111111111,\"#46039f\"],[0.2222222222222222,\"#7201a8\"],[0.3333333333333333,\"#9c179e\"],[0.4444444444444444,\"#bd3786\"],[0.5555555555555556,\"#d8576b\"],[0.6666666666666666,\"#ed7953\"],[0.7777777777777778,\"#fb9f3a\"],[0.8888888888888888,\"#fdca26\"],[1.0,\"#f0f921\"]]}],\"heatmap\":[{\"type\":\"heatmap\",\"colorbar\":{\"outlinewidth\":0,\"ticks\":\"\"},\"colorscale\":[[0.0,\"#0d0887\"],[0.1111111111111111,\"#46039f\"],[0.2222222222222222,\"#7201a8\"],[0.3333333333333333,\"#9c179e\"],[0.4444444444444444,\"#bd3786\"],[0.5555555555555556,\"#d8576b\"],[0.6666666666666666,\"#ed7953\"],[0.7777777777777778,\"#fb9f3a\"],[0.8888888888888888,\"#fdca26\"],[1.0,\"#f0f921\"]]}],\"heatmapgl\":[{\"type\":\"heatmapgl\",\"colorbar\":{\"outlinewidth\":0,\"ticks\":\"\"},\"colorscale\":[[0.0,\"#0d0887\"],[0.1111111111111111,\"#46039f\"],[0.2222222222222222,\"#7201a8\"],[0.3333333333333333,\"#9c179e\"],[0.4444444444444444,\"#bd3786\"],[0.5555555555555556,\"#d8576b\"],[0.6666666666666666,\"#ed7953\"],[0.7777777777777778,\"#fb9f3a\"],[0.8888888888888888,\"#fdca26\"],[1.0,\"#f0f921\"]]}],\"contourcarpet\":[{\"type\":\"contourcarpet\",\"colorbar\":{\"outlinewidth\":0,\"ticks\":\"\"}}],\"contour\":[{\"type\":\"contour\",\"colorbar\":{\"outlinewidth\":0,\"ticks\":\"\"},\"colorscale\":[[0.0,\"#0d0887\"],[0.1111111111111111,\"#46039f\"],[0.2222222222222222,\"#7201a8\"],[0.3333333333333333,\"#9c179e\"],[0.4444444444444444,\"#bd3786\"],[0.5555555555555556,\"#d8576b\"],[0.6666666666666666,\"#ed7953\"],[0.7777777777777778,\"#fb9f3a\"],[0.8888888888888888,\"#fdca26\"],[1.0,\"#f0f921\"]]}],\"surface\":[{\"type\":\"surface\",\"colorbar\":{\"outlinewidth\":0,\"ticks\":\"\"},\"colorscale\":[[0.0,\"#0d0887\"],[0.1111111111111111,\"#46039f\"],[0.2222222222222222,\"#7201a8\"],[0.3333333333333333,\"#9c179e\"],[0.4444444444444444,\"#bd3786\"],[0.5555555555555556,\"#d8576b\"],[0.6666666666666666,\"#ed7953\"],[0.7777777777777778,\"#fb9f3a\"],[0.8888888888888888,\"#fdca26\"],[1.0,\"#f0f921\"]]}],\"mesh3d\":[{\"type\":\"mesh3d\",\"colorbar\":{\"outlinewidth\":0,\"ticks\":\"\"}}],\"scatter\":[{\"fillpattern\":{\"fillmode\":\"overlay\",\"size\":10,\"solidity\":0.2},\"type\":\"scatter\"}],\"parcoords\":[{\"type\":\"parcoords\",\"line\":{\"colorbar\":{\"outlinewidth\":0,\"ticks\":\"\"}}}],\"scatterpolargl\":[{\"type\":\"scatterpolargl\",\"marker\":{\"colorbar\":{\"outlinewidth\":0,\"ticks\":\"\"}}}],\"bar\":[{\"error_x\":{\"color\":\"#2a3f5f\"},\"error_y\":{\"color\":\"#2a3f5f\"},\"marker\":{\"line\":{\"color\":\"#E5ECF6\",\"width\":0.5},\"pattern\":{\"fillmode\":\"overlay\",\"size\":10,\"solidity\":0.2}},\"type\":\"bar\"}],\"scattergeo\":[{\"type\":\"scattergeo\",\"marker\":{\"colorbar\":{\"outlinewidth\":0,\"ticks\":\"\"}}}],\"scatterpolar\":[{\"type\":\"scatterpolar\",\"marker\":{\"colorbar\":{\"outlinewidth\":0,\"ticks\":\"\"}}}],\"histogram\":[{\"marker\":{\"pattern\":{\"fillmode\":\"overlay\",\"size\":10,\"solidity\":0.2}},\"type\":\"histogram\"}],\"scattergl\":[{\"type\":\"scattergl\",\"marker\":{\"colorbar\":{\"outlinewidth\":0,\"ticks\":\"\"}}}],\"scatter3d\":[{\"type\":\"scatter3d\",\"line\":{\"colorbar\":{\"outlinewidth\":0,\"ticks\":\"\"}},\"marker\":{\"colorbar\":{\"outlinewidth\":0,\"ticks\":\"\"}}}],\"scattermapbox\":[{\"type\":\"scattermapbox\",\"marker\":{\"colorbar\":{\"outlinewidth\":0,\"ticks\":\"\"}}}],\"scatterternary\":[{\"type\":\"scatterternary\",\"marker\":{\"colorbar\":{\"outlinewidth\":0,\"ticks\":\"\"}}}],\"scattercarpet\":[{\"type\":\"scattercarpet\",\"marker\":{\"colorbar\":{\"outlinewidth\":0,\"ticks\":\"\"}}}],\"carpet\":[{\"aaxis\":{\"endlinecolor\":\"#2a3f5f\",\"gridcolor\":\"white\",\"linecolor\":\"white\",\"minorgridcolor\":\"white\",\"startlinecolor\":\"#2a3f5f\"},\"baxis\":{\"endlinecolor\":\"#2a3f5f\",\"gridcolor\":\"white\",\"linecolor\":\"white\",\"minorgridcolor\":\"white\",\"startlinecolor\":\"#2a3f5f\"},\"type\":\"carpet\"}],\"table\":[{\"cells\":{\"fill\":{\"color\":\"#EBF0F8\"},\"line\":{\"color\":\"white\"}},\"header\":{\"fill\":{\"color\":\"#C8D4E3\"},\"line\":{\"color\":\"white\"}},\"type\":\"table\"}],\"barpolar\":[{\"marker\":{\"line\":{\"color\":\"#E5ECF6\",\"width\":0.5},\"pattern\":{\"fillmode\":\"overlay\",\"size\":10,\"solidity\":0.2}},\"type\":\"barpolar\"}],\"pie\":[{\"automargin\":true,\"type\":\"pie\"}]},\"layout\":{\"autotypenumbers\":\"strict\",\"colorway\":[\"#636efa\",\"#EF553B\",\"#00cc96\",\"#ab63fa\",\"#FFA15A\",\"#19d3f3\",\"#FF6692\",\"#B6E880\",\"#FF97FF\",\"#FECB52\"],\"font\":{\"color\":\"#2a3f5f\"},\"hovermode\":\"closest\",\"hoverlabel\":{\"align\":\"left\"},\"paper_bgcolor\":\"white\",\"plot_bgcolor\":\"#E5ECF6\",\"polar\":{\"bgcolor\":\"#E5ECF6\",\"angularaxis\":{\"gridcolor\":\"white\",\"linecolor\":\"white\",\"ticks\":\"\"},\"radialaxis\":{\"gridcolor\":\"white\",\"linecolor\":\"white\",\"ticks\":\"\"}},\"ternary\":{\"bgcolor\":\"#E5ECF6\",\"aaxis\":{\"gridcolor\":\"white\",\"linecolor\":\"white\",\"ticks\":\"\"},\"baxis\":{\"gridcolor\":\"white\",\"linecolor\":\"white\",\"ticks\":\"\"},\"caxis\":{\"gridcolor\":\"white\",\"linecolor\":\"white\",\"ticks\":\"\"}},\"coloraxis\":{\"colorbar\":{\"outlinewidth\":0,\"ticks\":\"\"}},\"colorscale\":{\"sequential\":[[0.0,\"#0d0887\"],[0.1111111111111111,\"#46039f\"],[0.2222222222222222,\"#7201a8\"],[0.3333333333333333,\"#9c179e\"],[0.4444444444444444,\"#bd3786\"],[0.5555555555555556,\"#d8576b\"],[0.6666666666666666,\"#ed7953\"],[0.7777777777777778,\"#fb9f3a\"],[0.8888888888888888,\"#fdca26\"],[1.0,\"#f0f921\"]],\"sequentialminus\":[[0.0,\"#0d0887\"],[0.1111111111111111,\"#46039f\"],[0.2222222222222222,\"#7201a8\"],[0.3333333333333333,\"#9c179e\"],[0.4444444444444444,\"#bd3786\"],[0.5555555555555556,\"#d8576b\"],[0.6666666666666666,\"#ed7953\"],[0.7777777777777778,\"#fb9f3a\"],[0.8888888888888888,\"#fdca26\"],[1.0,\"#f0f921\"]],\"diverging\":[[0,\"#8e0152\"],[0.1,\"#c51b7d\"],[0.2,\"#de77ae\"],[0.3,\"#f1b6da\"],[0.4,\"#fde0ef\"],[0.5,\"#f7f7f7\"],[0.6,\"#e6f5d0\"],[0.7,\"#b8e186\"],[0.8,\"#7fbc41\"],[0.9,\"#4d9221\"],[1,\"#276419\"]]},\"xaxis\":{\"gridcolor\":\"white\",\"linecolor\":\"white\",\"ticks\":\"\",\"title\":{\"standoff\":15},\"zerolinecolor\":\"white\",\"automargin\":true,\"zerolinewidth\":2},\"yaxis\":{\"gridcolor\":\"white\",\"linecolor\":\"white\",\"ticks\":\"\",\"title\":{\"standoff\":15},\"zerolinecolor\":\"white\",\"automargin\":true,\"zerolinewidth\":2},\"scene\":{\"xaxis\":{\"backgroundcolor\":\"#E5ECF6\",\"gridcolor\":\"white\",\"linecolor\":\"white\",\"showbackground\":true,\"ticks\":\"\",\"zerolinecolor\":\"white\",\"gridwidth\":2},\"yaxis\":{\"backgroundcolor\":\"#E5ECF6\",\"gridcolor\":\"white\",\"linecolor\":\"white\",\"showbackground\":true,\"ticks\":\"\",\"zerolinecolor\":\"white\",\"gridwidth\":2},\"zaxis\":{\"backgroundcolor\":\"#E5ECF6\",\"gridcolor\":\"white\",\"linecolor\":\"white\",\"showbackground\":true,\"ticks\":\"\",\"zerolinecolor\":\"white\",\"gridwidth\":2}},\"shapedefaults\":{\"line\":{\"color\":\"#2a3f5f\"}},\"annotationdefaults\":{\"arrowcolor\":\"#2a3f5f\",\"arrowhead\":0,\"arrowwidth\":1},\"geo\":{\"bgcolor\":\"white\",\"landcolor\":\"#E5ECF6\",\"subunitcolor\":\"white\",\"showland\":true,\"showlakes\":true,\"lakecolor\":\"white\"},\"title\":{\"x\":0.05},\"mapbox\":{\"style\":\"light\"}}},\"title\":{\"text\":\"\\u0412\\u043e\\u0440\\u043e\\u043d\\u043a\\u0430 \\u0446\\u0435\\u043f\\u043e\\u0447\\u043a\\u0438 \\u0441\\u043e\\u0431\\u044b\\u0442\\u0438\\u0439 \\u0438\\u0441\\u043f\\u043e\\u043b\\u044c\\u0437\\u043e\\u0432\\u0430\\u043d\\u0438\\u044f \\u043c\\u043e\\u0431\\u0438\\u043b\\u044c\\u043d\\u043e\\u0433\\u043e \\u043f\\u0440\\u0438\\u043b\\u043e\\u0436\\u0435\\u043d\\u0438\\u044f\"}},                        {\"responsive\": true}                    ).then(function(){\n",
       "                            \n",
       "var gd = document.getElementById('81cb6513-9365-464e-90be-8105efd96eb8');\n",
       "var x = new MutationObserver(function (mutations, observer) {{\n",
       "        var display = window.getComputedStyle(gd).display;\n",
       "        if (!display || display === 'none') {{\n",
       "            console.log([gd, 'removed!']);\n",
       "            Plotly.purge(gd);\n",
       "            observer.disconnect();\n",
       "        }}\n",
       "}});\n",
       "\n",
       "// Listen for the removal of the full notebook cells\n",
       "var notebookContainer = gd.closest('#notebook-container');\n",
       "if (notebookContainer) {{\n",
       "    x.observe(notebookContainer, {childList: true});\n",
       "}}\n",
       "\n",
       "// Listen for the clearing of the current output cell\n",
       "var outputEl = gd.closest('.output');\n",
       "if (outputEl) {{\n",
       "    x.observe(outputEl, {childList: true});\n",
       "}}\n",
       "\n",
       "                        })                };                });            </script>        </div>"
      ]
     },
     "metadata": {},
     "output_type": "display_data"
    }
   ],
   "source": [
    "fig = go.Figure(go.Funnel(\n",
    "    y = ['MainScreenAppear', 'OffersScreenAppear', 'CartScreenAppear', 'PaymentScreenSuccessful','Tutorial'],\n",
    "    x = [98.5, 61.1, 49.6, 47, 11.1]))\n",
    "fig.update_layout(title=\"Воронка цепочки событий использования мобильного приложения\")\n",
    "fig.show()\n",
    "\n"
   ]
  },
  {
   "cell_type": "markdown",
   "metadata": {},
   "source": [
    "**Cудя по всему  события происходят в порядке**\n",
    "\n",
    "1.Появление главного экрана - MainScreenAppear \n",
    "\n",
    "2.Появление экрана предложений - OffersScreenAppear\n",
    "\n",
    "3.Появление экрана корзины - CartScreenAppear \n",
    "\n",
    "4.Экран оплата успешна - PaymentScreenSuccessful\n",
    "\n",
    "5.Руководство - Tutorial \n",
    "\n",
    "*Все они выстроены в последовательную цепочку, кроме Tutorial , это руководство пользователя до него доходит очень маленький процент пользователей, и он скорее всего вряд ли влияет на свершение покупки. Его можно либо исключить или просто не учитывать в последующем анализе.*"
   ]
  },
  {
   "cell_type": "markdown",
   "metadata": {},
   "source": [
    "#### По воронке событий посчитайте, какая доля пользователей проходит на следующий шаг воронки ."
   ]
  },
  {
   "cell_type": "code",
   "execution_count": 28,
   "metadata": {
    "scrolled": false
   },
   "outputs": [
    {
     "data": {
      "text/html": [
       "<div>\n",
       "<style scoped>\n",
       "    .dataframe tbody tr th:only-of-type {\n",
       "        vertical-align: middle;\n",
       "    }\n",
       "\n",
       "    .dataframe tbody tr th {\n",
       "        vertical-align: top;\n",
       "    }\n",
       "\n",
       "    .dataframe thead th {\n",
       "        text-align: right;\n",
       "    }\n",
       "</style>\n",
       "<table border=\"1\" class=\"dataframe\">\n",
       "  <thead>\n",
       "    <tr style=\"text-align: right;\">\n",
       "      <th></th>\n",
       "      <th>count_event</th>\n",
       "      <th>count_id</th>\n",
       "      <th>id_p_event</th>\n",
       "    </tr>\n",
       "    <tr>\n",
       "      <th>event_name</th>\n",
       "      <th></th>\n",
       "      <th></th>\n",
       "      <th></th>\n",
       "    </tr>\n",
       "  </thead>\n",
       "  <tbody>\n",
       "    <tr>\n",
       "      <th>MainScreenAppear</th>\n",
       "      <td>117328</td>\n",
       "      <td>7419</td>\n",
       "      <td>98.5</td>\n",
       "    </tr>\n",
       "    <tr>\n",
       "      <th>OffersScreenAppear</th>\n",
       "      <td>46333</td>\n",
       "      <td>4593</td>\n",
       "      <td>61.0</td>\n",
       "    </tr>\n",
       "    <tr>\n",
       "      <th>CartScreenAppear</th>\n",
       "      <td>42303</td>\n",
       "      <td>3734</td>\n",
       "      <td>49.6</td>\n",
       "    </tr>\n",
       "    <tr>\n",
       "      <th>PaymentScreenSuccessful</th>\n",
       "      <td>33918</td>\n",
       "      <td>3539</td>\n",
       "      <td>47.0</td>\n",
       "    </tr>\n",
       "  </tbody>\n",
       "</table>\n",
       "</div>"
      ],
      "text/plain": [
       "                         count_event  count_id  id_p_event\n",
       "event_name                                                \n",
       "MainScreenAppear              117328      7419        98.5\n",
       "OffersScreenAppear             46333      4593        61.0\n",
       "CartScreenAppear               42303      3734        49.6\n",
       "PaymentScreenSuccessful        33918      3539        47.0"
      ]
     },
     "execution_count": 28,
     "metadata": {},
     "output_type": "execute_result"
    }
   ],
   "source": [
    "event_id_n= event_id.query('event_name!=\"Tutorial\"').sort_values(by='count_id',ascending=False)\n",
    "event_id_n #  исключили Tutorial"
   ]
  },
  {
   "cell_type": "code",
   "execution_count": 29,
   "metadata": {},
   "outputs": [
    {
     "data": {
      "text/html": [
       "<div>\n",
       "<style scoped>\n",
       "    .dataframe tbody tr th:only-of-type {\n",
       "        vertical-align: middle;\n",
       "    }\n",
       "\n",
       "    .dataframe tbody tr th {\n",
       "        vertical-align: top;\n",
       "    }\n",
       "\n",
       "    .dataframe thead th {\n",
       "        text-align: right;\n",
       "    }\n",
       "</style>\n",
       "<table border=\"1\" class=\"dataframe\">\n",
       "  <thead>\n",
       "    <tr style=\"text-align: right;\">\n",
       "      <th></th>\n",
       "      <th>count_event</th>\n",
       "      <th>count_id</th>\n",
       "      <th>id_p_event</th>\n",
       "      <th>conv</th>\n",
       "    </tr>\n",
       "    <tr>\n",
       "      <th>event_name</th>\n",
       "      <th></th>\n",
       "      <th></th>\n",
       "      <th></th>\n",
       "      <th></th>\n",
       "    </tr>\n",
       "  </thead>\n",
       "  <tbody>\n",
       "    <tr>\n",
       "      <th>MainScreenAppear</th>\n",
       "      <td>117328</td>\n",
       "      <td>7419</td>\n",
       "      <td>98.5</td>\n",
       "      <td>100.0</td>\n",
       "    </tr>\n",
       "    <tr>\n",
       "      <th>OffersScreenAppear</th>\n",
       "      <td>46333</td>\n",
       "      <td>4593</td>\n",
       "      <td>61.0</td>\n",
       "      <td>61.9</td>\n",
       "    </tr>\n",
       "    <tr>\n",
       "      <th>CartScreenAppear</th>\n",
       "      <td>42303</td>\n",
       "      <td>3734</td>\n",
       "      <td>49.6</td>\n",
       "      <td>81.3</td>\n",
       "    </tr>\n",
       "    <tr>\n",
       "      <th>PaymentScreenSuccessful</th>\n",
       "      <td>33918</td>\n",
       "      <td>3539</td>\n",
       "      <td>47.0</td>\n",
       "      <td>94.8</td>\n",
       "    </tr>\n",
       "  </tbody>\n",
       "</table>\n",
       "</div>"
      ],
      "text/plain": [
       "                         count_event  count_id  id_p_event   conv\n",
       "event_name                                                       \n",
       "MainScreenAppear              117328      7419        98.5  100.0\n",
       "OffersScreenAppear             46333      4593        61.0   61.9\n",
       "CartScreenAppear               42303      3734        49.6   81.3\n",
       "PaymentScreenSuccessful        33918      3539        47.0   94.8"
      ]
     },
     "execution_count": 29,
     "metadata": {},
     "output_type": "execute_result"
    }
   ],
   "source": [
    "event_id_n['conv']=round(event_id_n['count_id']/event_id['count_id'].shift()*100,1).fillna(100)\n",
    "event_id_n\n",
    "# % доля перехода на след шаг "
   ]
  },
  {
   "cell_type": "markdown",
   "metadata": {},
   "source": [
    "**Построим воронку- какой % пользователей перешел на след этап оносительно предыдущего**"
   ]
  },
  {
   "cell_type": "code",
   "execution_count": 30,
   "metadata": {},
   "outputs": [
    {
     "data": {
      "application/vnd.plotly.v1+json": {
       "config": {
        "plotlyServerURL": "https://plot.ly"
       },
       "data": [
        {
         "type": "funnel",
         "x": [
          100,
          61.9,
          81.3,
          94.8
         ],
         "y": [
          "MainScreenAppear",
          "OffersScreenAppear",
          "CartScreenAppear",
          "PaymentScreenSuccessful"
         ]
        }
       ],
       "layout": {
        "template": {
         "data": {
          "bar": [
           {
            "error_x": {
             "color": "#2a3f5f"
            },
            "error_y": {
             "color": "#2a3f5f"
            },
            "marker": {
             "line": {
              "color": "#E5ECF6",
              "width": 0.5
             },
             "pattern": {
              "fillmode": "overlay",
              "size": 10,
              "solidity": 0.2
             }
            },
            "type": "bar"
           }
          ],
          "barpolar": [
           {
            "marker": {
             "line": {
              "color": "#E5ECF6",
              "width": 0.5
             },
             "pattern": {
              "fillmode": "overlay",
              "size": 10,
              "solidity": 0.2
             }
            },
            "type": "barpolar"
           }
          ],
          "carpet": [
           {
            "aaxis": {
             "endlinecolor": "#2a3f5f",
             "gridcolor": "white",
             "linecolor": "white",
             "minorgridcolor": "white",
             "startlinecolor": "#2a3f5f"
            },
            "baxis": {
             "endlinecolor": "#2a3f5f",
             "gridcolor": "white",
             "linecolor": "white",
             "minorgridcolor": "white",
             "startlinecolor": "#2a3f5f"
            },
            "type": "carpet"
           }
          ],
          "choropleth": [
           {
            "colorbar": {
             "outlinewidth": 0,
             "ticks": ""
            },
            "type": "choropleth"
           }
          ],
          "contour": [
           {
            "colorbar": {
             "outlinewidth": 0,
             "ticks": ""
            },
            "colorscale": [
             [
              0,
              "#0d0887"
             ],
             [
              0.1111111111111111,
              "#46039f"
             ],
             [
              0.2222222222222222,
              "#7201a8"
             ],
             [
              0.3333333333333333,
              "#9c179e"
             ],
             [
              0.4444444444444444,
              "#bd3786"
             ],
             [
              0.5555555555555556,
              "#d8576b"
             ],
             [
              0.6666666666666666,
              "#ed7953"
             ],
             [
              0.7777777777777778,
              "#fb9f3a"
             ],
             [
              0.8888888888888888,
              "#fdca26"
             ],
             [
              1,
              "#f0f921"
             ]
            ],
            "type": "contour"
           }
          ],
          "contourcarpet": [
           {
            "colorbar": {
             "outlinewidth": 0,
             "ticks": ""
            },
            "type": "contourcarpet"
           }
          ],
          "heatmap": [
           {
            "colorbar": {
             "outlinewidth": 0,
             "ticks": ""
            },
            "colorscale": [
             [
              0,
              "#0d0887"
             ],
             [
              0.1111111111111111,
              "#46039f"
             ],
             [
              0.2222222222222222,
              "#7201a8"
             ],
             [
              0.3333333333333333,
              "#9c179e"
             ],
             [
              0.4444444444444444,
              "#bd3786"
             ],
             [
              0.5555555555555556,
              "#d8576b"
             ],
             [
              0.6666666666666666,
              "#ed7953"
             ],
             [
              0.7777777777777778,
              "#fb9f3a"
             ],
             [
              0.8888888888888888,
              "#fdca26"
             ],
             [
              1,
              "#f0f921"
             ]
            ],
            "type": "heatmap"
           }
          ],
          "heatmapgl": [
           {
            "colorbar": {
             "outlinewidth": 0,
             "ticks": ""
            },
            "colorscale": [
             [
              0,
              "#0d0887"
             ],
             [
              0.1111111111111111,
              "#46039f"
             ],
             [
              0.2222222222222222,
              "#7201a8"
             ],
             [
              0.3333333333333333,
              "#9c179e"
             ],
             [
              0.4444444444444444,
              "#bd3786"
             ],
             [
              0.5555555555555556,
              "#d8576b"
             ],
             [
              0.6666666666666666,
              "#ed7953"
             ],
             [
              0.7777777777777778,
              "#fb9f3a"
             ],
             [
              0.8888888888888888,
              "#fdca26"
             ],
             [
              1,
              "#f0f921"
             ]
            ],
            "type": "heatmapgl"
           }
          ],
          "histogram": [
           {
            "marker": {
             "pattern": {
              "fillmode": "overlay",
              "size": 10,
              "solidity": 0.2
             }
            },
            "type": "histogram"
           }
          ],
          "histogram2d": [
           {
            "colorbar": {
             "outlinewidth": 0,
             "ticks": ""
            },
            "colorscale": [
             [
              0,
              "#0d0887"
             ],
             [
              0.1111111111111111,
              "#46039f"
             ],
             [
              0.2222222222222222,
              "#7201a8"
             ],
             [
              0.3333333333333333,
              "#9c179e"
             ],
             [
              0.4444444444444444,
              "#bd3786"
             ],
             [
              0.5555555555555556,
              "#d8576b"
             ],
             [
              0.6666666666666666,
              "#ed7953"
             ],
             [
              0.7777777777777778,
              "#fb9f3a"
             ],
             [
              0.8888888888888888,
              "#fdca26"
             ],
             [
              1,
              "#f0f921"
             ]
            ],
            "type": "histogram2d"
           }
          ],
          "histogram2dcontour": [
           {
            "colorbar": {
             "outlinewidth": 0,
             "ticks": ""
            },
            "colorscale": [
             [
              0,
              "#0d0887"
             ],
             [
              0.1111111111111111,
              "#46039f"
             ],
             [
              0.2222222222222222,
              "#7201a8"
             ],
             [
              0.3333333333333333,
              "#9c179e"
             ],
             [
              0.4444444444444444,
              "#bd3786"
             ],
             [
              0.5555555555555556,
              "#d8576b"
             ],
             [
              0.6666666666666666,
              "#ed7953"
             ],
             [
              0.7777777777777778,
              "#fb9f3a"
             ],
             [
              0.8888888888888888,
              "#fdca26"
             ],
             [
              1,
              "#f0f921"
             ]
            ],
            "type": "histogram2dcontour"
           }
          ],
          "mesh3d": [
           {
            "colorbar": {
             "outlinewidth": 0,
             "ticks": ""
            },
            "type": "mesh3d"
           }
          ],
          "parcoords": [
           {
            "line": {
             "colorbar": {
              "outlinewidth": 0,
              "ticks": ""
             }
            },
            "type": "parcoords"
           }
          ],
          "pie": [
           {
            "automargin": true,
            "type": "pie"
           }
          ],
          "scatter": [
           {
            "fillpattern": {
             "fillmode": "overlay",
             "size": 10,
             "solidity": 0.2
            },
            "type": "scatter"
           }
          ],
          "scatter3d": [
           {
            "line": {
             "colorbar": {
              "outlinewidth": 0,
              "ticks": ""
             }
            },
            "marker": {
             "colorbar": {
              "outlinewidth": 0,
              "ticks": ""
             }
            },
            "type": "scatter3d"
           }
          ],
          "scattercarpet": [
           {
            "marker": {
             "colorbar": {
              "outlinewidth": 0,
              "ticks": ""
             }
            },
            "type": "scattercarpet"
           }
          ],
          "scattergeo": [
           {
            "marker": {
             "colorbar": {
              "outlinewidth": 0,
              "ticks": ""
             }
            },
            "type": "scattergeo"
           }
          ],
          "scattergl": [
           {
            "marker": {
             "colorbar": {
              "outlinewidth": 0,
              "ticks": ""
             }
            },
            "type": "scattergl"
           }
          ],
          "scattermapbox": [
           {
            "marker": {
             "colorbar": {
              "outlinewidth": 0,
              "ticks": ""
             }
            },
            "type": "scattermapbox"
           }
          ],
          "scatterpolar": [
           {
            "marker": {
             "colorbar": {
              "outlinewidth": 0,
              "ticks": ""
             }
            },
            "type": "scatterpolar"
           }
          ],
          "scatterpolargl": [
           {
            "marker": {
             "colorbar": {
              "outlinewidth": 0,
              "ticks": ""
             }
            },
            "type": "scatterpolargl"
           }
          ],
          "scatterternary": [
           {
            "marker": {
             "colorbar": {
              "outlinewidth": 0,
              "ticks": ""
             }
            },
            "type": "scatterternary"
           }
          ],
          "surface": [
           {
            "colorbar": {
             "outlinewidth": 0,
             "ticks": ""
            },
            "colorscale": [
             [
              0,
              "#0d0887"
             ],
             [
              0.1111111111111111,
              "#46039f"
             ],
             [
              0.2222222222222222,
              "#7201a8"
             ],
             [
              0.3333333333333333,
              "#9c179e"
             ],
             [
              0.4444444444444444,
              "#bd3786"
             ],
             [
              0.5555555555555556,
              "#d8576b"
             ],
             [
              0.6666666666666666,
              "#ed7953"
             ],
             [
              0.7777777777777778,
              "#fb9f3a"
             ],
             [
              0.8888888888888888,
              "#fdca26"
             ],
             [
              1,
              "#f0f921"
             ]
            ],
            "type": "surface"
           }
          ],
          "table": [
           {
            "cells": {
             "fill": {
              "color": "#EBF0F8"
             },
             "line": {
              "color": "white"
             }
            },
            "header": {
             "fill": {
              "color": "#C8D4E3"
             },
             "line": {
              "color": "white"
             }
            },
            "type": "table"
           }
          ]
         },
         "layout": {
          "annotationdefaults": {
           "arrowcolor": "#2a3f5f",
           "arrowhead": 0,
           "arrowwidth": 1
          },
          "autotypenumbers": "strict",
          "coloraxis": {
           "colorbar": {
            "outlinewidth": 0,
            "ticks": ""
           }
          },
          "colorscale": {
           "diverging": [
            [
             0,
             "#8e0152"
            ],
            [
             0.1,
             "#c51b7d"
            ],
            [
             0.2,
             "#de77ae"
            ],
            [
             0.3,
             "#f1b6da"
            ],
            [
             0.4,
             "#fde0ef"
            ],
            [
             0.5,
             "#f7f7f7"
            ],
            [
             0.6,
             "#e6f5d0"
            ],
            [
             0.7,
             "#b8e186"
            ],
            [
             0.8,
             "#7fbc41"
            ],
            [
             0.9,
             "#4d9221"
            ],
            [
             1,
             "#276419"
            ]
           ],
           "sequential": [
            [
             0,
             "#0d0887"
            ],
            [
             0.1111111111111111,
             "#46039f"
            ],
            [
             0.2222222222222222,
             "#7201a8"
            ],
            [
             0.3333333333333333,
             "#9c179e"
            ],
            [
             0.4444444444444444,
             "#bd3786"
            ],
            [
             0.5555555555555556,
             "#d8576b"
            ],
            [
             0.6666666666666666,
             "#ed7953"
            ],
            [
             0.7777777777777778,
             "#fb9f3a"
            ],
            [
             0.8888888888888888,
             "#fdca26"
            ],
            [
             1,
             "#f0f921"
            ]
           ],
           "sequentialminus": [
            [
             0,
             "#0d0887"
            ],
            [
             0.1111111111111111,
             "#46039f"
            ],
            [
             0.2222222222222222,
             "#7201a8"
            ],
            [
             0.3333333333333333,
             "#9c179e"
            ],
            [
             0.4444444444444444,
             "#bd3786"
            ],
            [
             0.5555555555555556,
             "#d8576b"
            ],
            [
             0.6666666666666666,
             "#ed7953"
            ],
            [
             0.7777777777777778,
             "#fb9f3a"
            ],
            [
             0.8888888888888888,
             "#fdca26"
            ],
            [
             1,
             "#f0f921"
            ]
           ]
          },
          "colorway": [
           "#636efa",
           "#EF553B",
           "#00cc96",
           "#ab63fa",
           "#FFA15A",
           "#19d3f3",
           "#FF6692",
           "#B6E880",
           "#FF97FF",
           "#FECB52"
          ],
          "font": {
           "color": "#2a3f5f"
          },
          "geo": {
           "bgcolor": "white",
           "lakecolor": "white",
           "landcolor": "#E5ECF6",
           "showlakes": true,
           "showland": true,
           "subunitcolor": "white"
          },
          "hoverlabel": {
           "align": "left"
          },
          "hovermode": "closest",
          "mapbox": {
           "style": "light"
          },
          "paper_bgcolor": "white",
          "plot_bgcolor": "#E5ECF6",
          "polar": {
           "angularaxis": {
            "gridcolor": "white",
            "linecolor": "white",
            "ticks": ""
           },
           "bgcolor": "#E5ECF6",
           "radialaxis": {
            "gridcolor": "white",
            "linecolor": "white",
            "ticks": ""
           }
          },
          "scene": {
           "xaxis": {
            "backgroundcolor": "#E5ECF6",
            "gridcolor": "white",
            "gridwidth": 2,
            "linecolor": "white",
            "showbackground": true,
            "ticks": "",
            "zerolinecolor": "white"
           },
           "yaxis": {
            "backgroundcolor": "#E5ECF6",
            "gridcolor": "white",
            "gridwidth": 2,
            "linecolor": "white",
            "showbackground": true,
            "ticks": "",
            "zerolinecolor": "white"
           },
           "zaxis": {
            "backgroundcolor": "#E5ECF6",
            "gridcolor": "white",
            "gridwidth": 2,
            "linecolor": "white",
            "showbackground": true,
            "ticks": "",
            "zerolinecolor": "white"
           }
          },
          "shapedefaults": {
           "line": {
            "color": "#2a3f5f"
           }
          },
          "ternary": {
           "aaxis": {
            "gridcolor": "white",
            "linecolor": "white",
            "ticks": ""
           },
           "baxis": {
            "gridcolor": "white",
            "linecolor": "white",
            "ticks": ""
           },
           "bgcolor": "#E5ECF6",
           "caxis": {
            "gridcolor": "white",
            "linecolor": "white",
            "ticks": ""
           }
          },
          "title": {
           "x": 0.05
          },
          "xaxis": {
           "automargin": true,
           "gridcolor": "white",
           "linecolor": "white",
           "ticks": "",
           "title": {
            "standoff": 15
           },
           "zerolinecolor": "white",
           "zerolinewidth": 2
          },
          "yaxis": {
           "automargin": true,
           "gridcolor": "white",
           "linecolor": "white",
           "ticks": "",
           "title": {
            "standoff": 15
           },
           "zerolinecolor": "white",
           "zerolinewidth": 2
          }
         }
        },
        "title": {
         "text": "Воронка пользователей перешедших на след этап оносительно предыдущего"
        }
       }
      },
      "text/html": [
       "<div>                            <div id=\"5b188131-0ee1-43ba-85a9-3bd0fe64e52d\" class=\"plotly-graph-div\" style=\"height:525px; width:100%;\"></div>            <script type=\"text/javascript\">                require([\"plotly\"], function(Plotly) {                    window.PLOTLYENV=window.PLOTLYENV || {};                                    if (document.getElementById(\"5b188131-0ee1-43ba-85a9-3bd0fe64e52d\")) {                    Plotly.newPlot(                        \"5b188131-0ee1-43ba-85a9-3bd0fe64e52d\",                        [{\"x\":[100,61.9,81.3,94.8],\"y\":[\"MainScreenAppear\",\"OffersScreenAppear\",\"CartScreenAppear\",\"PaymentScreenSuccessful\"],\"type\":\"funnel\"}],                        {\"template\":{\"data\":{\"histogram2dcontour\":[{\"type\":\"histogram2dcontour\",\"colorbar\":{\"outlinewidth\":0,\"ticks\":\"\"},\"colorscale\":[[0.0,\"#0d0887\"],[0.1111111111111111,\"#46039f\"],[0.2222222222222222,\"#7201a8\"],[0.3333333333333333,\"#9c179e\"],[0.4444444444444444,\"#bd3786\"],[0.5555555555555556,\"#d8576b\"],[0.6666666666666666,\"#ed7953\"],[0.7777777777777778,\"#fb9f3a\"],[0.8888888888888888,\"#fdca26\"],[1.0,\"#f0f921\"]]}],\"choropleth\":[{\"type\":\"choropleth\",\"colorbar\":{\"outlinewidth\":0,\"ticks\":\"\"}}],\"histogram2d\":[{\"type\":\"histogram2d\",\"colorbar\":{\"outlinewidth\":0,\"ticks\":\"\"},\"colorscale\":[[0.0,\"#0d0887\"],[0.1111111111111111,\"#46039f\"],[0.2222222222222222,\"#7201a8\"],[0.3333333333333333,\"#9c179e\"],[0.4444444444444444,\"#bd3786\"],[0.5555555555555556,\"#d8576b\"],[0.6666666666666666,\"#ed7953\"],[0.7777777777777778,\"#fb9f3a\"],[0.8888888888888888,\"#fdca26\"],[1.0,\"#f0f921\"]]}],\"heatmap\":[{\"type\":\"heatmap\",\"colorbar\":{\"outlinewidth\":0,\"ticks\":\"\"},\"colorscale\":[[0.0,\"#0d0887\"],[0.1111111111111111,\"#46039f\"],[0.2222222222222222,\"#7201a8\"],[0.3333333333333333,\"#9c179e\"],[0.4444444444444444,\"#bd3786\"],[0.5555555555555556,\"#d8576b\"],[0.6666666666666666,\"#ed7953\"],[0.7777777777777778,\"#fb9f3a\"],[0.8888888888888888,\"#fdca26\"],[1.0,\"#f0f921\"]]}],\"heatmapgl\":[{\"type\":\"heatmapgl\",\"colorbar\":{\"outlinewidth\":0,\"ticks\":\"\"},\"colorscale\":[[0.0,\"#0d0887\"],[0.1111111111111111,\"#46039f\"],[0.2222222222222222,\"#7201a8\"],[0.3333333333333333,\"#9c179e\"],[0.4444444444444444,\"#bd3786\"],[0.5555555555555556,\"#d8576b\"],[0.6666666666666666,\"#ed7953\"],[0.7777777777777778,\"#fb9f3a\"],[0.8888888888888888,\"#fdca26\"],[1.0,\"#f0f921\"]]}],\"contourcarpet\":[{\"type\":\"contourcarpet\",\"colorbar\":{\"outlinewidth\":0,\"ticks\":\"\"}}],\"contour\":[{\"type\":\"contour\",\"colorbar\":{\"outlinewidth\":0,\"ticks\":\"\"},\"colorscale\":[[0.0,\"#0d0887\"],[0.1111111111111111,\"#46039f\"],[0.2222222222222222,\"#7201a8\"],[0.3333333333333333,\"#9c179e\"],[0.4444444444444444,\"#bd3786\"],[0.5555555555555556,\"#d8576b\"],[0.6666666666666666,\"#ed7953\"],[0.7777777777777778,\"#fb9f3a\"],[0.8888888888888888,\"#fdca26\"],[1.0,\"#f0f921\"]]}],\"surface\":[{\"type\":\"surface\",\"colorbar\":{\"outlinewidth\":0,\"ticks\":\"\"},\"colorscale\":[[0.0,\"#0d0887\"],[0.1111111111111111,\"#46039f\"],[0.2222222222222222,\"#7201a8\"],[0.3333333333333333,\"#9c179e\"],[0.4444444444444444,\"#bd3786\"],[0.5555555555555556,\"#d8576b\"],[0.6666666666666666,\"#ed7953\"],[0.7777777777777778,\"#fb9f3a\"],[0.8888888888888888,\"#fdca26\"],[1.0,\"#f0f921\"]]}],\"mesh3d\":[{\"type\":\"mesh3d\",\"colorbar\":{\"outlinewidth\":0,\"ticks\":\"\"}}],\"scatter\":[{\"fillpattern\":{\"fillmode\":\"overlay\",\"size\":10,\"solidity\":0.2},\"type\":\"scatter\"}],\"parcoords\":[{\"type\":\"parcoords\",\"line\":{\"colorbar\":{\"outlinewidth\":0,\"ticks\":\"\"}}}],\"scatterpolargl\":[{\"type\":\"scatterpolargl\",\"marker\":{\"colorbar\":{\"outlinewidth\":0,\"ticks\":\"\"}}}],\"bar\":[{\"error_x\":{\"color\":\"#2a3f5f\"},\"error_y\":{\"color\":\"#2a3f5f\"},\"marker\":{\"line\":{\"color\":\"#E5ECF6\",\"width\":0.5},\"pattern\":{\"fillmode\":\"overlay\",\"size\":10,\"solidity\":0.2}},\"type\":\"bar\"}],\"scattergeo\":[{\"type\":\"scattergeo\",\"marker\":{\"colorbar\":{\"outlinewidth\":0,\"ticks\":\"\"}}}],\"scatterpolar\":[{\"type\":\"scatterpolar\",\"marker\":{\"colorbar\":{\"outlinewidth\":0,\"ticks\":\"\"}}}],\"histogram\":[{\"marker\":{\"pattern\":{\"fillmode\":\"overlay\",\"size\":10,\"solidity\":0.2}},\"type\":\"histogram\"}],\"scattergl\":[{\"type\":\"scattergl\",\"marker\":{\"colorbar\":{\"outlinewidth\":0,\"ticks\":\"\"}}}],\"scatter3d\":[{\"type\":\"scatter3d\",\"line\":{\"colorbar\":{\"outlinewidth\":0,\"ticks\":\"\"}},\"marker\":{\"colorbar\":{\"outlinewidth\":0,\"ticks\":\"\"}}}],\"scattermapbox\":[{\"type\":\"scattermapbox\",\"marker\":{\"colorbar\":{\"outlinewidth\":0,\"ticks\":\"\"}}}],\"scatterternary\":[{\"type\":\"scatterternary\",\"marker\":{\"colorbar\":{\"outlinewidth\":0,\"ticks\":\"\"}}}],\"scattercarpet\":[{\"type\":\"scattercarpet\",\"marker\":{\"colorbar\":{\"outlinewidth\":0,\"ticks\":\"\"}}}],\"carpet\":[{\"aaxis\":{\"endlinecolor\":\"#2a3f5f\",\"gridcolor\":\"white\",\"linecolor\":\"white\",\"minorgridcolor\":\"white\",\"startlinecolor\":\"#2a3f5f\"},\"baxis\":{\"endlinecolor\":\"#2a3f5f\",\"gridcolor\":\"white\",\"linecolor\":\"white\",\"minorgridcolor\":\"white\",\"startlinecolor\":\"#2a3f5f\"},\"type\":\"carpet\"}],\"table\":[{\"cells\":{\"fill\":{\"color\":\"#EBF0F8\"},\"line\":{\"color\":\"white\"}},\"header\":{\"fill\":{\"color\":\"#C8D4E3\"},\"line\":{\"color\":\"white\"}},\"type\":\"table\"}],\"barpolar\":[{\"marker\":{\"line\":{\"color\":\"#E5ECF6\",\"width\":0.5},\"pattern\":{\"fillmode\":\"overlay\",\"size\":10,\"solidity\":0.2}},\"type\":\"barpolar\"}],\"pie\":[{\"automargin\":true,\"type\":\"pie\"}]},\"layout\":{\"autotypenumbers\":\"strict\",\"colorway\":[\"#636efa\",\"#EF553B\",\"#00cc96\",\"#ab63fa\",\"#FFA15A\",\"#19d3f3\",\"#FF6692\",\"#B6E880\",\"#FF97FF\",\"#FECB52\"],\"font\":{\"color\":\"#2a3f5f\"},\"hovermode\":\"closest\",\"hoverlabel\":{\"align\":\"left\"},\"paper_bgcolor\":\"white\",\"plot_bgcolor\":\"#E5ECF6\",\"polar\":{\"bgcolor\":\"#E5ECF6\",\"angularaxis\":{\"gridcolor\":\"white\",\"linecolor\":\"white\",\"ticks\":\"\"},\"radialaxis\":{\"gridcolor\":\"white\",\"linecolor\":\"white\",\"ticks\":\"\"}},\"ternary\":{\"bgcolor\":\"#E5ECF6\",\"aaxis\":{\"gridcolor\":\"white\",\"linecolor\":\"white\",\"ticks\":\"\"},\"baxis\":{\"gridcolor\":\"white\",\"linecolor\":\"white\",\"ticks\":\"\"},\"caxis\":{\"gridcolor\":\"white\",\"linecolor\":\"white\",\"ticks\":\"\"}},\"coloraxis\":{\"colorbar\":{\"outlinewidth\":0,\"ticks\":\"\"}},\"colorscale\":{\"sequential\":[[0.0,\"#0d0887\"],[0.1111111111111111,\"#46039f\"],[0.2222222222222222,\"#7201a8\"],[0.3333333333333333,\"#9c179e\"],[0.4444444444444444,\"#bd3786\"],[0.5555555555555556,\"#d8576b\"],[0.6666666666666666,\"#ed7953\"],[0.7777777777777778,\"#fb9f3a\"],[0.8888888888888888,\"#fdca26\"],[1.0,\"#f0f921\"]],\"sequentialminus\":[[0.0,\"#0d0887\"],[0.1111111111111111,\"#46039f\"],[0.2222222222222222,\"#7201a8\"],[0.3333333333333333,\"#9c179e\"],[0.4444444444444444,\"#bd3786\"],[0.5555555555555556,\"#d8576b\"],[0.6666666666666666,\"#ed7953\"],[0.7777777777777778,\"#fb9f3a\"],[0.8888888888888888,\"#fdca26\"],[1.0,\"#f0f921\"]],\"diverging\":[[0,\"#8e0152\"],[0.1,\"#c51b7d\"],[0.2,\"#de77ae\"],[0.3,\"#f1b6da\"],[0.4,\"#fde0ef\"],[0.5,\"#f7f7f7\"],[0.6,\"#e6f5d0\"],[0.7,\"#b8e186\"],[0.8,\"#7fbc41\"],[0.9,\"#4d9221\"],[1,\"#276419\"]]},\"xaxis\":{\"gridcolor\":\"white\",\"linecolor\":\"white\",\"ticks\":\"\",\"title\":{\"standoff\":15},\"zerolinecolor\":\"white\",\"automargin\":true,\"zerolinewidth\":2},\"yaxis\":{\"gridcolor\":\"white\",\"linecolor\":\"white\",\"ticks\":\"\",\"title\":{\"standoff\":15},\"zerolinecolor\":\"white\",\"automargin\":true,\"zerolinewidth\":2},\"scene\":{\"xaxis\":{\"backgroundcolor\":\"#E5ECF6\",\"gridcolor\":\"white\",\"linecolor\":\"white\",\"showbackground\":true,\"ticks\":\"\",\"zerolinecolor\":\"white\",\"gridwidth\":2},\"yaxis\":{\"backgroundcolor\":\"#E5ECF6\",\"gridcolor\":\"white\",\"linecolor\":\"white\",\"showbackground\":true,\"ticks\":\"\",\"zerolinecolor\":\"white\",\"gridwidth\":2},\"zaxis\":{\"backgroundcolor\":\"#E5ECF6\",\"gridcolor\":\"white\",\"linecolor\":\"white\",\"showbackground\":true,\"ticks\":\"\",\"zerolinecolor\":\"white\",\"gridwidth\":2}},\"shapedefaults\":{\"line\":{\"color\":\"#2a3f5f\"}},\"annotationdefaults\":{\"arrowcolor\":\"#2a3f5f\",\"arrowhead\":0,\"arrowwidth\":1},\"geo\":{\"bgcolor\":\"white\",\"landcolor\":\"#E5ECF6\",\"subunitcolor\":\"white\",\"showland\":true,\"showlakes\":true,\"lakecolor\":\"white\"},\"title\":{\"x\":0.05},\"mapbox\":{\"style\":\"light\"}}},\"title\":{\"text\":\"\\u0412\\u043e\\u0440\\u043e\\u043d\\u043a\\u0430 \\u043f\\u043e\\u043b\\u044c\\u0437\\u043e\\u0432\\u0430\\u0442\\u0435\\u043b\\u0435\\u0439 \\u043f\\u0435\\u0440\\u0435\\u0448\\u0435\\u0434\\u0448\\u0438\\u0445 \\u043d\\u0430 \\u0441\\u043b\\u0435\\u0434 \\u044d\\u0442\\u0430\\u043f \\u043e\\u043d\\u043e\\u0441\\u0438\\u0442\\u0435\\u043b\\u044c\\u043d\\u043e \\u043f\\u0440\\u0435\\u0434\\u044b\\u0434\\u0443\\u0449\\u0435\\u0433\\u043e\"}},                        {\"responsive\": true}                    ).then(function(){\n",
       "                            \n",
       "var gd = document.getElementById('5b188131-0ee1-43ba-85a9-3bd0fe64e52d');\n",
       "var x = new MutationObserver(function (mutations, observer) {{\n",
       "        var display = window.getComputedStyle(gd).display;\n",
       "        if (!display || display === 'none') {{\n",
       "            console.log([gd, 'removed!']);\n",
       "            Plotly.purge(gd);\n",
       "            observer.disconnect();\n",
       "        }}\n",
       "}});\n",
       "\n",
       "// Listen for the removal of the full notebook cells\n",
       "var notebookContainer = gd.closest('#notebook-container');\n",
       "if (notebookContainer) {{\n",
       "    x.observe(notebookContainer, {childList: true});\n",
       "}}\n",
       "\n",
       "// Listen for the clearing of the current output cell\n",
       "var outputEl = gd.closest('.output');\n",
       "if (outputEl) {{\n",
       "    x.observe(outputEl, {childList: true});\n",
       "}}\n",
       "\n",
       "                        })                };                });            </script>        </div>"
      ]
     },
     "metadata": {},
     "output_type": "display_data"
    }
   ],
   "source": [
    "fig = go.Figure(go.Funnel(\n",
    "    y = ['MainScreenAppear', 'OffersScreenAppear', 'CartScreenAppear', 'PaymentScreenSuccessful'],\n",
    "    x = [100,61.9,81.3,94.8]))\n",
    "fig.update_layout(title=\"Воронка пользователей перешедших на след этап оносительно предыдущего\")\n",
    "fig.show()"
   ]
  },
  {
   "cell_type": "markdown",
   "metadata": {},
   "source": [
    " #### Вывод\n",
    "Было принято исключить Tutorial из воронки (он несет никакой пользы). \n",
    "\n",
    "**Посчитали долю пользователей, проходящих с каждого этапа к следующему.** \n",
    "\n",
    "* MainScreenAppear-OffersScreenAppear= **62%** потеря составляет **38 %** (очень большая, нужно искать причину возможно ошибки в работе приложения)\n",
    "\n",
    "* OffersScreenAppear-CartScreenAppear = **81%** потеря **29%** \n",
    "\n",
    "* CartScreenAppear-PaymentScreenSuccessful = **94%** потеря составляет **6%**\n",
    "\n",
    "* От первого события до оплаты доходит **47%**  пользователей\n",
    "\n"
   ]
  },
  {
   "cell_type": "markdown",
   "metadata": {},
   "source": [
    "### Изучить результаты эксперимента."
   ]
  },
  {
   "cell_type": "markdown",
   "metadata": {},
   "source": [
    "#### Колличество пользователей в каждой эксперемнтальной группе"
   ]
  },
  {
   "cell_type": "code",
   "execution_count": 31,
   "metadata": {
    "scrolled": true
   },
   "outputs": [
    {
     "data": {
      "text/plain": [
       "exp_id\n",
       "246    2484\n",
       "247    2513\n",
       "248    2537\n",
       "Name: device_id, dtype: int64"
      ]
     },
     "execution_count": 31,
     "metadata": {},
     "output_type": "execute_result"
    }
   ],
   "source": [
    "df.groupby('exp_id')['device_id'].nunique()"
   ]
  },
  {
   "cell_type": "markdown",
   "metadata": {},
   "source": [
    "**246 и 247 — контрольные группы, а 248 — экспериментальная.**\n",
    "\n",
    "Запишем кол-во пользователй для каждой группы в таблицу"
   ]
  },
  {
   "cell_type": "code",
   "execution_count": 32,
   "metadata": {},
   "outputs": [
    {
     "data": {
      "text/plain": [
       "exp_id\n",
       "246        2484\n",
       "247        2513\n",
       "248        2537\n",
       "246+247    4997\n",
       "Name: device_id, dtype: int64"
      ]
     },
     "execution_count": 32,
     "metadata": {},
     "output_type": "execute_result"
    }
   ],
   "source": [
    "users_by_group = df.groupby('exp_id')['device_id'].nunique()\n",
    "users_by_group['246+247'] = users_by_group[246] + users_by_group[247]\n",
    "users_by_group"
   ]
  },
  {
   "cell_type": "markdown",
   "metadata": {},
   "source": [
    "**Создадим таблицу  с числом пользователей в воронке идущей по всем этампам и по всем группам ( и их долю от общего числа)\n",
    "Событие Tutorial было исключенно**"
   ]
  },
  {
   "cell_type": "code",
   "execution_count": 33,
   "metadata": {},
   "outputs": [
    {
     "data": {
      "text/html": [
       "<div>\n",
       "<style scoped>\n",
       "    .dataframe tbody tr th:only-of-type {\n",
       "        vertical-align: middle;\n",
       "    }\n",
       "\n",
       "    .dataframe tbody tr th {\n",
       "        vertical-align: top;\n",
       "    }\n",
       "\n",
       "    .dataframe thead th {\n",
       "        text-align: right;\n",
       "    }\n",
       "</style>\n",
       "<table border=\"1\" class=\"dataframe\">\n",
       "  <thead>\n",
       "    <tr style=\"text-align: right;\">\n",
       "      <th>exp_id</th>\n",
       "      <th>event_name</th>\n",
       "      <th>246</th>\n",
       "      <th>247</th>\n",
       "      <th>248</th>\n",
       "    </tr>\n",
       "  </thead>\n",
       "  <tbody>\n",
       "    <tr>\n",
       "      <th>0</th>\n",
       "      <td>MainScreenAppear</td>\n",
       "      <td>2450</td>\n",
       "      <td>2476</td>\n",
       "      <td>2493</td>\n",
       "    </tr>\n",
       "    <tr>\n",
       "      <th>1</th>\n",
       "      <td>OffersScreenAppear</td>\n",
       "      <td>1542</td>\n",
       "      <td>1520</td>\n",
       "      <td>1531</td>\n",
       "    </tr>\n",
       "    <tr>\n",
       "      <th>2</th>\n",
       "      <td>CartScreenAppear</td>\n",
       "      <td>1266</td>\n",
       "      <td>1238</td>\n",
       "      <td>1230</td>\n",
       "    </tr>\n",
       "    <tr>\n",
       "      <th>3</th>\n",
       "      <td>PaymentScreenSuccessful</td>\n",
       "      <td>1200</td>\n",
       "      <td>1158</td>\n",
       "      <td>1181</td>\n",
       "    </tr>\n",
       "  </tbody>\n",
       "</table>\n",
       "</div>"
      ],
      "text/plain": [
       "exp_id               event_name   246   247   248\n",
       "0              MainScreenAppear  2450  2476  2493\n",
       "1            OffersScreenAppear  1542  1520  1531\n",
       "2              CartScreenAppear  1266  1238  1230\n",
       "3       PaymentScreenSuccessful  1200  1158  1181"
      ]
     },
     "metadata": {},
     "output_type": "display_data"
    },
    {
     "data": {
      "text/html": [
       "<div>\n",
       "<style scoped>\n",
       "    .dataframe tbody tr th:only-of-type {\n",
       "        vertical-align: middle;\n",
       "    }\n",
       "\n",
       "    .dataframe tbody tr th {\n",
       "        vertical-align: top;\n",
       "    }\n",
       "\n",
       "    .dataframe thead th {\n",
       "        text-align: right;\n",
       "    }\n",
       "</style>\n",
       "<table border=\"1\" class=\"dataframe\">\n",
       "  <thead>\n",
       "    <tr style=\"text-align: right;\">\n",
       "      <th>exp_id</th>\n",
       "      <th>event_name</th>\n",
       "      <th>246</th>\n",
       "      <th>247</th>\n",
       "      <th>248</th>\n",
       "      <th>246+247</th>\n",
       "      <th>ratio_246</th>\n",
       "      <th>ratio_247</th>\n",
       "      <th>ratio_248</th>\n",
       "      <th>ratio_246+247</th>\n",
       "    </tr>\n",
       "  </thead>\n",
       "  <tbody>\n",
       "    <tr>\n",
       "      <th>0</th>\n",
       "      <td>MainScreenAppear</td>\n",
       "      <td>2450</td>\n",
       "      <td>2476</td>\n",
       "      <td>2493</td>\n",
       "      <td>4926</td>\n",
       "      <td>98.6</td>\n",
       "      <td>98.5</td>\n",
       "      <td>98.3</td>\n",
       "      <td>98.6</td>\n",
       "    </tr>\n",
       "    <tr>\n",
       "      <th>1</th>\n",
       "      <td>OffersScreenAppear</td>\n",
       "      <td>1542</td>\n",
       "      <td>1520</td>\n",
       "      <td>1531</td>\n",
       "      <td>3062</td>\n",
       "      <td>62.1</td>\n",
       "      <td>60.5</td>\n",
       "      <td>60.3</td>\n",
       "      <td>61.3</td>\n",
       "    </tr>\n",
       "    <tr>\n",
       "      <th>2</th>\n",
       "      <td>CartScreenAppear</td>\n",
       "      <td>1266</td>\n",
       "      <td>1238</td>\n",
       "      <td>1230</td>\n",
       "      <td>2504</td>\n",
       "      <td>51.0</td>\n",
       "      <td>49.3</td>\n",
       "      <td>48.5</td>\n",
       "      <td>50.1</td>\n",
       "    </tr>\n",
       "    <tr>\n",
       "      <th>3</th>\n",
       "      <td>PaymentScreenSuccessful</td>\n",
       "      <td>1200</td>\n",
       "      <td>1158</td>\n",
       "      <td>1181</td>\n",
       "      <td>2358</td>\n",
       "      <td>48.3</td>\n",
       "      <td>46.1</td>\n",
       "      <td>46.6</td>\n",
       "      <td>47.2</td>\n",
       "    </tr>\n",
       "  </tbody>\n",
       "</table>\n",
       "</div>"
      ],
      "text/plain": [
       "exp_id               event_name   246   247   248  246+247  ratio_246  \\\n",
       "0              MainScreenAppear  2450  2476  2493     4926       98.6   \n",
       "1            OffersScreenAppear  1542  1520  1531     3062       62.1   \n",
       "2              CartScreenAppear  1266  1238  1230     2504       51.0   \n",
       "3       PaymentScreenSuccessful  1200  1158  1181     2358       48.3   \n",
       "\n",
       "exp_id  ratio_247  ratio_248  ratio_246+247  \n",
       "0            98.5       98.3           98.6  \n",
       "1            60.5       60.3           61.3  \n",
       "2            49.3       48.5           50.1  \n",
       "3            46.1       46.6           47.2  "
      ]
     },
     "execution_count": 33,
     "metadata": {},
     "output_type": "execute_result"
    }
   ],
   "source": [
    "event_test= df[df['event_name']!='Tutorial'].pivot_table(\n",
    "  index='event_name',\n",
    "  columns='exp_id',\n",
    "  values='device_id',\n",
    "  aggfunc='nunique').sort_values(by=246,ascending=False)\n",
    "event_test=event_test.reset_index()\n",
    "display(event_test)\n",
    "\n",
    "event_test['246+247']= event_test[246]+event_test[247]\n",
    "event_test['ratio_246']= round(event_test[246]/users_by_group[246]*100,1)\n",
    "event_test['ratio_247']= round(event_test[247]/users_by_group[247]*100,1)\n",
    "event_test['ratio_248']= round(event_test[248]/users_by_group[248]*100,1)\n",
    "event_test['ratio_246+247']= round((event_test[246]+event_test[247])/(users_by_group[246]+users_by_group[247])*100,1)\n",
    "event_test"
   ]
  },
  {
   "cell_type": "code",
   "execution_count": 34,
   "metadata": {},
   "outputs": [
    {
     "data": {
      "text/plain": [
       "MainScreenAppear           117328\n",
       "OffersScreenAppear          46333\n",
       "CartScreenAppear            42303\n",
       "PaymentScreenSuccessful     33918\n",
       "Tutorial                     1005\n",
       "Name: event_name, dtype: int64"
      ]
     },
     "execution_count": 34,
     "metadata": {},
     "output_type": "execute_result"
    }
   ],
   "source": [
    "df['event_name'].value_counts()"
   ]
  },
  {
   "cell_type": "markdown",
   "metadata": {},
   "source": [
    "**Самое популярное событие MainScreenAppear**\n",
    "\n",
    "**Число пользователей, совершивших это событие в каждой из контрольных групп**\n",
    "\n",
    "* *246-2450*\n",
    "\n",
    "* *247-2476*\n",
    "\n",
    "* *248-2493*\n",
    "\n",
    "**Доля пользователей, совершивших это событие.**\n",
    "\n",
    "* *246-98,6%*\n",
    "\n",
    "* *247-98,5%*\n",
    "\n",
    "* *248-98,3%*\n"
   ]
  },
  {
   "cell_type": "markdown",
   "metadata": {},
   "source": [
    "**Выведем основную и альтернативную гипотезы для всех парных сравнений:**\n",
    "\n",
    "**Н0**- доли уникальных пользователей побывавших на этапе воронки одинаковы\n",
    "\n",
    "**Н1**- доли уникальных пользователей побывавших на этапе воронки отличаются"
   ]
  },
  {
   "cell_type": "markdown",
   "metadata": {},
   "source": [
    "А/В тест\n",
    "Перед тем как начать A/B-тест:\n",
    "\n",
    "* на результаты не влияют аномалии и выбросы в генеральной совокупности;\n",
    "\n",
    "* инструмент «деления» трафика работает безошибочно;\n",
    "\n",
    "* данные отправляются в системы аналитики корректно.\n",
    "\n",
    "\n",
    "** Группа 246 и 247  должны быть одинаковыми**"
   ]
  },
  {
   "cell_type": "markdown",
   "metadata": {},
   "source": [
    "*Несколько сравнений, проводимых на одних и тех же данных — это множественный тест. Его важная особенность в том, что с каждой новой проверкой гипотезы растёт вероятность ошибки первого рода.  применяем метод корректировки уровня значимости Метод Шидака.*"
   ]
  },
  {
   "cell_type": "code",
   "execution_count": 35,
   "metadata": {
    "scrolled": true
   },
   "outputs": [
    {
     "name": "stdout",
     "output_type": "stream",
     "text": [
      "Вероятность увидеть случайно разницу, даже если ee нет, в 16 тестaх 0.0032006977101884937\n"
     ]
    }
   ],
   "source": [
    "alpha1=1-(1-0.05)**(1/16)# допустимая вероятность ложноположительного результата хотя бы в одном из тестов  при (alpha=0.005) \n",
    "print(\"Вероятность увидеть случайно разницу, даже если ee нет, в 16 тестaх\",alpha1)"
   ]
  },
  {
   "cell_type": "code",
   "execution_count": 36,
   "metadata": {},
   "outputs": [
    {
     "name": "stdout",
     "output_type": "stream",
     "text": [
      "MainScreenAppear p-значение: 0.7570597232046099\n",
      "Не получилось отвергнуть нулевую гипотезу, нет оснований считать доли разными\n",
      "\n",
      "OffersScreenAppear p-значение: 0.2480954578522181\n",
      "Не получилось отвергнуть нулевую гипотезу, нет оснований считать доли разными\n",
      "\n",
      "CartScreenAppear p-значение: 0.22883372237997213\n",
      "Не получилось отвергнуть нулевую гипотезу, нет оснований считать доли разными\n",
      "\n",
      "PaymentScreenSuccessful p-значение: 0.11456679313141849\n",
      "Не получилось отвергнуть нулевую гипотезу, нет оснований считать доли разными\n",
      "\n"
     ]
    }
   ],
   "source": [
    "def z_test(group1, group2, alpha):\n",
    "    for i in event_test.index:\n",
    "        p1 = event_test[group1][i] / users_by_group[group1]\n",
    "        # пропорция успехов во второй группе:\n",
    "        p2 = event_test[group2][i] / users_by_group[group2]\n",
    "        # пропорция успехов в комбинированном датасете:\n",
    "        p = ((event_test[group1][i] + event_test[group2][i]) / \n",
    "                      (users_by_group[group1] + users_by_group[group2]))\n",
    "        # разница пропорций в датасетах\n",
    "        difference = p1 - p2\n",
    "        # считаем статистику в ст.отклонениях стандартного нормального распределения\n",
    "        z_value = difference / mth.sqrt(p * (1 - p) * \n",
    "                                        (1/users_by_group[group1] + 1/users_by_group[group2]))\n",
    "        # задаем стандартное нормальное распределение (среднее 0, ст.отклонение 1)\n",
    "        distr = st.norm(0, 1) \n",
    "        p_value = (1 - distr.cdf(abs(z_value))) * 2\n",
    "        print('{} p-значение: {}'.format(event_test['event_name'][i], p_value))\n",
    "        if (p_value < alpha):\n",
    "            print(\"Отвергаем нулевую гипотезу: между долями есть значимая разница\")\n",
    "        else:\n",
    "            print(\"Не получилось отвергнуть нулевую гипотезу, нет оснований считать доли разными\")\n",
    "        print('')\n",
    "        \n",
    "z_test(246, 247, 0.003)"
   ]
  },
  {
   "cell_type": "markdown",
   "metadata": {},
   "source": [
    "**По результатам тестирования для всех событий разница не оказалась значимой, эти группы считаем контрольными**\n"
   ]
  },
  {
   "cell_type": "markdown",
   "metadata": {},
   "source": [
    "#### 246/248 - эксперемент\n"
   ]
  },
  {
   "cell_type": "code",
   "execution_count": 37,
   "metadata": {},
   "outputs": [
    {
     "name": "stdout",
     "output_type": "stream",
     "text": [
      "MainScreenAppear p-значение: 0.2949721933554552\n",
      "Не получилось отвергнуть нулевую гипотезу, нет оснований считать доли разными\n",
      "\n",
      "OffersScreenAppear p-значение: 0.20836205402738917\n",
      "Не получилось отвергнуть нулевую гипотезу, нет оснований считать доли разными\n",
      "\n",
      "CartScreenAppear p-значение: 0.07842923237520116\n",
      "Не получилось отвергнуть нулевую гипотезу, нет оснований считать доли разными\n",
      "\n",
      "PaymentScreenSuccessful p-значение: 0.2122553275697796\n",
      "Не получилось отвергнуть нулевую гипотезу, нет оснований считать доли разными\n",
      "\n"
     ]
    }
   ],
   "source": [
    "z_test(246,248,0.003)"
   ]
  },
  {
   "cell_type": "markdown",
   "metadata": {},
   "source": [
    "#### 247/248 - эксперемент"
   ]
  },
  {
   "cell_type": "code",
   "execution_count": 38,
   "metadata": {},
   "outputs": [
    {
     "name": "stdout",
     "output_type": "stream",
     "text": [
      "MainScreenAppear p-значение: 0.4587053616621515\n",
      "Не получилось отвергнуть нулевую гипотезу, нет оснований считать доли разными\n",
      "\n",
      "OffersScreenAppear p-значение: 0.9197817830592261\n",
      "Не получилось отвергнуть нулевую гипотезу, нет оснований считать доли разными\n",
      "\n",
      "CartScreenAppear p-значение: 0.5786197879539783\n",
      "Не получилось отвергнуть нулевую гипотезу, нет оснований считать доли разными\n",
      "\n",
      "PaymentScreenSuccessful p-значение: 0.7373415053803964\n",
      "Не получилось отвергнуть нулевую гипотезу, нет оснований считать доли разными\n",
      "\n"
     ]
    }
   ],
   "source": [
    "z_test(247,248,0.003)"
   ]
  },
  {
   "cell_type": "markdown",
   "metadata": {},
   "source": [
    "#### 246+247/248 - эксперемент"
   ]
  },
  {
   "cell_type": "code",
   "execution_count": 39,
   "metadata": {
    "scrolled": true
   },
   "outputs": [
    {
     "name": "stdout",
     "output_type": "stream",
     "text": [
      "MainScreenAppear p-значение: 0.29424526837179577\n",
      "Не получилось отвергнуть нулевую гипотезу, нет оснований считать доли разными\n",
      "\n",
      "OffersScreenAppear p-значение: 0.43425549655188256\n",
      "Не получилось отвергнуть нулевую гипотезу, нет оснований считать доли разными\n",
      "\n",
      "CartScreenAppear p-значение: 0.18175875284404386\n",
      "Не получилось отвергнуть нулевую гипотезу, нет оснований считать доли разными\n",
      "\n",
      "PaymentScreenSuccessful p-значение: 0.6004294282308704\n",
      "Не получилось отвергнуть нулевую гипотезу, нет оснований считать доли разными\n",
      "\n"
     ]
    }
   ],
   "source": [
    "z_test('246+247',248,0.003)"
   ]
  },
  {
   "cell_type": "markdown",
   "metadata": {},
   "source": [
    "#### Вывод \n",
    "**Вывод: Значимой разницы между группами во всех тестах не выявлено.**"
   ]
  },
  {
   "cell_type": "markdown",
   "metadata": {},
   "source": [
    "### Общий вывод."
   ]
  },
  {
   "cell_type": "markdown",
   "metadata": {},
   "source": [
    "* В ходе обработки были добавлены столбцы date и date_time. Заменены названия столбцов. Удалены дубликаты. Изменен тип данных в столбце date.\n",
    " \n",
    "* Всего кол-во событий в логе 240887\n",
    "\n",
    "* Всего пользователе в логе 7534\n",
    "\n",
    "* Средне кол-во событий на пользователя= 32., но так как много вбросов лучше взять медианное значение 20.\n",
    "\n",
    "* При рассмотрение временного периода было обнаружено что в первую неделю данные собирались плохо либо не собирались во все. Принято решение для дальнейшего анализа оставить данные начиная с 1 августа по 7 августа. При удаление первой недели было потерянно 0,23% пользователей и 1,16% событий.\n",
    "\n",
    "* Проверили чтоб в данных не было пользователей, которые учувствуют во всех трех группах. Распределение между группами практически равномерно около 2500 тыс., а событий примерно по 80 тыс.\n",
    "\n",
    "* Самое популярное событие MainScreenAppear, событие, которое реже всего используют пользователи Tutorial. Так как он не несет практической пользы было принято решение исключить его из дальнейшего анализа.\n",
    "\n",
    "* События происходят в порядке\n",
    "\n",
    "1.Появление главного экрана - MainScreenAppear\n",
    "\n",
    "2.Появление экрана предложений - OffersScreenAppear\n",
    "\n",
    "3.Появление экрана корзины - CartScreenAppear\n",
    "\n",
    "4.Экран оплата успешна - PaymentScreenSuccessful\n",
    "\n",
    "5.Руководство - Tutorial\n",
    "\n",
    "\n",
    "* Посчитали долю пользователей, проходящих с каждого этапа к следующему. MainScreenAppear-OffersScreenAppear= 62% потеря составляет 38 % (очень большая, нужно искать причину возможно ошибки в работе приложения) OffersScreenAppear-CartScreenAppear = 81% потеря 29% CartScreenAppear-PaymentScreenSuccessful = **94% потеря составляет 6%\n",
    "* От первого события до оплаты доходит 47% пользователей\n",
    "\n",
    "* В ходе и A/A/B-теста было проведено 16 экспериментов:\n",
    "  * 246/247 - 4 эксперимента (для каждого события) / уровень статистической значимости - 1%\n",
    "  * 246/248 - 4 эксперимента (для каждого события) / уровень статистической значимости - 5%\n",
    "  * 247/248 - 4 эксперимента (для каждого события) / уровень статистической значимости - 5%\n",
    "  * 246+247/248 - 4 эксперимента (для каждого события) / уровень статистической значимости - 5%\n",
    "**246 и 247 — контрольные группы, а 248 — экспериментальная.**\n",
    "\n",
    "Группа 246 и 247 должны быть одинаковыми, то для этих групп уровень статистической значимости 1%. (более жесткий контроль). Для всех остальных тестов выберем стандартный уровень статистической значимости равный 5%, так как не нужна высокая точность.\n",
    "\n",
    "* В результате всех и каждого A/A/B эксперемента значимой разницы между группами не выявлено. Поэтому можно утверждать, что на поведение пользователей изменение шрифта значимого эффекта не оказало. Тестирование можно назвать успешным - изменение шрифта не повлияло на поведение пользователей.\n"
   ]
  },
  {
   "cell_type": "code",
   "execution_count": null,
   "metadata": {},
   "outputs": [],
   "source": []
  }
 ],
 "metadata": {
  "ExecuteTimeLog": [
   {
    "duration": 1201,
    "start_time": "2023-03-01T11:46:43.751Z"
   },
   {
    "duration": 132,
    "start_time": "2023-03-01T11:48:11.146Z"
   },
   {
    "duration": 38,
    "start_time": "2023-03-01T11:50:19.850Z"
   },
   {
    "duration": 3,
    "start_time": "2023-03-01T11:50:47.355Z"
   },
   {
    "duration": 38,
    "start_time": "2023-03-01T11:50:50.497Z"
   },
   {
    "duration": 720,
    "start_time": "2023-03-01T11:51:51.552Z"
   },
   {
    "duration": 16,
    "start_time": "2023-03-01T11:56:10.624Z"
   },
   {
    "duration": 13,
    "start_time": "2023-03-01T11:56:27.521Z"
   },
   {
    "duration": 105,
    "start_time": "2023-03-01T11:56:36.393Z"
   },
   {
    "duration": 21,
    "start_time": "2023-03-01T11:57:07.220Z"
   },
   {
    "duration": 4,
    "start_time": "2023-03-01T11:59:25.292Z"
   },
   {
    "duration": 46,
    "start_time": "2023-03-01T12:00:19.853Z"
   },
   {
    "duration": 30,
    "start_time": "2023-03-01T12:00:40.791Z"
   },
   {
    "duration": 82,
    "start_time": "2023-03-01T12:03:00.216Z"
   },
   {
    "duration": 68,
    "start_time": "2023-03-01T12:03:24.951Z"
   },
   {
    "duration": 74,
    "start_time": "2023-03-01T12:03:43.328Z"
   },
   {
    "duration": 15,
    "start_time": "2023-03-01T12:08:57.716Z"
   },
   {
    "duration": 44,
    "start_time": "2023-03-01T12:09:39.825Z"
   },
   {
    "duration": 12,
    "start_time": "2023-03-01T12:12:23.129Z"
   },
   {
    "duration": 4,
    "start_time": "2023-03-01T12:12:29.569Z"
   },
   {
    "duration": 12,
    "start_time": "2023-03-01T12:12:44.119Z"
   },
   {
    "duration": 11,
    "start_time": "2023-03-01T12:13:21.951Z"
   },
   {
    "duration": 13,
    "start_time": "2023-03-01T12:13:44.221Z"
   },
   {
    "duration": 8,
    "start_time": "2023-03-01T12:14:15.450Z"
   },
   {
    "duration": 8,
    "start_time": "2023-03-01T12:14:20.492Z"
   },
   {
    "duration": 7,
    "start_time": "2023-03-01T12:14:29.032Z"
   },
   {
    "duration": 1210,
    "start_time": "2023-03-01T12:14:35.480Z"
   },
   {
    "duration": 697,
    "start_time": "2023-03-01T12:14:36.692Z"
   },
   {
    "duration": 27,
    "start_time": "2023-03-01T12:14:37.391Z"
   },
   {
    "duration": 88,
    "start_time": "2023-03-01T12:14:37.420Z"
   },
   {
    "duration": 15,
    "start_time": "2023-03-01T12:14:37.510Z"
   },
   {
    "duration": 12,
    "start_time": "2023-03-01T12:14:37.527Z"
   },
   {
    "duration": 8,
    "start_time": "2023-03-01T12:14:58.889Z"
   },
   {
    "duration": 4,
    "start_time": "2023-03-01T12:19:21.138Z"
   },
   {
    "duration": 66,
    "start_time": "2023-03-01T12:21:57.120Z"
   },
   {
    "duration": 102,
    "start_time": "2023-03-01T12:24:47.586Z"
   },
   {
    "duration": 11,
    "start_time": "2023-03-01T12:24:59.718Z"
   },
   {
    "duration": 10,
    "start_time": "2023-03-01T12:28:53.175Z"
   },
   {
    "duration": 62,
    "start_time": "2023-03-01T12:36:23.972Z"
   },
   {
    "duration": 29,
    "start_time": "2023-03-01T12:36:35.538Z"
   },
   {
    "duration": 27,
    "start_time": "2023-03-01T12:37:30.666Z"
   },
   {
    "duration": 11,
    "start_time": "2023-03-01T12:42:21.456Z"
   },
   {
    "duration": 1287,
    "start_time": "2023-03-01T12:42:33.621Z"
   },
   {
    "duration": 171,
    "start_time": "2023-03-01T12:42:34.910Z"
   },
   {
    "duration": 28,
    "start_time": "2023-03-01T12:42:35.083Z"
   },
   {
    "duration": 70,
    "start_time": "2023-03-01T12:42:35.114Z"
   },
   {
    "duration": 31,
    "start_time": "2023-03-01T12:42:35.186Z"
   },
   {
    "duration": 18,
    "start_time": "2023-03-01T12:42:35.219Z"
   },
   {
    "duration": 112,
    "start_time": "2023-03-01T12:43:41.793Z"
   },
   {
    "duration": 4,
    "start_time": "2023-03-01T12:44:04.901Z"
   },
   {
    "duration": 264,
    "start_time": "2023-03-01T12:44:06.542Z"
   },
   {
    "duration": 15,
    "start_time": "2023-03-01T12:44:10.512Z"
   },
   {
    "duration": 13,
    "start_time": "2023-03-01T12:44:22.439Z"
   },
   {
    "duration": 800,
    "start_time": "2023-03-01T12:44:38.614Z"
   },
   {
    "duration": 818,
    "start_time": "2023-03-01T12:45:09.303Z"
   },
   {
    "duration": 12,
    "start_time": "2023-03-01T12:45:17.139Z"
   },
   {
    "duration": 9,
    "start_time": "2023-03-01T12:45:19.141Z"
   },
   {
    "duration": 49,
    "start_time": "2023-03-01T12:45:26.073Z"
   },
   {
    "duration": 60,
    "start_time": "2023-03-01T12:45:31.560Z"
   },
   {
    "duration": 19,
    "start_time": "2023-03-01T12:45:48.467Z"
   },
   {
    "duration": 1231,
    "start_time": "2023-03-01T12:50:59.945Z"
   },
   {
    "duration": 165,
    "start_time": "2023-03-01T12:51:01.179Z"
   },
   {
    "duration": 23,
    "start_time": "2023-03-01T12:51:01.346Z"
   },
   {
    "duration": 98,
    "start_time": "2023-03-01T12:51:01.371Z"
   },
   {
    "duration": 18,
    "start_time": "2023-03-01T12:51:01.471Z"
   },
   {
    "duration": 37,
    "start_time": "2023-03-01T12:51:01.491Z"
   },
   {
    "duration": 66,
    "start_time": "2023-03-01T12:51:01.530Z"
   },
   {
    "duration": 122,
    "start_time": "2023-03-01T12:51:01.598Z"
   },
   {
    "duration": 817,
    "start_time": "2023-03-01T12:52:27.194Z"
   },
   {
    "duration": 95,
    "start_time": "2023-03-01T12:52:47.030Z"
   },
   {
    "duration": 27,
    "start_time": "2023-03-01T12:53:22.393Z"
   },
   {
    "duration": 718,
    "start_time": "2023-03-01T12:54:46.903Z"
   },
   {
    "duration": 701,
    "start_time": "2023-03-01T12:54:57.542Z"
   },
   {
    "duration": 709,
    "start_time": "2023-03-01T12:55:10.340Z"
   },
   {
    "duration": 778,
    "start_time": "2023-03-01T12:55:25.786Z"
   },
   {
    "duration": 904,
    "start_time": "2023-03-01T12:56:03.731Z"
   },
   {
    "duration": 1336,
    "start_time": "2023-03-01T12:56:09.385Z"
   },
   {
    "duration": 180,
    "start_time": "2023-03-01T12:56:10.723Z"
   },
   {
    "duration": 28,
    "start_time": "2023-03-01T12:56:10.906Z"
   },
   {
    "duration": 90,
    "start_time": "2023-03-01T12:56:10.936Z"
   },
   {
    "duration": 16,
    "start_time": "2023-03-01T12:56:11.028Z"
   },
   {
    "duration": 10,
    "start_time": "2023-03-01T12:56:11.047Z"
   },
   {
    "duration": 46,
    "start_time": "2023-03-01T12:56:11.059Z"
   },
   {
    "duration": 82,
    "start_time": "2023-03-01T12:56:11.107Z"
   },
   {
    "duration": 40,
    "start_time": "2023-03-01T12:56:11.191Z"
   },
   {
    "duration": 90,
    "start_time": "2023-03-01T12:56:11.233Z"
   },
   {
    "duration": 1318,
    "start_time": "2023-03-01T12:56:32.162Z"
   },
   {
    "duration": 172,
    "start_time": "2023-03-01T12:56:33.483Z"
   },
   {
    "duration": 24,
    "start_time": "2023-03-01T12:56:33.657Z"
   },
   {
    "duration": 91,
    "start_time": "2023-03-01T12:56:33.682Z"
   },
   {
    "duration": 28,
    "start_time": "2023-03-01T12:56:33.777Z"
   },
   {
    "duration": 8,
    "start_time": "2023-03-01T12:56:33.808Z"
   },
   {
    "duration": 25,
    "start_time": "2023-03-01T12:56:33.818Z"
   },
   {
    "duration": 233,
    "start_time": "2023-03-01T12:56:33.845Z"
   },
   {
    "duration": 0,
    "start_time": "2023-03-01T12:56:34.080Z"
   },
   {
    "duration": 0,
    "start_time": "2023-03-01T12:56:34.082Z"
   },
   {
    "duration": 106,
    "start_time": "2023-03-01T12:59:05.970Z"
   },
   {
    "duration": 45,
    "start_time": "2023-03-01T12:59:13.999Z"
   },
   {
    "duration": 92,
    "start_time": "2023-03-01T12:59:18.045Z"
   },
   {
    "duration": 104,
    "start_time": "2023-03-01T13:04:26.248Z"
   },
   {
    "duration": 111,
    "start_time": "2023-03-01T13:04:32.456Z"
   },
   {
    "duration": 123,
    "start_time": "2023-03-01T13:06:32.200Z"
   },
   {
    "duration": 212,
    "start_time": "2023-03-01T13:24:35.899Z"
   },
   {
    "duration": 1302,
    "start_time": "2023-03-01T13:24:49.991Z"
   },
   {
    "duration": 475,
    "start_time": "2023-03-01T13:24:51.296Z"
   },
   {
    "duration": 20,
    "start_time": "2023-03-01T13:24:51.773Z"
   },
   {
    "duration": 102,
    "start_time": "2023-03-01T13:24:51.796Z"
   },
   {
    "duration": 27,
    "start_time": "2023-03-01T13:24:51.902Z"
   },
   {
    "duration": 16,
    "start_time": "2023-03-01T13:24:51.931Z"
   },
   {
    "duration": 39,
    "start_time": "2023-03-01T13:24:51.949Z"
   },
   {
    "duration": 104,
    "start_time": "2023-03-01T13:24:51.991Z"
   },
   {
    "duration": 55,
    "start_time": "2023-03-01T13:24:52.097Z"
   },
   {
    "duration": 75,
    "start_time": "2023-03-01T13:24:52.155Z"
   },
   {
    "duration": 160,
    "start_time": "2023-03-01T13:24:52.232Z"
   },
   {
    "duration": 167,
    "start_time": "2023-03-01T13:24:52.394Z"
   },
   {
    "duration": 48,
    "start_time": "2023-03-01T13:25:35.065Z"
   },
   {
    "duration": 65,
    "start_time": "2023-03-01T13:25:47.768Z"
   },
   {
    "duration": 125,
    "start_time": "2023-03-01T13:25:57.741Z"
   },
   {
    "duration": 26,
    "start_time": "2023-03-01T13:27:21.405Z"
   },
   {
    "duration": 34,
    "start_time": "2023-03-01T13:34:02.052Z"
   },
   {
    "duration": 31,
    "start_time": "2023-03-01T13:35:40.669Z"
   },
   {
    "duration": 8,
    "start_time": "2023-03-01T13:36:20.093Z"
   },
   {
    "duration": 8,
    "start_time": "2023-03-01T13:36:35.420Z"
   },
   {
    "duration": 42,
    "start_time": "2023-03-01T13:38:26.603Z"
   },
   {
    "duration": 4,
    "start_time": "2023-03-01T13:38:32.454Z"
   },
   {
    "duration": 8,
    "start_time": "2023-03-01T13:40:25.010Z"
   },
   {
    "duration": 58,
    "start_time": "2023-03-01T13:42:19.286Z"
   },
   {
    "duration": 9,
    "start_time": "2023-03-01T13:44:30.061Z"
   },
   {
    "duration": 11,
    "start_time": "2023-03-01T14:14:24.005Z"
   },
   {
    "duration": 10,
    "start_time": "2023-03-01T14:14:29.663Z"
   },
   {
    "duration": 329,
    "start_time": "2023-03-01T14:14:37.995Z"
   },
   {
    "duration": 57,
    "start_time": "2023-03-01T14:16:16.291Z"
   },
   {
    "duration": 211,
    "start_time": "2023-03-01T14:16:20.322Z"
   },
   {
    "duration": 203,
    "start_time": "2023-03-01T14:16:39.687Z"
   },
   {
    "duration": 241,
    "start_time": "2023-03-01T14:18:58.910Z"
   },
   {
    "duration": 225,
    "start_time": "2023-03-01T14:19:10.955Z"
   },
   {
    "duration": 208,
    "start_time": "2023-03-01T14:24:14.768Z"
   },
   {
    "duration": 2408,
    "start_time": "2023-03-01T14:29:28.805Z"
   },
   {
    "duration": 611,
    "start_time": "2023-03-01T14:29:31.215Z"
   },
   {
    "duration": 25,
    "start_time": "2023-03-01T14:29:31.828Z"
   },
   {
    "duration": 79,
    "start_time": "2023-03-01T14:29:31.855Z"
   },
   {
    "duration": 15,
    "start_time": "2023-03-01T14:29:31.937Z"
   },
   {
    "duration": 17,
    "start_time": "2023-03-01T14:29:31.955Z"
   },
   {
    "duration": 34,
    "start_time": "2023-03-01T14:29:31.973Z"
   },
   {
    "duration": 96,
    "start_time": "2023-03-01T14:29:32.009Z"
   },
   {
    "duration": 41,
    "start_time": "2023-03-01T14:29:32.107Z"
   },
   {
    "duration": 80,
    "start_time": "2023-03-01T14:29:32.150Z"
   },
   {
    "duration": 135,
    "start_time": "2023-03-01T14:29:32.232Z"
   },
   {
    "duration": 38,
    "start_time": "2023-03-01T14:29:32.369Z"
   },
   {
    "duration": 9,
    "start_time": "2023-03-01T14:29:32.409Z"
   },
   {
    "duration": 12,
    "start_time": "2023-03-01T14:29:32.421Z"
   },
   {
    "duration": 24,
    "start_time": "2023-03-01T14:29:32.435Z"
   },
   {
    "duration": 338,
    "start_time": "2023-03-01T14:29:32.461Z"
   },
   {
    "duration": 1167,
    "start_time": "2023-03-01T14:30:34.690Z"
   },
   {
    "duration": 156,
    "start_time": "2023-03-01T14:30:35.859Z"
   },
   {
    "duration": 20,
    "start_time": "2023-03-01T14:30:36.017Z"
   },
   {
    "duration": 77,
    "start_time": "2023-03-01T14:30:36.038Z"
   },
   {
    "duration": 13,
    "start_time": "2023-03-01T14:30:36.117Z"
   },
   {
    "duration": 12,
    "start_time": "2023-03-01T14:30:36.132Z"
   },
   {
    "duration": 34,
    "start_time": "2023-03-01T14:30:36.146Z"
   },
   {
    "duration": 105,
    "start_time": "2023-03-01T14:30:36.182Z"
   },
   {
    "duration": 32,
    "start_time": "2023-03-01T14:30:36.289Z"
   },
   {
    "duration": 63,
    "start_time": "2023-03-01T14:30:36.323Z"
   },
   {
    "duration": 123,
    "start_time": "2023-03-01T14:30:36.404Z"
   },
   {
    "duration": 27,
    "start_time": "2023-03-01T14:30:36.529Z"
   },
   {
    "duration": 8,
    "start_time": "2023-03-01T14:30:36.558Z"
   },
   {
    "duration": 4,
    "start_time": "2023-03-01T14:30:36.568Z"
   },
   {
    "duration": 39,
    "start_time": "2023-03-01T14:30:36.573Z"
   },
   {
    "duration": 312,
    "start_time": "2023-03-01T14:30:36.614Z"
   },
   {
    "duration": 2058,
    "start_time": "2023-03-01T14:32:10.900Z"
   },
   {
    "duration": 432,
    "start_time": "2023-03-01T14:32:12.960Z"
   },
   {
    "duration": 19,
    "start_time": "2023-03-01T14:32:13.394Z"
   },
   {
    "duration": 71,
    "start_time": "2023-03-01T14:32:13.415Z"
   },
   {
    "duration": 22,
    "start_time": "2023-03-01T14:32:13.487Z"
   },
   {
    "duration": 10,
    "start_time": "2023-03-01T14:32:13.511Z"
   },
   {
    "duration": 21,
    "start_time": "2023-03-01T14:32:13.523Z"
   },
   {
    "duration": 93,
    "start_time": "2023-03-01T14:32:13.546Z"
   },
   {
    "duration": 31,
    "start_time": "2023-03-01T14:32:13.641Z"
   },
   {
    "duration": 83,
    "start_time": "2023-03-01T14:32:13.674Z"
   },
   {
    "duration": 128,
    "start_time": "2023-03-01T14:32:13.759Z"
   },
   {
    "duration": 41,
    "start_time": "2023-03-01T14:32:13.889Z"
   },
   {
    "duration": 10,
    "start_time": "2023-03-01T14:32:13.932Z"
   },
   {
    "duration": 20,
    "start_time": "2023-03-01T14:32:13.946Z"
   },
   {
    "duration": 38,
    "start_time": "2023-03-01T14:32:13.968Z"
   },
   {
    "duration": 367,
    "start_time": "2023-03-01T14:32:14.008Z"
   },
   {
    "duration": 1252,
    "start_time": "2023-03-01T14:38:50.888Z"
   },
   {
    "duration": 705,
    "start_time": "2023-03-01T14:38:52.142Z"
   },
   {
    "duration": 24,
    "start_time": "2023-03-01T14:38:52.849Z"
   },
   {
    "duration": 83,
    "start_time": "2023-03-01T14:38:52.875Z"
   },
   {
    "duration": 19,
    "start_time": "2023-03-01T14:38:52.960Z"
   },
   {
    "duration": 27,
    "start_time": "2023-03-01T14:38:52.980Z"
   },
   {
    "duration": 22,
    "start_time": "2023-03-01T14:38:53.008Z"
   },
   {
    "duration": 102,
    "start_time": "2023-03-01T14:38:53.032Z"
   },
   {
    "duration": 32,
    "start_time": "2023-03-01T14:38:53.136Z"
   },
   {
    "duration": 97,
    "start_time": "2023-03-01T14:38:53.171Z"
   },
   {
    "duration": 136,
    "start_time": "2023-03-01T14:38:53.269Z"
   },
   {
    "duration": 30,
    "start_time": "2023-03-01T14:38:53.406Z"
   },
   {
    "duration": 9,
    "start_time": "2023-03-01T14:38:53.438Z"
   },
   {
    "duration": 5,
    "start_time": "2023-03-01T14:38:53.451Z"
   },
   {
    "duration": 16,
    "start_time": "2023-03-01T14:38:53.458Z"
   },
   {
    "duration": 348,
    "start_time": "2023-03-01T14:38:53.475Z"
   },
   {
    "duration": 1281,
    "start_time": "2023-03-01T14:38:53.825Z"
   },
   {
    "duration": 10,
    "start_time": "2023-03-01T14:42:18.691Z"
   },
   {
    "duration": 22,
    "start_time": "2023-03-01T14:43:09.109Z"
   },
   {
    "duration": 1299,
    "start_time": "2023-03-01T14:43:15.364Z"
   },
   {
    "duration": 192,
    "start_time": "2023-03-01T14:43:16.665Z"
   },
   {
    "duration": 31,
    "start_time": "2023-03-01T14:43:16.859Z"
   },
   {
    "duration": 78,
    "start_time": "2023-03-01T14:43:16.904Z"
   },
   {
    "duration": 26,
    "start_time": "2023-03-01T14:43:16.985Z"
   },
   {
    "duration": 10,
    "start_time": "2023-03-01T14:43:17.013Z"
   },
   {
    "duration": 27,
    "start_time": "2023-03-01T14:43:17.025Z"
   },
   {
    "duration": 86,
    "start_time": "2023-03-01T14:43:17.053Z"
   },
   {
    "duration": 33,
    "start_time": "2023-03-01T14:43:17.140Z"
   },
   {
    "duration": 82,
    "start_time": "2023-03-01T14:43:17.175Z"
   },
   {
    "duration": 141,
    "start_time": "2023-03-01T14:43:17.259Z"
   },
   {
    "duration": 30,
    "start_time": "2023-03-01T14:43:17.405Z"
   },
   {
    "duration": 10,
    "start_time": "2023-03-01T14:43:17.437Z"
   },
   {
    "duration": 4,
    "start_time": "2023-03-01T14:43:17.449Z"
   },
   {
    "duration": 20,
    "start_time": "2023-03-01T14:43:17.454Z"
   },
   {
    "duration": 333,
    "start_time": "2023-03-01T14:43:17.475Z"
   },
   {
    "duration": 141,
    "start_time": "2023-03-01T14:43:17.809Z"
   },
   {
    "duration": 28,
    "start_time": "2023-03-01T14:43:34.251Z"
   },
   {
    "duration": 195,
    "start_time": "2023-03-01T14:43:41.257Z"
   },
   {
    "duration": 246,
    "start_time": "2023-03-01T14:44:01.415Z"
   },
   {
    "duration": 203,
    "start_time": "2023-03-01T14:52:02.427Z"
   },
   {
    "duration": 27,
    "start_time": "2023-03-01T15:00:37.726Z"
   },
   {
    "duration": 47,
    "start_time": "2023-03-01T15:01:00.198Z"
   },
   {
    "duration": 14,
    "start_time": "2023-03-01T15:05:52.500Z"
   },
   {
    "duration": 244,
    "start_time": "2023-03-01T15:06:01.342Z"
   },
   {
    "duration": 222,
    "start_time": "2023-03-01T15:06:06.462Z"
   },
   {
    "duration": 222,
    "start_time": "2023-03-01T15:09:57.450Z"
   },
   {
    "duration": 304,
    "start_time": "2023-03-01T15:11:10.936Z"
   },
   {
    "duration": 257,
    "start_time": "2023-03-01T15:12:47.384Z"
   },
   {
    "duration": 233,
    "start_time": "2023-03-01T15:13:06.876Z"
   },
   {
    "duration": 1224,
    "start_time": "2023-03-01T15:13:22.439Z"
   },
   {
    "duration": 165,
    "start_time": "2023-03-01T15:13:23.666Z"
   },
   {
    "duration": 21,
    "start_time": "2023-03-01T15:13:23.833Z"
   },
   {
    "duration": 118,
    "start_time": "2023-03-01T15:13:23.856Z"
   },
   {
    "duration": 30,
    "start_time": "2023-03-01T15:13:23.977Z"
   },
   {
    "duration": 10,
    "start_time": "2023-03-01T15:13:24.009Z"
   },
   {
    "duration": 28,
    "start_time": "2023-03-01T15:13:24.022Z"
   },
   {
    "duration": 115,
    "start_time": "2023-03-01T15:13:24.053Z"
   },
   {
    "duration": 46,
    "start_time": "2023-03-01T15:13:24.170Z"
   },
   {
    "duration": 64,
    "start_time": "2023-03-01T15:13:24.218Z"
   },
   {
    "duration": 131,
    "start_time": "2023-03-01T15:13:24.284Z"
   },
   {
    "duration": 30,
    "start_time": "2023-03-01T15:13:24.417Z"
   },
   {
    "duration": 11,
    "start_time": "2023-03-01T15:13:24.448Z"
   },
   {
    "duration": 9,
    "start_time": "2023-03-01T15:13:24.461Z"
   },
   {
    "duration": 32,
    "start_time": "2023-03-01T15:13:24.472Z"
   },
   {
    "duration": 308,
    "start_time": "2023-03-01T15:13:24.506Z"
   },
   {
    "duration": 244,
    "start_time": "2023-03-01T15:13:24.816Z"
   },
   {
    "duration": 54,
    "start_time": "2023-03-01T15:13:25.062Z"
   },
   {
    "duration": 224,
    "start_time": "2023-03-01T15:14:43.139Z"
   },
   {
    "duration": 237,
    "start_time": "2023-03-01T15:14:47.953Z"
   },
   {
    "duration": 1260,
    "start_time": "2023-03-01T15:14:54.013Z"
   },
   {
    "duration": 172,
    "start_time": "2023-03-01T15:14:55.275Z"
   },
   {
    "duration": 20,
    "start_time": "2023-03-01T15:14:55.449Z"
   },
   {
    "duration": 88,
    "start_time": "2023-03-01T15:14:55.472Z"
   },
   {
    "duration": 14,
    "start_time": "2023-03-01T15:14:55.562Z"
   },
   {
    "duration": 10,
    "start_time": "2023-03-01T15:14:55.577Z"
   },
   {
    "duration": 18,
    "start_time": "2023-03-01T15:14:55.604Z"
   },
   {
    "duration": 91,
    "start_time": "2023-03-01T15:14:55.624Z"
   },
   {
    "duration": 28,
    "start_time": "2023-03-01T15:14:55.718Z"
   },
   {
    "duration": 122,
    "start_time": "2023-03-01T15:14:55.749Z"
   },
   {
    "duration": 132,
    "start_time": "2023-03-01T15:14:55.873Z"
   },
   {
    "duration": 29,
    "start_time": "2023-03-01T15:14:56.007Z"
   },
   {
    "duration": 9,
    "start_time": "2023-03-01T15:14:56.038Z"
   },
   {
    "duration": 29,
    "start_time": "2023-03-01T15:14:56.049Z"
   },
   {
    "duration": 16,
    "start_time": "2023-03-01T15:14:56.080Z"
   },
   {
    "duration": 305,
    "start_time": "2023-03-01T15:14:56.104Z"
   },
   {
    "duration": 248,
    "start_time": "2023-03-01T15:14:56.411Z"
   },
   {
    "duration": 67,
    "start_time": "2023-03-01T15:14:56.661Z"
   },
   {
    "duration": 47,
    "start_time": "2023-03-01T15:20:37.281Z"
   },
   {
    "duration": 8,
    "start_time": "2023-03-01T15:29:31.568Z"
   },
   {
    "duration": 32,
    "start_time": "2023-03-01T15:32:19.850Z"
   },
   {
    "duration": 35,
    "start_time": "2023-03-01T15:33:33.420Z"
   },
   {
    "duration": 58,
    "start_time": "2023-03-02T14:42:55.277Z"
   },
   {
    "duration": 1222,
    "start_time": "2023-03-02T14:42:59.813Z"
   },
   {
    "duration": 553,
    "start_time": "2023-03-02T14:43:01.036Z"
   },
   {
    "duration": 21,
    "start_time": "2023-03-02T14:43:01.590Z"
   },
   {
    "duration": 103,
    "start_time": "2023-03-02T14:43:01.612Z"
   },
   {
    "duration": 17,
    "start_time": "2023-03-02T14:43:01.717Z"
   },
   {
    "duration": 53,
    "start_time": "2023-03-02T14:43:01.736Z"
   },
   {
    "duration": 54,
    "start_time": "2023-03-02T14:43:01.791Z"
   },
   {
    "duration": 133,
    "start_time": "2023-03-02T14:43:01.847Z"
   },
   {
    "duration": 28,
    "start_time": "2023-03-02T14:43:01.982Z"
   },
   {
    "duration": 124,
    "start_time": "2023-03-02T14:43:02.012Z"
   },
   {
    "duration": 141,
    "start_time": "2023-03-02T14:43:02.138Z"
   },
   {
    "duration": 31,
    "start_time": "2023-03-02T14:43:02.281Z"
   },
   {
    "duration": 54,
    "start_time": "2023-03-02T14:43:02.314Z"
   },
   {
    "duration": 16,
    "start_time": "2023-03-02T14:43:02.371Z"
   },
   {
    "duration": 50,
    "start_time": "2023-03-02T14:43:02.389Z"
   },
   {
    "duration": 302,
    "start_time": "2023-03-02T14:43:02.440Z"
   },
   {
    "duration": 228,
    "start_time": "2023-03-02T14:43:02.744Z"
   },
   {
    "duration": 38,
    "start_time": "2023-03-02T14:43:02.974Z"
   },
   {
    "duration": 57,
    "start_time": "2023-03-02T14:43:03.013Z"
   },
   {
    "duration": 10,
    "start_time": "2023-03-02T14:43:03.072Z"
   },
   {
    "duration": 29,
    "start_time": "2023-03-02T14:44:53.880Z"
   },
   {
    "duration": 107,
    "start_time": "2023-03-02T14:50:10.664Z"
   },
   {
    "duration": 100,
    "start_time": "2023-03-02T14:50:19.981Z"
   },
   {
    "duration": 37,
    "start_time": "2023-03-02T14:50:28.425Z"
   },
   {
    "duration": 78,
    "start_time": "2023-03-02T14:50:49.682Z"
   },
   {
    "duration": 38,
    "start_time": "2023-03-02T14:52:30.940Z"
   },
   {
    "duration": 1081,
    "start_time": "2023-03-02T14:55:23.993Z"
   },
   {
    "duration": 164,
    "start_time": "2023-03-02T14:55:25.079Z"
   },
   {
    "duration": 28,
    "start_time": "2023-03-02T14:55:25.245Z"
   },
   {
    "duration": 67,
    "start_time": "2023-03-02T14:55:25.275Z"
   },
   {
    "duration": 26,
    "start_time": "2023-03-02T14:55:25.344Z"
   },
   {
    "duration": 20,
    "start_time": "2023-03-02T14:55:25.372Z"
   },
   {
    "duration": 23,
    "start_time": "2023-03-02T14:55:25.393Z"
   },
   {
    "duration": 110,
    "start_time": "2023-03-02T14:55:25.418Z"
   },
   {
    "duration": 51,
    "start_time": "2023-03-02T14:55:25.530Z"
   },
   {
    "duration": 74,
    "start_time": "2023-03-02T14:55:25.584Z"
   },
   {
    "duration": 91,
    "start_time": "2023-03-02T14:55:25.659Z"
   },
   {
    "duration": 38,
    "start_time": "2023-03-02T14:55:25.753Z"
   },
   {
    "duration": 7,
    "start_time": "2023-03-02T14:55:25.792Z"
   },
   {
    "duration": 4,
    "start_time": "2023-03-02T14:55:25.801Z"
   },
   {
    "duration": 9,
    "start_time": "2023-03-02T14:55:25.807Z"
   },
   {
    "duration": 290,
    "start_time": "2023-03-02T14:55:25.853Z"
   },
   {
    "duration": 209,
    "start_time": "2023-03-02T14:55:26.145Z"
   },
   {
    "duration": 38,
    "start_time": "2023-03-02T14:55:26.360Z"
   },
   {
    "duration": 32,
    "start_time": "2023-03-02T14:55:26.400Z"
   },
   {
    "duration": 24,
    "start_time": "2023-03-02T14:55:26.433Z"
   },
   {
    "duration": 29,
    "start_time": "2023-03-02T14:55:26.459Z"
   },
   {
    "duration": 47,
    "start_time": "2023-03-02T14:56:00.146Z"
   },
   {
    "duration": 43,
    "start_time": "2023-03-02T14:56:09.275Z"
   },
   {
    "duration": 183,
    "start_time": "2023-03-02T14:56:56.229Z"
   },
   {
    "duration": 202,
    "start_time": "2023-03-02T14:57:04.510Z"
   },
   {
    "duration": 192,
    "start_time": "2023-03-02T14:57:24.574Z"
   },
   {
    "duration": 1078,
    "start_time": "2023-03-02T14:57:36.811Z"
   },
   {
    "duration": 184,
    "start_time": "2023-03-02T14:57:37.891Z"
   },
   {
    "duration": 22,
    "start_time": "2023-03-02T14:57:38.077Z"
   },
   {
    "duration": 86,
    "start_time": "2023-03-02T14:57:38.101Z"
   },
   {
    "duration": 16,
    "start_time": "2023-03-02T14:57:38.190Z"
   },
   {
    "duration": 8,
    "start_time": "2023-03-02T14:57:38.208Z"
   },
   {
    "duration": 42,
    "start_time": "2023-03-02T14:57:38.219Z"
   },
   {
    "duration": 74,
    "start_time": "2023-03-02T14:57:38.263Z"
   },
   {
    "duration": 36,
    "start_time": "2023-03-02T14:57:38.347Z"
   },
   {
    "duration": 88,
    "start_time": "2023-03-02T14:57:38.384Z"
   },
   {
    "duration": 110,
    "start_time": "2023-03-02T14:57:38.474Z"
   },
   {
    "duration": 28,
    "start_time": "2023-03-02T14:57:38.585Z"
   },
   {
    "duration": 7,
    "start_time": "2023-03-02T14:57:38.614Z"
   },
   {
    "duration": 3,
    "start_time": "2023-03-02T14:57:38.623Z"
   },
   {
    "duration": 38,
    "start_time": "2023-03-02T14:57:38.627Z"
   },
   {
    "duration": 270,
    "start_time": "2023-03-02T14:57:38.666Z"
   },
   {
    "duration": 182,
    "start_time": "2023-03-02T14:57:38.938Z"
   },
   {
    "duration": 50,
    "start_time": "2023-03-02T14:57:39.122Z"
   },
   {
    "duration": 28,
    "start_time": "2023-03-02T14:57:39.174Z"
   },
   {
    "duration": 6,
    "start_time": "2023-03-02T14:57:39.204Z"
   },
   {
    "duration": 48,
    "start_time": "2023-03-02T14:57:39.212Z"
   },
   {
    "duration": 186,
    "start_time": "2023-03-02T14:57:57.710Z"
   },
   {
    "duration": 1136,
    "start_time": "2023-03-02T14:58:05.649Z"
   },
   {
    "duration": 171,
    "start_time": "2023-03-02T14:58:06.787Z"
   },
   {
    "duration": 22,
    "start_time": "2023-03-02T14:58:06.962Z"
   },
   {
    "duration": 54,
    "start_time": "2023-03-02T14:58:06.985Z"
   },
   {
    "duration": 26,
    "start_time": "2023-03-02T14:58:07.041Z"
   },
   {
    "duration": 14,
    "start_time": "2023-03-02T14:58:07.069Z"
   },
   {
    "duration": 17,
    "start_time": "2023-03-02T14:58:07.084Z"
   },
   {
    "duration": 85,
    "start_time": "2023-03-02T14:58:07.103Z"
   },
   {
    "duration": 27,
    "start_time": "2023-03-02T14:58:07.191Z"
   },
   {
    "duration": 83,
    "start_time": "2023-03-02T14:58:07.220Z"
   },
   {
    "duration": 97,
    "start_time": "2023-03-02T14:58:07.304Z"
   },
   {
    "duration": 28,
    "start_time": "2023-03-02T14:58:07.402Z"
   },
   {
    "duration": 38,
    "start_time": "2023-03-02T14:58:07.431Z"
   },
   {
    "duration": 3,
    "start_time": "2023-03-02T14:58:07.471Z"
   },
   {
    "duration": 12,
    "start_time": "2023-03-02T14:58:07.475Z"
   },
   {
    "duration": 280,
    "start_time": "2023-03-02T14:58:07.489Z"
   },
   {
    "duration": 209,
    "start_time": "2023-03-02T14:58:07.770Z"
   },
   {
    "duration": 34,
    "start_time": "2023-03-02T14:58:07.981Z"
   },
   {
    "duration": 47,
    "start_time": "2023-03-02T14:58:08.016Z"
   },
   {
    "duration": 5,
    "start_time": "2023-03-02T14:58:08.065Z"
   },
   {
    "duration": 26,
    "start_time": "2023-03-02T14:58:08.071Z"
   },
   {
    "duration": 35,
    "start_time": "2023-03-02T14:58:43.711Z"
   },
   {
    "duration": 30,
    "start_time": "2023-03-02T14:58:47.974Z"
   },
   {
    "duration": 35,
    "start_time": "2023-03-02T15:01:26.372Z"
   },
   {
    "duration": 29,
    "start_time": "2023-03-02T15:01:29.479Z"
   },
   {
    "duration": 1139,
    "start_time": "2023-03-02T15:02:18.228Z"
   },
   {
    "duration": 173,
    "start_time": "2023-03-02T15:02:19.369Z"
   },
   {
    "duration": 35,
    "start_time": "2023-03-02T15:02:19.544Z"
   },
   {
    "duration": 59,
    "start_time": "2023-03-02T15:02:19.581Z"
   },
   {
    "duration": 31,
    "start_time": "2023-03-02T15:02:19.642Z"
   },
   {
    "duration": 15,
    "start_time": "2023-03-02T15:02:19.674Z"
   },
   {
    "duration": 16,
    "start_time": "2023-03-02T15:02:19.690Z"
   },
   {
    "duration": 86,
    "start_time": "2023-03-02T15:02:19.707Z"
   },
   {
    "duration": 27,
    "start_time": "2023-03-02T15:02:19.794Z"
   },
   {
    "duration": 92,
    "start_time": "2023-03-02T15:02:19.823Z"
   },
   {
    "duration": 114,
    "start_time": "2023-03-02T15:02:19.917Z"
   },
   {
    "duration": 57,
    "start_time": "2023-03-02T15:02:20.033Z"
   },
   {
    "duration": 8,
    "start_time": "2023-03-02T15:02:20.091Z"
   },
   {
    "duration": 3,
    "start_time": "2023-03-02T15:02:20.102Z"
   },
   {
    "duration": 11,
    "start_time": "2023-03-02T15:02:20.107Z"
   },
   {
    "duration": 327,
    "start_time": "2023-03-02T15:02:20.120Z"
   },
   {
    "duration": 229,
    "start_time": "2023-03-02T15:02:20.451Z"
   },
   {
    "duration": 39,
    "start_time": "2023-03-02T15:02:20.682Z"
   },
   {
    "duration": 64,
    "start_time": "2023-03-02T15:02:20.722Z"
   },
   {
    "duration": 6,
    "start_time": "2023-03-02T15:02:20.788Z"
   },
   {
    "duration": 45,
    "start_time": "2023-03-02T15:02:20.795Z"
   },
   {
    "duration": 43,
    "start_time": "2023-03-02T15:02:53.674Z"
   },
   {
    "duration": 37,
    "start_time": "2023-03-02T15:03:05.478Z"
   },
   {
    "duration": 17,
    "start_time": "2023-03-02T15:05:27.475Z"
   },
   {
    "duration": 17,
    "start_time": "2023-03-02T15:05:44.281Z"
   },
   {
    "duration": 9,
    "start_time": "2023-03-02T15:12:04.757Z"
   },
   {
    "duration": 32,
    "start_time": "2023-03-02T15:12:07.060Z"
   },
   {
    "duration": 117,
    "start_time": "2023-03-02T15:24:16.089Z"
   },
   {
    "duration": 9,
    "start_time": "2023-03-02T15:24:29.977Z"
   },
   {
    "duration": 38,
    "start_time": "2023-03-02T15:24:40.205Z"
   },
   {
    "duration": 21,
    "start_time": "2023-03-02T16:16:51.586Z"
   },
   {
    "duration": 23,
    "start_time": "2023-03-02T16:17:01.361Z"
   },
   {
    "duration": 34,
    "start_time": "2023-03-02T16:20:08.545Z"
   },
   {
    "duration": 14,
    "start_time": "2023-03-02T18:00:37.187Z"
   },
   {
    "duration": 20,
    "start_time": "2023-03-02T18:00:47.446Z"
   },
   {
    "duration": 73,
    "start_time": "2023-03-02T18:00:56.098Z"
   },
   {
    "duration": 68,
    "start_time": "2023-03-02T18:01:04.444Z"
   },
   {
    "duration": 3,
    "start_time": "2023-03-02T18:18:51.052Z"
   },
   {
    "duration": 1346,
    "start_time": "2023-03-02T18:18:59.829Z"
   },
   {
    "duration": 62,
    "start_time": "2023-03-02T18:19:09.134Z"
   },
   {
    "duration": 64,
    "start_time": "2023-03-02T18:19:39.067Z"
   },
   {
    "duration": 11,
    "start_time": "2023-03-02T18:33:04.849Z"
   },
   {
    "duration": 110,
    "start_time": "2023-03-02T19:04:15.982Z"
   },
   {
    "duration": 67,
    "start_time": "2023-03-02T19:06:26.739Z"
   },
   {
    "duration": 12,
    "start_time": "2023-03-02T19:07:58.560Z"
   },
   {
    "duration": 471,
    "start_time": "2023-03-02T19:08:04.690Z"
   },
   {
    "duration": 1209,
    "start_time": "2023-03-02T19:24:24.887Z"
   },
   {
    "duration": 74,
    "start_time": "2023-03-02T19:43:27.573Z"
   },
   {
    "duration": 14,
    "start_time": "2023-03-02T19:43:35.562Z"
   },
   {
    "duration": 12,
    "start_time": "2023-03-02T19:43:43.155Z"
   },
   {
    "duration": 12,
    "start_time": "2023-03-02T19:44:03.004Z"
   },
   {
    "duration": 12,
    "start_time": "2023-03-02T19:46:47.101Z"
   },
   {
    "duration": 12,
    "start_time": "2023-03-02T19:47:02.994Z"
   },
   {
    "duration": 1247,
    "start_time": "2023-03-02T19:47:17.625Z"
   },
   {
    "duration": 176,
    "start_time": "2023-03-02T19:47:18.873Z"
   },
   {
    "duration": 21,
    "start_time": "2023-03-02T19:47:19.050Z"
   },
   {
    "duration": 85,
    "start_time": "2023-03-02T19:47:19.073Z"
   },
   {
    "duration": 15,
    "start_time": "2023-03-02T19:47:19.160Z"
   },
   {
    "duration": 8,
    "start_time": "2023-03-02T19:47:19.176Z"
   },
   {
    "duration": 17,
    "start_time": "2023-03-02T19:47:19.186Z"
   },
   {
    "duration": 96,
    "start_time": "2023-03-02T19:47:19.204Z"
   },
   {
    "duration": 29,
    "start_time": "2023-03-02T19:47:19.302Z"
   },
   {
    "duration": 82,
    "start_time": "2023-03-02T19:47:19.332Z"
   },
   {
    "duration": 119,
    "start_time": "2023-03-02T19:47:19.416Z"
   },
   {
    "duration": 33,
    "start_time": "2023-03-02T19:47:19.536Z"
   },
   {
    "duration": 7,
    "start_time": "2023-03-02T19:47:19.571Z"
   },
   {
    "duration": 6,
    "start_time": "2023-03-02T19:47:19.581Z"
   },
   {
    "duration": 12,
    "start_time": "2023-03-02T19:47:19.589Z"
   },
   {
    "duration": 324,
    "start_time": "2023-03-02T19:47:19.603Z"
   },
   {
    "duration": 225,
    "start_time": "2023-03-02T19:47:19.929Z"
   },
   {
    "duration": 56,
    "start_time": "2023-03-02T19:47:20.156Z"
   },
   {
    "duration": 40,
    "start_time": "2023-03-02T19:47:20.214Z"
   },
   {
    "duration": 9,
    "start_time": "2023-03-02T19:47:20.256Z"
   },
   {
    "duration": 34,
    "start_time": "2023-03-02T19:47:20.267Z"
   },
   {
    "duration": 72,
    "start_time": "2023-03-02T19:47:20.303Z"
   },
   {
    "duration": 23,
    "start_time": "2023-03-02T19:47:20.377Z"
   },
   {
    "duration": 82,
    "start_time": "2023-03-02T19:47:20.402Z"
   },
   {
    "duration": 460,
    "start_time": "2023-03-02T19:47:20.486Z"
   },
   {
    "duration": 224,
    "start_time": "2023-03-02T19:47:20.947Z"
   },
   {
    "duration": 11,
    "start_time": "2023-03-02T19:47:42.193Z"
   },
   {
    "duration": 10,
    "start_time": "2023-03-02T19:50:33.192Z"
   },
   {
    "duration": 16,
    "start_time": "2023-03-02T19:50:45.250Z"
   },
   {
    "duration": 6,
    "start_time": "2023-03-02T19:50:50.640Z"
   },
   {
    "duration": 10,
    "start_time": "2023-03-02T19:51:01.577Z"
   },
   {
    "duration": 89,
    "start_time": "2023-03-02T19:51:56.626Z"
   },
   {
    "duration": 76,
    "start_time": "2023-03-02T19:52:19.709Z"
   },
   {
    "duration": 43,
    "start_time": "2023-03-02T19:53:26.427Z"
   },
   {
    "duration": 13,
    "start_time": "2023-03-02T20:00:48.900Z"
   },
   {
    "duration": 11,
    "start_time": "2023-03-02T20:01:04.738Z"
   },
   {
    "duration": 9,
    "start_time": "2023-03-05T15:56:41.643Z"
   },
   {
    "duration": 4,
    "start_time": "2023-03-05T15:56:47.001Z"
   },
   {
    "duration": 53,
    "start_time": "2023-03-05T15:56:52.804Z"
   },
   {
    "duration": 1276,
    "start_time": "2023-03-05T15:57:05.189Z"
   },
   {
    "duration": 779,
    "start_time": "2023-03-05T15:57:06.467Z"
   },
   {
    "duration": 20,
    "start_time": "2023-03-05T15:57:07.248Z"
   },
   {
    "duration": 63,
    "start_time": "2023-03-05T15:57:07.270Z"
   },
   {
    "duration": 21,
    "start_time": "2023-03-05T15:57:07.341Z"
   },
   {
    "duration": 9,
    "start_time": "2023-03-05T15:57:07.364Z"
   },
   {
    "duration": 28,
    "start_time": "2023-03-05T15:57:07.375Z"
   },
   {
    "duration": 98,
    "start_time": "2023-03-05T15:57:07.405Z"
   },
   {
    "duration": 37,
    "start_time": "2023-03-05T15:57:07.504Z"
   },
   {
    "duration": 63,
    "start_time": "2023-03-05T15:57:07.544Z"
   },
   {
    "duration": 110,
    "start_time": "2023-03-05T15:57:07.609Z"
   },
   {
    "duration": 33,
    "start_time": "2023-03-05T15:57:07.720Z"
   },
   {
    "duration": 11,
    "start_time": "2023-03-05T15:57:07.756Z"
   },
   {
    "duration": 4,
    "start_time": "2023-03-05T15:57:07.769Z"
   },
   {
    "duration": 11,
    "start_time": "2023-03-05T15:57:07.775Z"
   },
   {
    "duration": 350,
    "start_time": "2023-03-05T15:57:07.788Z"
   },
   {
    "duration": 234,
    "start_time": "2023-03-05T15:57:08.141Z"
   },
   {
    "duration": 39,
    "start_time": "2023-03-05T15:57:08.377Z"
   },
   {
    "duration": 35,
    "start_time": "2023-03-05T15:57:08.418Z"
   },
   {
    "duration": 7,
    "start_time": "2023-03-05T15:57:08.455Z"
   },
   {
    "duration": 38,
    "start_time": "2023-03-05T15:57:08.463Z"
   },
   {
    "duration": 59,
    "start_time": "2023-03-05T15:57:08.503Z"
   },
   {
    "duration": 19,
    "start_time": "2023-03-05T15:57:08.564Z"
   },
   {
    "duration": 125,
    "start_time": "2023-03-05T15:57:08.585Z"
   },
   {
    "duration": 436,
    "start_time": "2023-03-05T15:57:08.712Z"
   },
   {
    "duration": 10,
    "start_time": "2023-03-05T15:57:09.150Z"
   },
   {
    "duration": 12,
    "start_time": "2023-03-05T15:57:09.162Z"
   },
   {
    "duration": 170,
    "start_time": "2023-03-05T15:57:09.178Z"
   },
   {
    "duration": 144,
    "start_time": "2023-03-05T15:57:28.603Z"
   },
   {
    "duration": 11,
    "start_time": "2023-03-05T15:57:36.846Z"
   },
   {
    "duration": 9,
    "start_time": "2023-03-05T15:57:43.789Z"
   },
   {
    "duration": 145,
    "start_time": "2023-03-05T15:58:45.612Z"
   },
   {
    "duration": 4,
    "start_time": "2023-03-05T16:03:43.539Z"
   },
   {
    "duration": 45,
    "start_time": "2023-03-06T16:16:41.132Z"
   },
   {
    "duration": 1414,
    "start_time": "2023-03-06T16:16:46.229Z"
   },
   {
    "duration": 791,
    "start_time": "2023-03-06T16:16:47.645Z"
   },
   {
    "duration": 20,
    "start_time": "2023-03-06T16:16:48.438Z"
   },
   {
    "duration": 74,
    "start_time": "2023-03-06T16:16:48.460Z"
   },
   {
    "duration": 16,
    "start_time": "2023-03-06T16:16:48.537Z"
   },
   {
    "duration": 9,
    "start_time": "2023-03-06T16:16:48.555Z"
   },
   {
    "duration": 20,
    "start_time": "2023-03-06T16:16:48.566Z"
   },
   {
    "duration": 103,
    "start_time": "2023-03-06T16:16:48.588Z"
   },
   {
    "duration": 46,
    "start_time": "2023-03-06T16:16:48.693Z"
   },
   {
    "duration": 80,
    "start_time": "2023-03-06T16:16:48.741Z"
   },
   {
    "duration": 119,
    "start_time": "2023-03-06T16:16:48.823Z"
   },
   {
    "duration": 29,
    "start_time": "2023-03-06T16:16:48.944Z"
   },
   {
    "duration": 9,
    "start_time": "2023-03-06T16:16:48.975Z"
   },
   {
    "duration": 4,
    "start_time": "2023-03-06T16:16:48.986Z"
   },
   {
    "duration": 44,
    "start_time": "2023-03-06T16:16:48.992Z"
   },
   {
    "duration": 9,
    "start_time": "2023-03-06T16:16:49.038Z"
   },
   {
    "duration": 325,
    "start_time": "2023-03-06T16:16:49.049Z"
   },
   {
    "duration": 247,
    "start_time": "2023-03-06T16:16:49.376Z"
   },
   {
    "duration": 48,
    "start_time": "2023-03-06T16:16:49.626Z"
   },
   {
    "duration": 23,
    "start_time": "2023-03-06T16:16:49.676Z"
   },
   {
    "duration": 7,
    "start_time": "2023-03-06T16:16:49.720Z"
   },
   {
    "duration": 34,
    "start_time": "2023-03-06T16:16:49.728Z"
   },
   {
    "duration": 65,
    "start_time": "2023-03-06T16:16:49.763Z"
   },
   {
    "duration": 23,
    "start_time": "2023-03-06T16:16:49.830Z"
   },
   {
    "duration": 81,
    "start_time": "2023-03-06T16:16:49.855Z"
   },
   {
    "duration": 471,
    "start_time": "2023-03-06T16:16:49.939Z"
   },
   {
    "duration": 13,
    "start_time": "2023-03-06T16:16:50.412Z"
   },
   {
    "duration": 19,
    "start_time": "2023-03-06T16:16:50.427Z"
   },
   {
    "duration": 109,
    "start_time": "2023-03-06T16:16:50.448Z"
   },
   {
    "duration": 154,
    "start_time": "2023-03-06T16:17:13.371Z"
   },
   {
    "duration": 11,
    "start_time": "2023-03-06T16:18:12.506Z"
   },
   {
    "duration": 1313,
    "start_time": "2023-03-06T16:18:21.783Z"
   },
   {
    "duration": 172,
    "start_time": "2023-03-06T16:18:23.098Z"
   },
   {
    "duration": 22,
    "start_time": "2023-03-06T16:18:23.272Z"
   },
   {
    "duration": 78,
    "start_time": "2023-03-06T16:18:23.296Z"
   },
   {
    "duration": 14,
    "start_time": "2023-03-06T16:18:23.377Z"
   },
   {
    "duration": 8,
    "start_time": "2023-03-06T16:18:23.393Z"
   },
   {
    "duration": 16,
    "start_time": "2023-03-06T16:18:23.422Z"
   },
   {
    "duration": 125,
    "start_time": "2023-03-06T16:18:23.440Z"
   },
   {
    "duration": 31,
    "start_time": "2023-03-06T16:18:23.567Z"
   },
   {
    "duration": 75,
    "start_time": "2023-03-06T16:18:23.600Z"
   },
   {
    "duration": 113,
    "start_time": "2023-03-06T16:18:23.677Z"
   },
   {
    "duration": 38,
    "start_time": "2023-03-06T16:18:23.792Z"
   },
   {
    "duration": 29,
    "start_time": "2023-03-06T16:18:23.832Z"
   },
   {
    "duration": 3,
    "start_time": "2023-03-06T16:18:23.864Z"
   },
   {
    "duration": 50,
    "start_time": "2023-03-06T16:18:23.869Z"
   },
   {
    "duration": 9,
    "start_time": "2023-03-06T16:18:23.921Z"
   },
   {
    "duration": 319,
    "start_time": "2023-03-06T16:18:23.932Z"
   },
   {
    "duration": 236,
    "start_time": "2023-03-06T16:18:24.253Z"
   },
   {
    "duration": 52,
    "start_time": "2023-03-06T16:18:24.491Z"
   },
   {
    "duration": 20,
    "start_time": "2023-03-06T16:18:24.545Z"
   },
   {
    "duration": 12,
    "start_time": "2023-03-06T16:18:24.567Z"
   },
   {
    "duration": 50,
    "start_time": "2023-03-06T16:18:24.580Z"
   },
   {
    "duration": 44,
    "start_time": "2023-03-06T16:18:24.631Z"
   },
   {
    "duration": 50,
    "start_time": "2023-03-06T16:18:24.677Z"
   },
   {
    "duration": 69,
    "start_time": "2023-03-06T16:18:24.729Z"
   },
   {
    "duration": 432,
    "start_time": "2023-03-06T16:18:24.800Z"
   },
   {
    "duration": 11,
    "start_time": "2023-03-06T16:18:25.234Z"
   },
   {
    "duration": 15,
    "start_time": "2023-03-06T16:18:25.247Z"
   },
   {
    "duration": 93,
    "start_time": "2023-03-06T16:18:25.264Z"
   },
   {
    "duration": 157,
    "start_time": "2023-03-06T16:18:51.877Z"
   },
   {
    "duration": 273,
    "start_time": "2023-03-06T16:19:02.163Z"
   },
   {
    "duration": 11,
    "start_time": "2023-03-06T16:21:56.304Z"
   },
   {
    "duration": 1260,
    "start_time": "2023-03-06T16:22:03.595Z"
   },
   {
    "duration": 163,
    "start_time": "2023-03-06T16:22:04.857Z"
   },
   {
    "duration": 19,
    "start_time": "2023-03-06T16:22:05.022Z"
   },
   {
    "duration": 110,
    "start_time": "2023-03-06T16:22:05.043Z"
   },
   {
    "duration": 14,
    "start_time": "2023-03-06T16:22:05.156Z"
   },
   {
    "duration": 39,
    "start_time": "2023-03-06T16:22:05.172Z"
   },
   {
    "duration": 33,
    "start_time": "2023-03-06T16:22:05.213Z"
   },
   {
    "duration": 94,
    "start_time": "2023-03-06T16:22:05.248Z"
   },
   {
    "duration": 37,
    "start_time": "2023-03-06T16:22:05.343Z"
   },
   {
    "duration": 83,
    "start_time": "2023-03-06T16:22:05.382Z"
   },
   {
    "duration": 117,
    "start_time": "2023-03-06T16:22:05.467Z"
   },
   {
    "duration": 35,
    "start_time": "2023-03-06T16:22:05.586Z"
   },
   {
    "duration": 49,
    "start_time": "2023-03-06T16:22:05.623Z"
   },
   {
    "duration": 50,
    "start_time": "2023-03-06T16:22:05.675Z"
   },
   {
    "duration": 37,
    "start_time": "2023-03-06T16:22:05.726Z"
   },
   {
    "duration": 305,
    "start_time": "2023-03-06T16:22:05.765Z"
   },
   {
    "duration": 9,
    "start_time": "2023-03-06T16:22:06.072Z"
   },
   {
    "duration": 309,
    "start_time": "2023-03-06T16:22:06.083Z"
   },
   {
    "duration": 227,
    "start_time": "2023-03-06T16:22:06.394Z"
   },
   {
    "duration": 41,
    "start_time": "2023-03-06T16:22:06.622Z"
   },
   {
    "duration": 17,
    "start_time": "2023-03-06T16:22:06.665Z"
   },
   {
    "duration": 47,
    "start_time": "2023-03-06T16:22:06.684Z"
   },
   {
    "duration": 51,
    "start_time": "2023-03-06T16:22:06.733Z"
   },
   {
    "duration": 41,
    "start_time": "2023-03-06T16:22:06.787Z"
   },
   {
    "duration": 20,
    "start_time": "2023-03-06T16:22:06.830Z"
   },
   {
    "duration": 93,
    "start_time": "2023-03-06T16:22:06.852Z"
   },
   {
    "duration": 408,
    "start_time": "2023-03-06T16:22:06.947Z"
   },
   {
    "duration": 11,
    "start_time": "2023-03-06T16:22:07.357Z"
   },
   {
    "duration": 64,
    "start_time": "2023-03-06T16:22:07.369Z"
   },
   {
    "duration": 63,
    "start_time": "2023-03-06T16:22:07.434Z"
   },
   {
    "duration": 161,
    "start_time": "2023-03-06T16:39:29.114Z"
   },
   {
    "duration": 1277,
    "start_time": "2023-03-06T16:39:35.939Z"
   },
   {
    "duration": 170,
    "start_time": "2023-03-06T16:39:37.218Z"
   },
   {
    "duration": 21,
    "start_time": "2023-03-06T16:39:37.389Z"
   },
   {
    "duration": 72,
    "start_time": "2023-03-06T16:39:37.412Z"
   },
   {
    "duration": 15,
    "start_time": "2023-03-06T16:39:37.487Z"
   },
   {
    "duration": 10,
    "start_time": "2023-03-06T16:39:37.521Z"
   },
   {
    "duration": 18,
    "start_time": "2023-03-06T16:39:37.533Z"
   },
   {
    "duration": 107,
    "start_time": "2023-03-06T16:39:37.553Z"
   },
   {
    "duration": 28,
    "start_time": "2023-03-06T16:39:37.662Z"
   },
   {
    "duration": 88,
    "start_time": "2023-03-06T16:39:37.691Z"
   },
   {
    "duration": 118,
    "start_time": "2023-03-06T16:39:37.780Z"
   },
   {
    "duration": 41,
    "start_time": "2023-03-06T16:39:37.899Z"
   },
   {
    "duration": 9,
    "start_time": "2023-03-06T16:39:37.942Z"
   },
   {
    "duration": 4,
    "start_time": "2023-03-06T16:39:37.954Z"
   },
   {
    "duration": 21,
    "start_time": "2023-03-06T16:39:37.959Z"
   },
   {
    "duration": 323,
    "start_time": "2023-03-06T16:39:37.982Z"
   },
   {
    "duration": 18,
    "start_time": "2023-03-06T16:39:38.307Z"
   },
   {
    "duration": 324,
    "start_time": "2023-03-06T16:39:38.328Z"
   },
   {
    "duration": 253,
    "start_time": "2023-03-06T16:39:38.654Z"
   },
   {
    "duration": 49,
    "start_time": "2023-03-06T16:39:38.909Z"
   },
   {
    "duration": 18,
    "start_time": "2023-03-06T16:39:38.960Z"
   },
   {
    "duration": 8,
    "start_time": "2023-03-06T16:39:38.981Z"
   },
   {
    "duration": 57,
    "start_time": "2023-03-06T16:39:38.991Z"
   },
   {
    "duration": 41,
    "start_time": "2023-03-06T16:39:39.050Z"
   },
   {
    "duration": 43,
    "start_time": "2023-03-06T16:39:39.093Z"
   },
   {
    "duration": 84,
    "start_time": "2023-03-06T16:39:39.138Z"
   },
   {
    "duration": 463,
    "start_time": "2023-03-06T16:39:39.224Z"
   },
   {
    "duration": 15,
    "start_time": "2023-03-06T16:39:39.689Z"
   },
   {
    "duration": 13,
    "start_time": "2023-03-06T16:39:39.708Z"
   },
   {
    "duration": 102,
    "start_time": "2023-03-06T16:39:39.722Z"
   },
   {
    "duration": 170,
    "start_time": "2023-03-06T16:39:39.825Z"
   },
   {
    "duration": 1282,
    "start_time": "2023-03-06T16:39:57.603Z"
   },
   {
    "duration": 188,
    "start_time": "2023-03-06T16:39:58.888Z"
   },
   {
    "duration": 18,
    "start_time": "2023-03-06T16:39:59.078Z"
   },
   {
    "duration": 79,
    "start_time": "2023-03-06T16:39:59.098Z"
   },
   {
    "duration": 15,
    "start_time": "2023-03-06T16:39:59.179Z"
   },
   {
    "duration": 8,
    "start_time": "2023-03-06T16:39:59.195Z"
   },
   {
    "duration": 36,
    "start_time": "2023-03-06T16:39:59.204Z"
   },
   {
    "duration": 84,
    "start_time": "2023-03-06T16:39:59.241Z"
   },
   {
    "duration": 37,
    "start_time": "2023-03-06T16:39:59.327Z"
   },
   {
    "duration": 76,
    "start_time": "2023-03-06T16:39:59.366Z"
   },
   {
    "duration": 111,
    "start_time": "2023-03-06T16:39:59.444Z"
   },
   {
    "duration": 42,
    "start_time": "2023-03-06T16:39:59.557Z"
   },
   {
    "duration": 33,
    "start_time": "2023-03-06T16:39:59.601Z"
   },
   {
    "duration": 8,
    "start_time": "2023-03-06T16:39:59.639Z"
   },
   {
    "duration": 34,
    "start_time": "2023-03-06T16:39:59.649Z"
   },
   {
    "duration": 316,
    "start_time": "2023-03-06T16:39:59.685Z"
   },
   {
    "duration": 27,
    "start_time": "2023-03-06T16:40:00.003Z"
   },
   {
    "duration": 316,
    "start_time": "2023-03-06T16:40:00.032Z"
   },
   {
    "duration": 245,
    "start_time": "2023-03-06T16:40:00.349Z"
   },
   {
    "duration": 54,
    "start_time": "2023-03-06T16:40:00.596Z"
   },
   {
    "duration": 19,
    "start_time": "2023-03-06T16:40:00.652Z"
   },
   {
    "duration": 26,
    "start_time": "2023-03-06T16:40:00.673Z"
   },
   {
    "duration": 71,
    "start_time": "2023-03-06T16:40:00.701Z"
   },
   {
    "duration": 50,
    "start_time": "2023-03-06T16:40:00.774Z"
   },
   {
    "duration": 28,
    "start_time": "2023-03-06T16:40:00.826Z"
   },
   {
    "duration": 134,
    "start_time": "2023-03-06T16:40:00.856Z"
   },
   {
    "duration": 512,
    "start_time": "2023-03-06T16:40:00.993Z"
   },
   {
    "duration": 12,
    "start_time": "2023-03-06T16:40:01.506Z"
   },
   {
    "duration": 67,
    "start_time": "2023-03-06T16:40:01.519Z"
   },
   {
    "duration": 74,
    "start_time": "2023-03-06T16:40:01.587Z"
   },
   {
    "duration": 181,
    "start_time": "2023-03-06T16:40:01.663Z"
   },
   {
    "duration": 11,
    "start_time": "2023-03-06T16:40:07.204Z"
   },
   {
    "duration": 11,
    "start_time": "2023-03-06T16:40:12.396Z"
   },
   {
    "duration": 10,
    "start_time": "2023-03-06T16:40:21.808Z"
   },
   {
    "duration": 14,
    "start_time": "2023-03-06T16:40:26.835Z"
   },
   {
    "duration": 1242,
    "start_time": "2023-03-06T16:40:32.349Z"
   },
   {
    "duration": 169,
    "start_time": "2023-03-06T16:40:33.593Z"
   },
   {
    "duration": 19,
    "start_time": "2023-03-06T16:40:33.764Z"
   },
   {
    "duration": 79,
    "start_time": "2023-03-06T16:40:33.785Z"
   },
   {
    "duration": 14,
    "start_time": "2023-03-06T16:40:33.866Z"
   },
   {
    "duration": 14,
    "start_time": "2023-03-06T16:40:33.881Z"
   },
   {
    "duration": 33,
    "start_time": "2023-03-06T16:40:33.897Z"
   },
   {
    "duration": 79,
    "start_time": "2023-03-06T16:40:33.931Z"
   },
   {
    "duration": 36,
    "start_time": "2023-03-06T16:40:34.022Z"
   },
   {
    "duration": 92,
    "start_time": "2023-03-06T16:40:34.060Z"
   },
   {
    "duration": 115,
    "start_time": "2023-03-06T16:40:34.153Z"
   },
   {
    "duration": 29,
    "start_time": "2023-03-06T16:40:34.270Z"
   },
   {
    "duration": 21,
    "start_time": "2023-03-06T16:40:34.301Z"
   },
   {
    "duration": 4,
    "start_time": "2023-03-06T16:40:34.325Z"
   },
   {
    "duration": 24,
    "start_time": "2023-03-06T16:40:34.330Z"
   },
   {
    "duration": 296,
    "start_time": "2023-03-06T16:40:34.356Z"
   },
   {
    "duration": 9,
    "start_time": "2023-03-06T16:40:34.654Z"
   },
   {
    "duration": 316,
    "start_time": "2023-03-06T16:40:34.665Z"
   },
   {
    "duration": 244,
    "start_time": "2023-03-06T16:40:34.983Z"
   },
   {
    "duration": 44,
    "start_time": "2023-03-06T16:40:35.229Z"
   },
   {
    "duration": 19,
    "start_time": "2023-03-06T16:40:35.274Z"
   },
   {
    "duration": 7,
    "start_time": "2023-03-06T16:40:35.294Z"
   },
   {
    "duration": 39,
    "start_time": "2023-03-06T16:40:35.320Z"
   },
   {
    "duration": 38,
    "start_time": "2023-03-06T16:40:35.360Z"
   },
   {
    "duration": 43,
    "start_time": "2023-03-06T16:40:35.400Z"
   },
   {
    "duration": 70,
    "start_time": "2023-03-06T16:40:35.445Z"
   },
   {
    "duration": 454,
    "start_time": "2023-03-06T16:40:35.522Z"
   },
   {
    "duration": 13,
    "start_time": "2023-03-06T16:40:35.978Z"
   },
   {
    "duration": 15,
    "start_time": "2023-03-06T16:40:35.993Z"
   },
   {
    "duration": 49,
    "start_time": "2023-03-06T16:40:36.022Z"
   },
   {
    "duration": 171,
    "start_time": "2023-03-06T16:40:36.121Z"
   },
   {
    "duration": 14,
    "start_time": "2023-03-06T16:41:56.417Z"
   },
   {
    "duration": 12,
    "start_time": "2023-03-06T16:42:08.283Z"
   },
   {
    "duration": 10,
    "start_time": "2023-03-06T16:44:37.156Z"
   },
   {
    "duration": 10,
    "start_time": "2023-03-06T16:44:57.568Z"
   },
   {
    "duration": 11,
    "start_time": "2023-03-06T16:45:01.097Z"
   },
   {
    "duration": 4,
    "start_time": "2023-03-06T16:45:06.106Z"
   },
   {
    "duration": 175,
    "start_time": "2023-03-06T16:45:07.163Z"
   },
   {
    "duration": 31,
    "start_time": "2023-03-06T16:45:08.154Z"
   },
   {
    "duration": 60,
    "start_time": "2023-03-06T16:45:14.110Z"
   },
   {
    "duration": 20,
    "start_time": "2023-03-06T16:45:15.244Z"
   },
   {
    "duration": 8,
    "start_time": "2023-03-06T16:45:21.032Z"
   },
   {
    "duration": 16,
    "start_time": "2023-03-06T16:45:21.864Z"
   },
   {
    "duration": 95,
    "start_time": "2023-03-06T16:45:22.914Z"
   },
   {
    "duration": 25,
    "start_time": "2023-03-06T16:45:26.060Z"
   },
   {
    "duration": 70,
    "start_time": "2023-03-06T16:45:31.201Z"
   },
   {
    "duration": 102,
    "start_time": "2023-03-06T16:45:32.572Z"
   },
   {
    "duration": 36,
    "start_time": "2023-03-06T16:45:40.925Z"
   },
   {
    "duration": 8,
    "start_time": "2023-03-06T16:45:43.161Z"
   },
   {
    "duration": 3,
    "start_time": "2023-03-06T16:45:44.851Z"
   },
   {
    "duration": 28,
    "start_time": "2023-03-06T16:45:45.824Z"
   },
   {
    "duration": 289,
    "start_time": "2023-03-06T16:45:46.769Z"
   },
   {
    "duration": 10,
    "start_time": "2023-03-06T16:45:50.036Z"
   },
   {
    "duration": 218,
    "start_time": "2023-03-06T16:45:50.844Z"
   },
   {
    "duration": 243,
    "start_time": "2023-03-06T16:45:52.537Z"
   },
   {
    "duration": 40,
    "start_time": "2023-03-06T16:45:54.180Z"
   },
   {
    "duration": 19,
    "start_time": "2023-03-06T16:45:54.945Z"
   },
   {
    "duration": 8,
    "start_time": "2023-03-06T16:45:58.259Z"
   },
   {
    "duration": 33,
    "start_time": "2023-03-06T16:45:59.245Z"
   },
   {
    "duration": 45,
    "start_time": "2023-03-06T16:46:00.702Z"
   },
   {
    "duration": 38,
    "start_time": "2023-03-06T16:46:08.721Z"
   },
   {
    "duration": 45,
    "start_time": "2023-03-06T16:46:09.521Z"
   },
   {
    "duration": 22,
    "start_time": "2023-03-06T16:46:12.585Z"
   },
   {
    "duration": 70,
    "start_time": "2023-03-06T16:46:14.673Z"
   },
   {
    "duration": 70,
    "start_time": "2023-03-06T16:46:15.556Z"
   },
   {
    "duration": 11,
    "start_time": "2023-03-06T16:46:17.647Z"
   },
   {
    "duration": 11,
    "start_time": "2023-03-06T16:46:18.169Z"
   },
   {
    "duration": 49,
    "start_time": "2023-03-06T16:46:18.898Z"
   },
   {
    "duration": 11,
    "start_time": "2023-03-06T16:46:21.969Z"
   },
   {
    "duration": 13,
    "start_time": "2023-03-06T16:46:26.575Z"
   },
   {
    "duration": 1225,
    "start_time": "2023-03-06T16:50:55.467Z"
   },
   {
    "duration": 183,
    "start_time": "2023-03-06T16:50:56.694Z"
   },
   {
    "duration": 21,
    "start_time": "2023-03-06T16:50:56.879Z"
   },
   {
    "duration": 81,
    "start_time": "2023-03-06T16:50:56.902Z"
   },
   {
    "duration": 15,
    "start_time": "2023-03-06T16:50:56.985Z"
   },
   {
    "duration": 26,
    "start_time": "2023-03-06T16:50:57.002Z"
   },
   {
    "duration": 18,
    "start_time": "2023-03-06T16:50:57.030Z"
   },
   {
    "duration": 95,
    "start_time": "2023-03-06T16:50:57.049Z"
   },
   {
    "duration": 28,
    "start_time": "2023-03-06T16:50:57.147Z"
   },
   {
    "duration": 78,
    "start_time": "2023-03-06T16:50:57.177Z"
   },
   {
    "duration": 118,
    "start_time": "2023-03-06T16:50:57.257Z"
   },
   {
    "duration": 30,
    "start_time": "2023-03-06T16:50:57.377Z"
   },
   {
    "duration": 11,
    "start_time": "2023-03-06T16:50:57.426Z"
   },
   {
    "duration": 4,
    "start_time": "2023-03-06T16:50:57.439Z"
   },
   {
    "duration": 22,
    "start_time": "2023-03-06T16:50:57.445Z"
   },
   {
    "duration": 308,
    "start_time": "2023-03-06T16:50:57.469Z"
   },
   {
    "duration": 9,
    "start_time": "2023-03-06T16:50:57.779Z"
   },
   {
    "duration": 324,
    "start_time": "2023-03-06T16:50:57.790Z"
   },
   {
    "duration": 257,
    "start_time": "2023-03-06T16:50:58.116Z"
   },
   {
    "duration": 51,
    "start_time": "2023-03-06T16:50:58.375Z"
   },
   {
    "duration": 19,
    "start_time": "2023-03-06T16:50:58.428Z"
   },
   {
    "duration": 6,
    "start_time": "2023-03-06T16:50:58.449Z"
   },
   {
    "duration": 29,
    "start_time": "2023-03-06T16:50:58.457Z"
   },
   {
    "duration": 71,
    "start_time": "2023-03-06T16:50:58.488Z"
   },
   {
    "duration": 20,
    "start_time": "2023-03-06T16:50:58.560Z"
   },
   {
    "duration": 91,
    "start_time": "2023-03-06T16:50:58.582Z"
   },
   {
    "duration": 436,
    "start_time": "2023-03-06T16:50:58.674Z"
   },
   {
    "duration": 11,
    "start_time": "2023-03-06T16:50:59.111Z"
   },
   {
    "duration": 22,
    "start_time": "2023-03-06T16:50:59.124Z"
   },
   {
    "duration": 107,
    "start_time": "2023-03-06T16:50:59.148Z"
   },
   {
    "duration": 190,
    "start_time": "2023-03-06T16:50:59.257Z"
   },
   {
    "duration": 11,
    "start_time": "2023-03-06T17:00:11.316Z"
   },
   {
    "duration": 10,
    "start_time": "2023-03-06T17:11:41.557Z"
   },
   {
    "duration": 12,
    "start_time": "2023-03-06T17:11:49.283Z"
   },
   {
    "duration": 11,
    "start_time": "2023-03-06T17:12:18.511Z"
   },
   {
    "duration": 10,
    "start_time": "2023-03-06T17:12:35.652Z"
   },
   {
    "duration": 11,
    "start_time": "2023-03-06T17:13:45.436Z"
   },
   {
    "duration": 1233,
    "start_time": "2023-03-06T17:14:08.120Z"
   },
   {
    "duration": 174,
    "start_time": "2023-03-06T17:14:09.355Z"
   },
   {
    "duration": 21,
    "start_time": "2023-03-06T17:14:09.534Z"
   },
   {
    "duration": 95,
    "start_time": "2023-03-06T17:14:09.558Z"
   },
   {
    "duration": 21,
    "start_time": "2023-03-06T17:14:09.655Z"
   },
   {
    "duration": 8,
    "start_time": "2023-03-06T17:14:09.678Z"
   },
   {
    "duration": 39,
    "start_time": "2023-03-06T17:14:09.688Z"
   },
   {
    "duration": 73,
    "start_time": "2023-03-06T17:14:09.729Z"
   },
   {
    "duration": 47,
    "start_time": "2023-03-06T17:14:09.804Z"
   },
   {
    "duration": 77,
    "start_time": "2023-03-06T17:14:09.853Z"
   },
   {
    "duration": 114,
    "start_time": "2023-03-06T17:14:09.932Z"
   },
   {
    "duration": 27,
    "start_time": "2023-03-06T17:14:10.048Z"
   },
   {
    "duration": 19,
    "start_time": "2023-03-06T17:14:10.078Z"
   },
   {
    "duration": 8,
    "start_time": "2023-03-06T17:14:10.099Z"
   },
   {
    "duration": 51,
    "start_time": "2023-03-06T17:14:10.109Z"
   },
   {
    "duration": 270,
    "start_time": "2023-03-06T17:14:10.162Z"
   },
   {
    "duration": 12,
    "start_time": "2023-03-06T17:14:10.434Z"
   },
   {
    "duration": 342,
    "start_time": "2023-03-06T17:14:10.448Z"
   },
   {
    "duration": 231,
    "start_time": "2023-03-06T17:14:10.792Z"
   },
   {
    "duration": 43,
    "start_time": "2023-03-06T17:14:11.025Z"
   },
   {
    "duration": 20,
    "start_time": "2023-03-06T17:14:11.070Z"
   },
   {
    "duration": 33,
    "start_time": "2023-03-06T17:14:11.092Z"
   },
   {
    "duration": 34,
    "start_time": "2023-03-06T17:14:11.128Z"
   },
   {
    "duration": 58,
    "start_time": "2023-03-06T17:14:11.164Z"
   },
   {
    "duration": 21,
    "start_time": "2023-03-06T17:14:11.224Z"
   },
   {
    "duration": 77,
    "start_time": "2023-03-06T17:14:11.246Z"
   },
   {
    "duration": 424,
    "start_time": "2023-03-06T17:14:11.324Z"
   },
   {
    "duration": 13,
    "start_time": "2023-03-06T17:14:11.750Z"
   },
   {
    "duration": 12,
    "start_time": "2023-03-06T17:14:11.765Z"
   },
   {
    "duration": 85,
    "start_time": "2023-03-06T17:14:11.779Z"
   },
   {
    "duration": 215,
    "start_time": "2023-03-06T17:14:11.866Z"
   },
   {
    "duration": 12,
    "start_time": "2023-03-06T17:16:49.606Z"
   },
   {
    "duration": 1211,
    "start_time": "2023-03-06T17:17:01.837Z"
   },
   {
    "duration": 165,
    "start_time": "2023-03-06T17:17:03.050Z"
   },
   {
    "duration": 20,
    "start_time": "2023-03-06T17:17:03.216Z"
   },
   {
    "duration": 61,
    "start_time": "2023-03-06T17:17:03.237Z"
   },
   {
    "duration": 31,
    "start_time": "2023-03-06T17:17:03.300Z"
   },
   {
    "duration": 16,
    "start_time": "2023-03-06T17:17:03.333Z"
   },
   {
    "duration": 22,
    "start_time": "2023-03-06T17:17:03.350Z"
   },
   {
    "duration": 75,
    "start_time": "2023-03-06T17:17:03.373Z"
   },
   {
    "duration": 25,
    "start_time": "2023-03-06T17:17:03.450Z"
   },
   {
    "duration": 80,
    "start_time": "2023-03-06T17:17:03.477Z"
   },
   {
    "duration": 110,
    "start_time": "2023-03-06T17:17:03.559Z"
   },
   {
    "duration": 26,
    "start_time": "2023-03-06T17:17:03.671Z"
   },
   {
    "duration": 8,
    "start_time": "2023-03-06T17:17:03.698Z"
   },
   {
    "duration": 4,
    "start_time": "2023-03-06T17:17:03.722Z"
   },
   {
    "duration": 26,
    "start_time": "2023-03-06T17:17:03.727Z"
   },
   {
    "duration": 291,
    "start_time": "2023-03-06T17:17:03.755Z"
   },
   {
    "duration": 8,
    "start_time": "2023-03-06T17:17:04.048Z"
   },
   {
    "duration": 317,
    "start_time": "2023-03-06T17:17:04.058Z"
   },
   {
    "duration": 225,
    "start_time": "2023-03-06T17:17:04.377Z"
   },
   {
    "duration": 45,
    "start_time": "2023-03-06T17:17:04.603Z"
   },
   {
    "duration": 17,
    "start_time": "2023-03-06T17:17:04.649Z"
   },
   {
    "duration": 6,
    "start_time": "2023-03-06T17:17:04.668Z"
   },
   {
    "duration": 53,
    "start_time": "2023-03-06T17:17:04.675Z"
   },
   {
    "duration": 37,
    "start_time": "2023-03-06T17:17:04.729Z"
   },
   {
    "duration": 19,
    "start_time": "2023-03-06T17:17:04.768Z"
   },
   {
    "duration": 84,
    "start_time": "2023-03-06T17:17:04.789Z"
   },
   {
    "duration": 426,
    "start_time": "2023-03-06T17:17:04.875Z"
   },
   {
    "duration": 10,
    "start_time": "2023-03-06T17:17:05.303Z"
   },
   {
    "duration": 13,
    "start_time": "2023-03-06T17:17:05.315Z"
   },
   {
    "duration": 45,
    "start_time": "2023-03-06T17:17:05.330Z"
   },
   {
    "duration": 155,
    "start_time": "2023-03-06T17:17:05.422Z"
   },
   {
    "duration": 0,
    "start_time": "2023-03-06T17:17:05.578Z"
   },
   {
    "duration": 13,
    "start_time": "2023-03-06T17:17:10.338Z"
   },
   {
    "duration": 10,
    "start_time": "2023-03-06T17:17:18.147Z"
   },
   {
    "duration": 4,
    "start_time": "2023-03-06T17:17:31.256Z"
   },
   {
    "duration": 154,
    "start_time": "2023-03-06T17:17:32.250Z"
   },
   {
    "duration": 19,
    "start_time": "2023-03-06T17:17:34.782Z"
   },
   {
    "duration": 54,
    "start_time": "2023-03-06T17:17:36.190Z"
   },
   {
    "duration": 14,
    "start_time": "2023-03-06T17:17:37.394Z"
   },
   {
    "duration": 8,
    "start_time": "2023-03-06T17:17:40.918Z"
   },
   {
    "duration": 13,
    "start_time": "2023-03-06T17:17:41.302Z"
   },
   {
    "duration": 71,
    "start_time": "2023-03-06T17:17:41.657Z"
   },
   {
    "duration": 26,
    "start_time": "2023-03-06T17:17:41.969Z"
   },
   {
    "duration": 64,
    "start_time": "2023-03-06T17:17:42.257Z"
   },
   {
    "duration": 97,
    "start_time": "2023-03-06T17:17:42.604Z"
   },
   {
    "duration": 26,
    "start_time": "2023-03-06T17:17:44.173Z"
   },
   {
    "duration": 8,
    "start_time": "2023-03-06T17:17:44.980Z"
   },
   {
    "duration": 4,
    "start_time": "2023-03-06T17:17:45.802Z"
   },
   {
    "duration": 23,
    "start_time": "2023-03-06T17:17:46.378Z"
   },
   {
    "duration": 262,
    "start_time": "2023-03-06T17:17:47.378Z"
   },
   {
    "duration": 9,
    "start_time": "2023-03-06T17:17:48.574Z"
   },
   {
    "duration": 208,
    "start_time": "2023-03-06T17:17:48.925Z"
   },
   {
    "duration": 229,
    "start_time": "2023-03-06T17:17:49.605Z"
   },
   {
    "duration": 46,
    "start_time": "2023-03-06T17:17:50.444Z"
   },
   {
    "duration": 17,
    "start_time": "2023-03-06T17:17:50.825Z"
   },
   {
    "duration": 7,
    "start_time": "2023-03-06T17:17:52.045Z"
   },
   {
    "duration": 36,
    "start_time": "2023-03-06T17:17:52.669Z"
   },
   {
    "duration": 40,
    "start_time": "2023-03-06T17:17:53.472Z"
   },
   {
    "duration": 21,
    "start_time": "2023-03-06T17:17:55.717Z"
   },
   {
    "duration": 64,
    "start_time": "2023-03-06T17:17:56.785Z"
   },
   {
    "duration": 42,
    "start_time": "2023-03-06T17:17:57.129Z"
   },
   {
    "duration": 10,
    "start_time": "2023-03-06T17:17:58.314Z"
   },
   {
    "duration": 11,
    "start_time": "2023-03-06T17:17:58.700Z"
   },
   {
    "duration": 45,
    "start_time": "2023-03-06T17:17:59.286Z"
   },
   {
    "duration": 10,
    "start_time": "2023-03-06T17:18:01.603Z"
   },
   {
    "duration": 9,
    "start_time": "2023-03-06T17:18:02.469Z"
   },
   {
    "duration": 10,
    "start_time": "2023-03-06T17:18:19.096Z"
   },
   {
    "duration": 1249,
    "start_time": "2023-03-06T17:21:38.634Z"
   },
   {
    "duration": 163,
    "start_time": "2023-03-06T17:21:39.886Z"
   },
   {
    "duration": 20,
    "start_time": "2023-03-06T17:21:40.050Z"
   },
   {
    "duration": 78,
    "start_time": "2023-03-06T17:21:40.072Z"
   },
   {
    "duration": 14,
    "start_time": "2023-03-06T17:21:40.152Z"
   },
   {
    "duration": 11,
    "start_time": "2023-03-06T17:21:40.168Z"
   },
   {
    "duration": 47,
    "start_time": "2023-03-06T17:21:40.181Z"
   },
   {
    "duration": 100,
    "start_time": "2023-03-06T17:21:40.230Z"
   },
   {
    "duration": 36,
    "start_time": "2023-03-06T17:21:40.332Z"
   },
   {
    "duration": 107,
    "start_time": "2023-03-06T17:21:40.370Z"
   },
   {
    "duration": 128,
    "start_time": "2023-03-06T17:21:40.479Z"
   },
   {
    "duration": 32,
    "start_time": "2023-03-06T17:21:40.609Z"
   },
   {
    "duration": 13,
    "start_time": "2023-03-06T17:21:40.642Z"
   },
   {
    "duration": 3,
    "start_time": "2023-03-06T17:21:40.659Z"
   },
   {
    "duration": 22,
    "start_time": "2023-03-06T17:21:40.664Z"
   },
   {
    "duration": 303,
    "start_time": "2023-03-06T17:21:40.688Z"
   },
   {
    "duration": 10,
    "start_time": "2023-03-06T17:21:40.993Z"
   },
   {
    "duration": 309,
    "start_time": "2023-03-06T17:21:41.004Z"
   },
   {
    "duration": 233,
    "start_time": "2023-03-06T17:21:41.314Z"
   },
   {
    "duration": 41,
    "start_time": "2023-03-06T17:21:41.549Z"
   },
   {
    "duration": 31,
    "start_time": "2023-03-06T17:21:41.592Z"
   },
   {
    "duration": 6,
    "start_time": "2023-03-06T17:21:41.625Z"
   },
   {
    "duration": 33,
    "start_time": "2023-03-06T17:21:41.633Z"
   },
   {
    "duration": 64,
    "start_time": "2023-03-06T17:21:41.668Z"
   },
   {
    "duration": 21,
    "start_time": "2023-03-06T17:21:41.734Z"
   },
   {
    "duration": 89,
    "start_time": "2023-03-06T17:21:41.757Z"
   },
   {
    "duration": 443,
    "start_time": "2023-03-06T17:21:41.848Z"
   },
   {
    "duration": 14,
    "start_time": "2023-03-06T17:21:42.293Z"
   },
   {
    "duration": 21,
    "start_time": "2023-03-06T17:21:42.309Z"
   },
   {
    "duration": 103,
    "start_time": "2023-03-06T17:21:42.332Z"
   },
   {
    "duration": 168,
    "start_time": "2023-03-06T17:21:42.436Z"
   },
   {
    "duration": 0,
    "start_time": "2023-03-06T17:21:42.605Z"
   },
   {
    "duration": 0,
    "start_time": "2023-03-06T17:21:42.607Z"
   },
   {
    "duration": 11,
    "start_time": "2023-03-06T17:21:53.446Z"
   },
   {
    "duration": 12,
    "start_time": "2023-03-06T17:22:10.123Z"
   },
   {
    "duration": 10,
    "start_time": "2023-03-06T17:22:14.488Z"
   },
   {
    "duration": 15,
    "start_time": "2023-03-06T17:24:52.840Z"
   },
   {
    "duration": 3,
    "start_time": "2023-03-06T17:25:07.120Z"
   },
   {
    "duration": 53,
    "start_time": "2023-03-06T17:25:46.012Z"
   },
   {
    "duration": 55,
    "start_time": "2023-03-06T17:25:49.908Z"
   },
   {
    "duration": 11,
    "start_time": "2023-03-06T17:25:52.744Z"
   },
   {
    "duration": 3,
    "start_time": "2023-03-06T17:25:54.841Z"
   },
   {
    "duration": 1174,
    "start_time": "2023-03-06T17:26:44.172Z"
   },
   {
    "duration": 159,
    "start_time": "2023-03-06T17:26:45.348Z"
   },
   {
    "duration": 24,
    "start_time": "2023-03-06T17:26:45.509Z"
   },
   {
    "duration": 64,
    "start_time": "2023-03-06T17:26:45.535Z"
   },
   {
    "duration": 31,
    "start_time": "2023-03-06T17:26:45.602Z"
   },
   {
    "duration": 8,
    "start_time": "2023-03-06T17:26:45.635Z"
   },
   {
    "duration": 18,
    "start_time": "2023-03-06T17:26:45.645Z"
   },
   {
    "duration": 85,
    "start_time": "2023-03-06T17:26:45.665Z"
   },
   {
    "duration": 31,
    "start_time": "2023-03-06T17:26:45.752Z"
   },
   {
    "duration": 77,
    "start_time": "2023-03-06T17:26:45.785Z"
   },
   {
    "duration": 116,
    "start_time": "2023-03-06T17:26:45.864Z"
   },
   {
    "duration": 28,
    "start_time": "2023-03-06T17:26:45.982Z"
   },
   {
    "duration": 15,
    "start_time": "2023-03-06T17:26:46.012Z"
   },
   {
    "duration": 3,
    "start_time": "2023-03-06T17:26:46.030Z"
   },
   {
    "duration": 23,
    "start_time": "2023-03-06T17:26:46.034Z"
   },
   {
    "duration": 304,
    "start_time": "2023-03-06T17:26:46.059Z"
   },
   {
    "duration": 10,
    "start_time": "2023-03-06T17:26:46.364Z"
   },
   {
    "duration": 307,
    "start_time": "2023-03-06T17:26:46.375Z"
   },
   {
    "duration": 224,
    "start_time": "2023-03-06T17:26:46.684Z"
   },
   {
    "duration": 46,
    "start_time": "2023-03-06T17:26:46.910Z"
   },
   {
    "duration": 17,
    "start_time": "2023-03-06T17:26:46.958Z"
   },
   {
    "duration": 8,
    "start_time": "2023-03-06T17:26:46.977Z"
   },
   {
    "duration": 56,
    "start_time": "2023-03-06T17:26:46.987Z"
   },
   {
    "duration": 38,
    "start_time": "2023-03-06T17:26:47.045Z"
   },
   {
    "duration": 37,
    "start_time": "2023-03-06T17:26:47.085Z"
   },
   {
    "duration": 61,
    "start_time": "2023-03-06T17:26:47.124Z"
   },
   {
    "duration": 49,
    "start_time": "2023-03-06T17:26:47.186Z"
   },
   {
    "duration": 0,
    "start_time": "2023-03-06T17:26:47.237Z"
   },
   {
    "duration": 0,
    "start_time": "2023-03-06T17:26:47.238Z"
   },
   {
    "duration": 0,
    "start_time": "2023-03-06T17:26:47.240Z"
   },
   {
    "duration": 0,
    "start_time": "2023-03-06T17:26:47.241Z"
   },
   {
    "duration": 0,
    "start_time": "2023-03-06T17:26:47.242Z"
   },
   {
    "duration": 0,
    "start_time": "2023-03-06T17:26:47.243Z"
   },
   {
    "duration": 117,
    "start_time": "2023-03-06T17:27:11.064Z"
   },
   {
    "duration": 516,
    "start_time": "2023-03-06T17:27:29.270Z"
   },
   {
    "duration": 12,
    "start_time": "2023-03-06T17:27:36.407Z"
   },
   {
    "duration": 13,
    "start_time": "2023-03-06T17:27:39.528Z"
   },
   {
    "duration": 9,
    "start_time": "2023-03-06T17:27:45.014Z"
   },
   {
    "duration": 11,
    "start_time": "2023-03-06T17:29:55.482Z"
   },
   {
    "duration": 15,
    "start_time": "2023-03-06T17:29:58.635Z"
   },
   {
    "duration": 35,
    "start_time": "2023-03-06T17:30:25.015Z"
   },
   {
    "duration": 10,
    "start_time": "2023-03-06T17:35:53.589Z"
   },
   {
    "duration": 4,
    "start_time": "2023-03-06T17:36:02.139Z"
   },
   {
    "duration": 16,
    "start_time": "2023-03-06T17:36:07.678Z"
   },
   {
    "duration": 22,
    "start_time": "2023-03-06T17:36:19.087Z"
   },
   {
    "duration": 161,
    "start_time": "2023-03-06T17:36:59.740Z"
   },
   {
    "duration": 1568,
    "start_time": "2023-03-06T17:40:17.891Z"
   },
   {
    "duration": 966,
    "start_time": "2023-03-06T17:40:30.632Z"
   },
   {
    "duration": 11,
    "start_time": "2023-03-06T17:40:38.838Z"
   },
   {
    "duration": 788,
    "start_time": "2023-03-06T17:40:49.459Z"
   },
   {
    "duration": 11,
    "start_time": "2023-03-06T17:43:29.441Z"
   },
   {
    "duration": 666,
    "start_time": "2023-03-06T17:44:35.700Z"
   },
   {
    "duration": 774,
    "start_time": "2023-03-06T17:45:26.727Z"
   },
   {
    "duration": 98,
    "start_time": "2023-03-06T17:45:32.018Z"
   },
   {
    "duration": 711,
    "start_time": "2023-03-06T17:45:34.196Z"
   },
   {
    "duration": 15,
    "start_time": "2023-03-06T17:48:00.176Z"
   },
   {
    "duration": 49,
    "start_time": "2023-03-06T17:49:40.040Z"
   },
   {
    "duration": 49,
    "start_time": "2023-03-06T17:49:56.606Z"
   },
   {
    "duration": 9,
    "start_time": "2023-03-06T17:50:16.170Z"
   },
   {
    "duration": 8,
    "start_time": "2023-03-06T17:51:38.623Z"
   },
   {
    "duration": 11,
    "start_time": "2023-03-06T17:54:24.685Z"
   },
   {
    "duration": 11,
    "start_time": "2023-03-06T17:55:41.152Z"
   },
   {
    "duration": 8,
    "start_time": "2023-03-06T17:55:43.715Z"
   },
   {
    "duration": 32,
    "start_time": "2023-03-06T17:55:47.480Z"
   },
   {
    "duration": 32,
    "start_time": "2023-03-06T18:17:29.721Z"
   },
   {
    "duration": 56,
    "start_time": "2023-03-06T18:37:25.507Z"
   },
   {
    "duration": 104,
    "start_time": "2023-03-06T18:37:36.363Z"
   },
   {
    "duration": 121,
    "start_time": "2023-03-06T18:43:16.655Z"
   },
   {
    "duration": 101,
    "start_time": "2023-03-06T18:45:05.614Z"
   },
   {
    "duration": 108,
    "start_time": "2023-03-06T18:45:14.517Z"
   },
   {
    "duration": 128,
    "start_time": "2023-03-06T18:45:20.356Z"
   },
   {
    "duration": 121,
    "start_time": "2023-03-06T18:47:05.728Z"
   },
   {
    "duration": 310,
    "start_time": "2023-03-06T19:00:07.802Z"
   },
   {
    "duration": 360,
    "start_time": "2023-03-06T19:01:13.142Z"
   },
   {
    "duration": 247,
    "start_time": "2023-03-06T19:01:26.770Z"
   },
   {
    "duration": 1228,
    "start_time": "2023-03-06T19:01:52.430Z"
   },
   {
    "duration": 163,
    "start_time": "2023-03-06T19:01:53.660Z"
   },
   {
    "duration": 23,
    "start_time": "2023-03-06T19:01:53.825Z"
   },
   {
    "duration": 86,
    "start_time": "2023-03-06T19:01:53.850Z"
   },
   {
    "duration": 14,
    "start_time": "2023-03-06T19:01:53.938Z"
   },
   {
    "duration": 12,
    "start_time": "2023-03-06T19:01:53.954Z"
   },
   {
    "duration": 17,
    "start_time": "2023-03-06T19:01:53.968Z"
   },
   {
    "duration": 94,
    "start_time": "2023-03-06T19:01:53.986Z"
   },
   {
    "duration": 40,
    "start_time": "2023-03-06T19:01:54.081Z"
   },
   {
    "duration": 63,
    "start_time": "2023-03-06T19:01:54.123Z"
   },
   {
    "duration": 127,
    "start_time": "2023-03-06T19:01:54.188Z"
   },
   {
    "duration": 28,
    "start_time": "2023-03-06T19:01:54.316Z"
   },
   {
    "duration": 8,
    "start_time": "2023-03-06T19:01:54.345Z"
   },
   {
    "duration": 4,
    "start_time": "2023-03-06T19:01:54.357Z"
   },
   {
    "duration": 24,
    "start_time": "2023-03-06T19:01:54.362Z"
   },
   {
    "duration": 430,
    "start_time": "2023-03-06T19:01:54.387Z"
   },
   {
    "duration": 10,
    "start_time": "2023-03-06T19:01:54.819Z"
   },
   {
    "duration": 323,
    "start_time": "2023-03-06T19:01:54.831Z"
   },
   {
    "duration": 239,
    "start_time": "2023-03-06T19:01:55.157Z"
   },
   {
    "duration": 51,
    "start_time": "2023-03-06T19:01:55.398Z"
   },
   {
    "duration": 18,
    "start_time": "2023-03-06T19:01:55.450Z"
   },
   {
    "duration": 29,
    "start_time": "2023-03-06T19:01:55.470Z"
   },
   {
    "duration": 45,
    "start_time": "2023-03-06T19:01:55.501Z"
   },
   {
    "duration": 41,
    "start_time": "2023-03-06T19:01:55.548Z"
   },
   {
    "duration": 33,
    "start_time": "2023-03-06T19:01:55.591Z"
   },
   {
    "duration": 77,
    "start_time": "2023-03-06T19:01:55.626Z"
   },
   {
    "duration": 167,
    "start_time": "2023-03-06T19:01:55.705Z"
   },
   {
    "duration": 11,
    "start_time": "2023-03-06T19:01:55.874Z"
   },
   {
    "duration": 19,
    "start_time": "2023-03-06T19:01:55.887Z"
   },
   {
    "duration": 19,
    "start_time": "2023-03-06T19:01:55.908Z"
   },
   {
    "duration": 37,
    "start_time": "2023-03-06T19:01:55.928Z"
   },
   {
    "duration": 95,
    "start_time": "2023-03-06T19:01:55.967Z"
   },
   {
    "duration": 46,
    "start_time": "2023-03-06T19:01:56.064Z"
   },
   {
    "duration": 0,
    "start_time": "2023-03-06T19:01:56.113Z"
   },
   {
    "duration": 301,
    "start_time": "2023-03-06T19:03:55.844Z"
   },
   {
    "duration": 1258,
    "start_time": "2023-03-06T19:04:04.097Z"
   },
   {
    "duration": 167,
    "start_time": "2023-03-06T19:04:05.358Z"
   },
   {
    "duration": 20,
    "start_time": "2023-03-06T19:04:05.528Z"
   },
   {
    "duration": 92,
    "start_time": "2023-03-06T19:04:05.550Z"
   },
   {
    "duration": 13,
    "start_time": "2023-03-06T19:04:05.644Z"
   },
   {
    "duration": 11,
    "start_time": "2023-03-06T19:04:05.659Z"
   },
   {
    "duration": 19,
    "start_time": "2023-03-06T19:04:05.672Z"
   },
   {
    "duration": 94,
    "start_time": "2023-03-06T19:04:05.705Z"
   },
   {
    "duration": 36,
    "start_time": "2023-03-06T19:04:05.801Z"
   },
   {
    "duration": 82,
    "start_time": "2023-03-06T19:04:05.839Z"
   },
   {
    "duration": 114,
    "start_time": "2023-03-06T19:04:05.923Z"
   },
   {
    "duration": 42,
    "start_time": "2023-03-06T19:04:06.039Z"
   },
   {
    "duration": 9,
    "start_time": "2023-03-06T19:04:06.084Z"
   },
   {
    "duration": 4,
    "start_time": "2023-03-06T19:04:06.095Z"
   },
   {
    "duration": 41,
    "start_time": "2023-03-06T19:04:06.101Z"
   },
   {
    "duration": 287,
    "start_time": "2023-03-06T19:04:06.144Z"
   },
   {
    "duration": 10,
    "start_time": "2023-03-06T19:04:06.433Z"
   },
   {
    "duration": 310,
    "start_time": "2023-03-06T19:04:06.445Z"
   },
   {
    "duration": 324,
    "start_time": "2023-03-06T19:04:06.758Z"
   },
   {
    "duration": 50,
    "start_time": "2023-03-06T19:04:07.084Z"
   },
   {
    "duration": 18,
    "start_time": "2023-03-06T19:04:07.136Z"
   },
   {
    "duration": 7,
    "start_time": "2023-03-06T19:04:07.156Z"
   },
   {
    "duration": 58,
    "start_time": "2023-03-06T19:04:07.164Z"
   },
   {
    "duration": 46,
    "start_time": "2023-03-06T19:04:07.224Z"
   },
   {
    "duration": 22,
    "start_time": "2023-03-06T19:04:07.272Z"
   },
   {
    "duration": 86,
    "start_time": "2023-03-06T19:04:07.295Z"
   },
   {
    "duration": 145,
    "start_time": "2023-03-06T19:04:07.383Z"
   },
   {
    "duration": 11,
    "start_time": "2023-03-06T19:04:07.531Z"
   },
   {
    "duration": 21,
    "start_time": "2023-03-06T19:04:07.544Z"
   },
   {
    "duration": 55,
    "start_time": "2023-03-06T19:04:07.567Z"
   },
   {
    "duration": 35,
    "start_time": "2023-03-06T19:04:07.624Z"
   },
   {
    "duration": 80,
    "start_time": "2023-03-06T19:04:07.661Z"
   },
   {
    "duration": 46,
    "start_time": "2023-03-06T19:04:07.743Z"
   },
   {
    "duration": 0,
    "start_time": "2023-03-06T19:04:07.790Z"
   },
   {
    "duration": 293,
    "start_time": "2023-03-06T19:04:21.012Z"
   },
   {
    "duration": 1353,
    "start_time": "2023-03-06T19:04:30.023Z"
   },
   {
    "duration": 168,
    "start_time": "2023-03-06T19:04:31.379Z"
   },
   {
    "duration": 29,
    "start_time": "2023-03-06T19:04:31.550Z"
   },
   {
    "duration": 101,
    "start_time": "2023-03-06T19:04:31.581Z"
   },
   {
    "duration": 19,
    "start_time": "2023-03-06T19:04:31.685Z"
   },
   {
    "duration": 11,
    "start_time": "2023-03-06T19:04:31.721Z"
   },
   {
    "duration": 17,
    "start_time": "2023-03-06T19:04:31.734Z"
   },
   {
    "duration": 101,
    "start_time": "2023-03-06T19:04:31.753Z"
   },
   {
    "duration": 28,
    "start_time": "2023-03-06T19:04:31.856Z"
   },
   {
    "duration": 106,
    "start_time": "2023-03-06T19:04:31.886Z"
   },
   {
    "duration": 127,
    "start_time": "2023-03-06T19:04:31.994Z"
   },
   {
    "duration": 28,
    "start_time": "2023-03-06T19:04:32.123Z"
   },
   {
    "duration": 11,
    "start_time": "2023-03-06T19:04:32.153Z"
   },
   {
    "duration": 38,
    "start_time": "2023-03-06T19:04:32.167Z"
   },
   {
    "duration": 31,
    "start_time": "2023-03-06T19:04:32.207Z"
   },
   {
    "duration": 274,
    "start_time": "2023-03-06T19:04:32.239Z"
   },
   {
    "duration": 16,
    "start_time": "2023-03-06T19:04:32.514Z"
   },
   {
    "duration": 401,
    "start_time": "2023-03-06T19:04:32.532Z"
   },
   {
    "duration": 317,
    "start_time": "2023-03-06T19:04:32.935Z"
   },
   {
    "duration": 52,
    "start_time": "2023-03-06T19:04:33.254Z"
   },
   {
    "duration": 37,
    "start_time": "2023-03-06T19:04:33.308Z"
   },
   {
    "duration": 9,
    "start_time": "2023-03-06T19:04:33.347Z"
   },
   {
    "duration": 37,
    "start_time": "2023-03-06T19:04:33.358Z"
   },
   {
    "duration": 49,
    "start_time": "2023-03-06T19:04:33.421Z"
   },
   {
    "duration": 22,
    "start_time": "2023-03-06T19:04:33.472Z"
   },
   {
    "duration": 87,
    "start_time": "2023-03-06T19:04:33.496Z"
   },
   {
    "duration": 168,
    "start_time": "2023-03-06T19:04:33.585Z"
   },
   {
    "duration": 12,
    "start_time": "2023-03-06T19:04:33.756Z"
   },
   {
    "duration": 16,
    "start_time": "2023-03-06T19:04:33.769Z"
   },
   {
    "duration": 49,
    "start_time": "2023-03-06T19:04:33.787Z"
   },
   {
    "duration": 94,
    "start_time": "2023-03-06T19:04:33.838Z"
   },
   {
    "duration": 32,
    "start_time": "2023-03-06T19:04:33.933Z"
   },
   {
    "duration": 47,
    "start_time": "2023-03-06T19:04:33.967Z"
   },
   {
    "duration": 0,
    "start_time": "2023-03-06T19:04:34.016Z"
   },
   {
    "duration": 238,
    "start_time": "2023-03-06T19:05:15.785Z"
   },
   {
    "duration": 314,
    "start_time": "2023-03-06T19:05:24.904Z"
   },
   {
    "duration": 1260,
    "start_time": "2023-03-06T19:05:33.115Z"
   },
   {
    "duration": 163,
    "start_time": "2023-03-06T19:05:34.376Z"
   },
   {
    "duration": 19,
    "start_time": "2023-03-06T19:05:34.541Z"
   },
   {
    "duration": 79,
    "start_time": "2023-03-06T19:05:34.563Z"
   },
   {
    "duration": 17,
    "start_time": "2023-03-06T19:05:34.643Z"
   },
   {
    "duration": 11,
    "start_time": "2023-03-06T19:05:34.662Z"
   },
   {
    "duration": 17,
    "start_time": "2023-03-06T19:05:34.674Z"
   },
   {
    "duration": 80,
    "start_time": "2023-03-06T19:05:34.722Z"
   },
   {
    "duration": 41,
    "start_time": "2023-03-06T19:05:34.803Z"
   },
   {
    "duration": 73,
    "start_time": "2023-03-06T19:05:34.848Z"
   },
   {
    "duration": 127,
    "start_time": "2023-03-06T19:05:34.923Z"
   },
   {
    "duration": 28,
    "start_time": "2023-03-06T19:05:35.052Z"
   },
   {
    "duration": 9,
    "start_time": "2023-03-06T19:05:35.082Z"
   },
   {
    "duration": 4,
    "start_time": "2023-03-06T19:05:35.092Z"
   },
   {
    "duration": 22,
    "start_time": "2023-03-06T19:05:35.122Z"
   },
   {
    "duration": 306,
    "start_time": "2023-03-06T19:05:35.145Z"
   },
   {
    "duration": 9,
    "start_time": "2023-03-06T19:05:35.453Z"
   },
   {
    "duration": 323,
    "start_time": "2023-03-06T19:05:35.464Z"
   },
   {
    "duration": 247,
    "start_time": "2023-03-06T19:05:35.789Z"
   },
   {
    "duration": 44,
    "start_time": "2023-03-06T19:05:36.038Z"
   },
   {
    "duration": 39,
    "start_time": "2023-03-06T19:05:36.084Z"
   },
   {
    "duration": 7,
    "start_time": "2023-03-06T19:05:36.125Z"
   },
   {
    "duration": 32,
    "start_time": "2023-03-06T19:05:36.134Z"
   },
   {
    "duration": 61,
    "start_time": "2023-03-06T19:05:36.167Z"
   },
   {
    "duration": 20,
    "start_time": "2023-03-06T19:05:36.230Z"
   },
   {
    "duration": 81,
    "start_time": "2023-03-06T19:05:36.252Z"
   },
   {
    "duration": 169,
    "start_time": "2023-03-06T19:05:36.335Z"
   },
   {
    "duration": 14,
    "start_time": "2023-03-06T19:05:36.508Z"
   },
   {
    "duration": 12,
    "start_time": "2023-03-06T19:05:36.524Z"
   },
   {
    "duration": 12,
    "start_time": "2023-03-06T19:05:36.538Z"
   },
   {
    "duration": 88,
    "start_time": "2023-03-06T19:05:36.551Z"
   },
   {
    "duration": 30,
    "start_time": "2023-03-06T19:05:36.641Z"
   },
   {
    "duration": 49,
    "start_time": "2023-03-06T19:05:36.673Z"
   },
   {
    "duration": 0,
    "start_time": "2023-03-06T19:05:36.724Z"
   },
   {
    "duration": 229,
    "start_time": "2023-03-06T19:06:31.002Z"
   },
   {
    "duration": 42,
    "start_time": "2023-03-06T19:07:00.928Z"
   },
   {
    "duration": 17,
    "start_time": "2023-03-06T19:07:04.120Z"
   },
   {
    "duration": 1201,
    "start_time": "2023-03-06T19:07:24.854Z"
   },
   {
    "duration": 164,
    "start_time": "2023-03-06T19:07:26.057Z"
   },
   {
    "duration": 19,
    "start_time": "2023-03-06T19:07:26.223Z"
   },
   {
    "duration": 78,
    "start_time": "2023-03-06T19:07:26.244Z"
   },
   {
    "duration": 14,
    "start_time": "2023-03-06T19:07:26.325Z"
   },
   {
    "duration": 7,
    "start_time": "2023-03-06T19:07:26.341Z"
   },
   {
    "duration": 20,
    "start_time": "2023-03-06T19:07:26.350Z"
   },
   {
    "duration": 95,
    "start_time": "2023-03-06T19:07:26.371Z"
   },
   {
    "duration": 26,
    "start_time": "2023-03-06T19:07:26.468Z"
   },
   {
    "duration": 74,
    "start_time": "2023-03-06T19:07:26.496Z"
   },
   {
    "duration": 126,
    "start_time": "2023-03-06T19:07:26.572Z"
   },
   {
    "duration": 34,
    "start_time": "2023-03-06T19:07:26.700Z"
   },
   {
    "duration": 9,
    "start_time": "2023-03-06T19:07:26.736Z"
   },
   {
    "duration": 5,
    "start_time": "2023-03-06T19:07:26.748Z"
   },
   {
    "duration": 22,
    "start_time": "2023-03-06T19:07:26.755Z"
   },
   {
    "duration": 318,
    "start_time": "2023-03-06T19:07:26.779Z"
   },
   {
    "duration": 24,
    "start_time": "2023-03-06T19:07:27.098Z"
   },
   {
    "duration": 301,
    "start_time": "2023-03-06T19:07:27.124Z"
   },
   {
    "duration": 244,
    "start_time": "2023-03-06T19:07:27.427Z"
   },
   {
    "duration": 52,
    "start_time": "2023-03-06T19:07:27.673Z"
   },
   {
    "duration": 18,
    "start_time": "2023-03-06T19:07:27.727Z"
   },
   {
    "duration": 6,
    "start_time": "2023-03-06T19:07:27.747Z"
   },
   {
    "duration": 33,
    "start_time": "2023-03-06T19:07:27.755Z"
   },
   {
    "duration": 65,
    "start_time": "2023-03-06T19:07:27.790Z"
   },
   {
    "duration": 22,
    "start_time": "2023-03-06T19:07:27.857Z"
   },
   {
    "duration": 86,
    "start_time": "2023-03-06T19:07:27.880Z"
   },
   {
    "duration": 153,
    "start_time": "2023-03-06T19:07:27.968Z"
   },
   {
    "duration": 11,
    "start_time": "2023-03-06T19:07:28.125Z"
   },
   {
    "duration": 12,
    "start_time": "2023-03-06T19:07:28.138Z"
   },
   {
    "duration": 8,
    "start_time": "2023-03-06T19:07:28.151Z"
   },
   {
    "duration": 84,
    "start_time": "2023-03-06T19:07:28.161Z"
   },
   {
    "duration": 91,
    "start_time": "2023-03-06T19:07:28.247Z"
   },
   {
    "duration": 84,
    "start_time": "2023-03-06T19:07:28.340Z"
   },
   {
    "duration": 0,
    "start_time": "2023-03-06T19:07:28.426Z"
   },
   {
    "duration": 43,
    "start_time": "2023-03-06T19:08:05.070Z"
   },
   {
    "duration": 28,
    "start_time": "2023-03-06T19:08:07.516Z"
   },
   {
    "duration": 1325,
    "start_time": "2023-03-06T19:08:39.692Z"
   },
   {
    "duration": 163,
    "start_time": "2023-03-06T19:08:41.018Z"
   },
   {
    "duration": 19,
    "start_time": "2023-03-06T19:08:41.183Z"
   },
   {
    "duration": 106,
    "start_time": "2023-03-06T19:08:41.204Z"
   },
   {
    "duration": 19,
    "start_time": "2023-03-06T19:08:41.312Z"
   },
   {
    "duration": 10,
    "start_time": "2023-03-06T19:08:41.333Z"
   },
   {
    "duration": 24,
    "start_time": "2023-03-06T19:08:41.344Z"
   },
   {
    "duration": 89,
    "start_time": "2023-03-06T19:08:41.370Z"
   },
   {
    "duration": 29,
    "start_time": "2023-03-06T19:08:41.461Z"
   },
   {
    "duration": 81,
    "start_time": "2023-03-06T19:08:41.492Z"
   },
   {
    "duration": 128,
    "start_time": "2023-03-06T19:08:41.575Z"
   },
   {
    "duration": 38,
    "start_time": "2023-03-06T19:08:41.705Z"
   },
   {
    "duration": 9,
    "start_time": "2023-03-06T19:08:41.745Z"
   },
   {
    "duration": 4,
    "start_time": "2023-03-06T19:08:41.756Z"
   },
   {
    "duration": 27,
    "start_time": "2023-03-06T19:08:41.761Z"
   },
   {
    "duration": 309,
    "start_time": "2023-03-06T19:08:41.789Z"
   },
   {
    "duration": 23,
    "start_time": "2023-03-06T19:08:42.100Z"
   },
   {
    "duration": 294,
    "start_time": "2023-03-06T19:08:42.125Z"
   },
   {
    "duration": 236,
    "start_time": "2023-03-06T19:08:42.421Z"
   },
   {
    "duration": 44,
    "start_time": "2023-03-06T19:08:42.660Z"
   },
   {
    "duration": 30,
    "start_time": "2023-03-06T19:08:42.705Z"
   },
   {
    "duration": 7,
    "start_time": "2023-03-06T19:08:42.736Z"
   },
   {
    "duration": 33,
    "start_time": "2023-03-06T19:08:42.744Z"
   },
   {
    "duration": 68,
    "start_time": "2023-03-06T19:08:42.779Z"
   },
   {
    "duration": 20,
    "start_time": "2023-03-06T19:08:42.849Z"
   },
   {
    "duration": 97,
    "start_time": "2023-03-06T19:08:42.871Z"
   },
   {
    "duration": 150,
    "start_time": "2023-03-06T19:08:42.970Z"
   },
   {
    "duration": 11,
    "start_time": "2023-03-06T19:08:43.123Z"
   },
   {
    "duration": 12,
    "start_time": "2023-03-06T19:08:43.135Z"
   },
   {
    "duration": 12,
    "start_time": "2023-03-06T19:08:43.149Z"
   },
   {
    "duration": 95,
    "start_time": "2023-03-06T19:08:43.163Z"
   },
   {
    "duration": 84,
    "start_time": "2023-03-06T19:08:43.260Z"
   },
   {
    "duration": 49,
    "start_time": "2023-03-06T19:08:43.346Z"
   },
   {
    "duration": 0,
    "start_time": "2023-03-06T19:08:43.397Z"
   },
   {
    "duration": 120,
    "start_time": "2023-03-06T19:08:47.608Z"
   },
   {
    "duration": 13,
    "start_time": "2023-03-06T19:09:49.859Z"
   },
   {
    "duration": 9,
    "start_time": "2023-03-06T19:10:08.958Z"
   },
   {
    "duration": 71,
    "start_time": "2023-03-06T19:10:20.128Z"
   },
   {
    "duration": 10,
    "start_time": "2023-03-06T19:10:32.059Z"
   },
   {
    "duration": 32,
    "start_time": "2023-03-06T19:10:35.357Z"
   },
   {
    "duration": 218,
    "start_time": "2023-03-06T19:18:42.123Z"
   },
   {
    "duration": 35,
    "start_time": "2023-03-06T19:19:03.908Z"
   },
   {
    "duration": 122,
    "start_time": "2023-03-06T19:19:05.920Z"
   },
   {
    "duration": 10,
    "start_time": "2023-03-06T19:40:33.676Z"
   },
   {
    "duration": 21,
    "start_time": "2023-03-06T19:40:40.320Z"
   },
   {
    "duration": 1344,
    "start_time": "2023-03-06T19:40:58.675Z"
   },
   {
    "duration": 182,
    "start_time": "2023-03-06T19:41:00.021Z"
   },
   {
    "duration": 53,
    "start_time": "2023-03-06T19:41:00.206Z"
   },
   {
    "duration": 90,
    "start_time": "2023-03-06T19:41:00.262Z"
   },
   {
    "duration": 20,
    "start_time": "2023-03-06T19:41:00.354Z"
   },
   {
    "duration": 31,
    "start_time": "2023-03-06T19:41:00.377Z"
   },
   {
    "duration": 44,
    "start_time": "2023-03-06T19:41:00.411Z"
   },
   {
    "duration": 139,
    "start_time": "2023-03-06T19:41:00.458Z"
   },
   {
    "duration": 57,
    "start_time": "2023-03-06T19:41:00.599Z"
   },
   {
    "duration": 82,
    "start_time": "2023-03-06T19:41:00.658Z"
   },
   {
    "duration": 190,
    "start_time": "2023-03-06T19:41:00.744Z"
   },
   {
    "duration": 45,
    "start_time": "2023-03-06T19:41:00.936Z"
   },
   {
    "duration": 11,
    "start_time": "2023-03-06T19:41:00.985Z"
   },
   {
    "duration": 26,
    "start_time": "2023-03-06T19:41:00.998Z"
   },
   {
    "duration": 50,
    "start_time": "2023-03-06T19:41:01.032Z"
   },
   {
    "duration": 314,
    "start_time": "2023-03-06T19:41:01.084Z"
   },
   {
    "duration": 26,
    "start_time": "2023-03-06T19:41:01.400Z"
   },
   {
    "duration": 326,
    "start_time": "2023-03-06T19:41:01.428Z"
   },
   {
    "duration": 261,
    "start_time": "2023-03-06T19:41:01.756Z"
   },
   {
    "duration": 53,
    "start_time": "2023-03-06T19:41:02.019Z"
   },
   {
    "duration": 18,
    "start_time": "2023-03-06T19:41:02.074Z"
   },
   {
    "duration": 8,
    "start_time": "2023-03-06T19:41:02.093Z"
   },
   {
    "duration": 41,
    "start_time": "2023-03-06T19:41:02.121Z"
   },
   {
    "duration": 40,
    "start_time": "2023-03-06T19:41:02.164Z"
   },
   {
    "duration": 42,
    "start_time": "2023-03-06T19:41:02.206Z"
   },
   {
    "duration": 88,
    "start_time": "2023-03-06T19:41:02.250Z"
   },
   {
    "duration": 176,
    "start_time": "2023-03-06T19:41:02.340Z"
   },
   {
    "duration": 14,
    "start_time": "2023-03-06T19:41:02.520Z"
   },
   {
    "duration": 15,
    "start_time": "2023-03-06T19:41:02.536Z"
   },
   {
    "duration": 8,
    "start_time": "2023-03-06T19:41:02.553Z"
   },
   {
    "duration": 101,
    "start_time": "2023-03-06T19:41:02.563Z"
   },
   {
    "duration": 152,
    "start_time": "2023-03-06T19:41:02.722Z"
   },
   {
    "duration": 0,
    "start_time": "2023-03-06T19:41:02.876Z"
   },
   {
    "duration": 0,
    "start_time": "2023-03-06T19:41:02.877Z"
   },
   {
    "duration": 0,
    "start_time": "2023-03-06T19:41:02.879Z"
   },
   {
    "duration": 34,
    "start_time": "2023-03-06T19:41:16.339Z"
   },
   {
    "duration": 10,
    "start_time": "2023-03-06T19:41:22.004Z"
   },
   {
    "duration": 21,
    "start_time": "2023-03-06T19:41:42.709Z"
   },
   {
    "duration": 1271,
    "start_time": "2023-03-06T19:42:31.649Z"
   },
   {
    "duration": 187,
    "start_time": "2023-03-06T19:42:32.924Z"
   },
   {
    "duration": 31,
    "start_time": "2023-03-06T19:42:33.113Z"
   },
   {
    "duration": 76,
    "start_time": "2023-03-06T19:42:33.146Z"
   },
   {
    "duration": 22,
    "start_time": "2023-03-06T19:42:33.226Z"
   },
   {
    "duration": 8,
    "start_time": "2023-03-06T19:42:33.250Z"
   },
   {
    "duration": 24,
    "start_time": "2023-03-06T19:42:33.261Z"
   },
   {
    "duration": 123,
    "start_time": "2023-03-06T19:42:33.287Z"
   },
   {
    "duration": 42,
    "start_time": "2023-03-06T19:42:33.411Z"
   },
   {
    "duration": 92,
    "start_time": "2023-03-06T19:42:33.454Z"
   },
   {
    "duration": 135,
    "start_time": "2023-03-06T19:42:33.547Z"
   },
   {
    "duration": 58,
    "start_time": "2023-03-06T19:42:33.685Z"
   },
   {
    "duration": 9,
    "start_time": "2023-03-06T19:42:33.747Z"
   },
   {
    "duration": 4,
    "start_time": "2023-03-06T19:42:33.760Z"
   },
   {
    "duration": 43,
    "start_time": "2023-03-06T19:42:33.765Z"
   },
   {
    "duration": 328,
    "start_time": "2023-03-06T19:42:33.810Z"
   },
   {
    "duration": 16,
    "start_time": "2023-03-06T19:42:34.140Z"
   },
   {
    "duration": 332,
    "start_time": "2023-03-06T19:42:34.159Z"
   },
   {
    "duration": 249,
    "start_time": "2023-03-06T19:42:34.493Z"
   },
   {
    "duration": 43,
    "start_time": "2023-03-06T19:42:34.744Z"
   },
   {
    "duration": 46,
    "start_time": "2023-03-06T19:42:34.790Z"
   },
   {
    "duration": 8,
    "start_time": "2023-03-06T19:42:34.838Z"
   },
   {
    "duration": 37,
    "start_time": "2023-03-06T19:42:34.848Z"
   },
   {
    "duration": 69,
    "start_time": "2023-03-06T19:42:34.886Z"
   },
   {
    "duration": 21,
    "start_time": "2023-03-06T19:42:34.956Z"
   },
   {
    "duration": 104,
    "start_time": "2023-03-06T19:42:34.979Z"
   },
   {
    "duration": 175,
    "start_time": "2023-03-06T19:42:35.086Z"
   },
   {
    "duration": 17,
    "start_time": "2023-03-06T19:42:35.263Z"
   },
   {
    "duration": 13,
    "start_time": "2023-03-06T19:42:35.282Z"
   },
   {
    "duration": 45,
    "start_time": "2023-03-06T19:42:35.297Z"
   },
   {
    "duration": 86,
    "start_time": "2023-03-06T19:42:35.345Z"
   },
   {
    "duration": 36,
    "start_time": "2023-03-06T19:42:35.433Z"
   },
   {
    "duration": 131,
    "start_time": "2023-03-06T19:42:35.471Z"
   },
   {
    "duration": 39,
    "start_time": "2023-03-06T19:42:35.603Z"
   },
   {
    "duration": 62,
    "start_time": "2023-03-06T19:42:35.644Z"
   },
   {
    "duration": 35,
    "start_time": "2023-03-06T19:45:19.342Z"
   },
   {
    "duration": 117,
    "start_time": "2023-03-06T19:45:39.352Z"
   },
   {
    "duration": 6,
    "start_time": "2023-03-06T19:59:28.038Z"
   },
   {
    "duration": 126,
    "start_time": "2023-03-06T19:59:50.448Z"
   },
   {
    "duration": 4,
    "start_time": "2023-03-06T20:00:04.249Z"
   },
   {
    "duration": 1204,
    "start_time": "2023-03-06T20:00:34.481Z"
   },
   {
    "duration": 186,
    "start_time": "2023-03-06T20:00:35.688Z"
   },
   {
    "duration": 24,
    "start_time": "2023-03-06T20:00:35.876Z"
   },
   {
    "duration": 109,
    "start_time": "2023-03-06T20:00:35.902Z"
   },
   {
    "duration": 32,
    "start_time": "2023-03-06T20:00:36.014Z"
   },
   {
    "duration": 9,
    "start_time": "2023-03-06T20:00:36.049Z"
   },
   {
    "duration": 23,
    "start_time": "2023-03-06T20:00:36.060Z"
   },
   {
    "duration": 107,
    "start_time": "2023-03-06T20:00:36.086Z"
   },
   {
    "duration": 46,
    "start_time": "2023-03-06T20:00:36.194Z"
   },
   {
    "duration": 66,
    "start_time": "2023-03-06T20:00:36.241Z"
   },
   {
    "duration": 120,
    "start_time": "2023-03-06T20:00:36.323Z"
   },
   {
    "duration": 28,
    "start_time": "2023-03-06T20:00:36.445Z"
   },
   {
    "duration": 14,
    "start_time": "2023-03-06T20:00:36.476Z"
   },
   {
    "duration": 4,
    "start_time": "2023-03-06T20:00:36.495Z"
   },
   {
    "duration": 34,
    "start_time": "2023-03-06T20:00:36.526Z"
   },
   {
    "duration": 332,
    "start_time": "2023-03-06T20:00:36.562Z"
   },
   {
    "duration": 10,
    "start_time": "2023-03-06T20:00:36.896Z"
   },
   {
    "duration": 338,
    "start_time": "2023-03-06T20:00:36.907Z"
   },
   {
    "duration": 271,
    "start_time": "2023-03-06T20:00:37.247Z"
   },
   {
    "duration": 47,
    "start_time": "2023-03-06T20:00:37.521Z"
   },
   {
    "duration": 31,
    "start_time": "2023-03-06T20:00:37.570Z"
   },
   {
    "duration": 10,
    "start_time": "2023-03-06T20:00:37.621Z"
   },
   {
    "duration": 57,
    "start_time": "2023-03-06T20:00:37.632Z"
   },
   {
    "duration": 70,
    "start_time": "2023-03-06T20:00:37.692Z"
   },
   {
    "duration": 23,
    "start_time": "2023-03-06T20:00:37.765Z"
   },
   {
    "duration": 124,
    "start_time": "2023-03-06T20:00:37.791Z"
   },
   {
    "duration": 862,
    "start_time": "2023-03-06T20:00:37.925Z"
   },
   {
    "duration": 1,
    "start_time": "2023-03-06T20:00:38.789Z"
   },
   {
    "duration": 0,
    "start_time": "2023-03-06T20:00:38.791Z"
   },
   {
    "duration": 0,
    "start_time": "2023-03-06T20:00:38.793Z"
   },
   {
    "duration": 0,
    "start_time": "2023-03-06T20:00:38.794Z"
   },
   {
    "duration": 0,
    "start_time": "2023-03-06T20:00:38.796Z"
   },
   {
    "duration": 0,
    "start_time": "2023-03-06T20:00:38.797Z"
   },
   {
    "duration": 0,
    "start_time": "2023-03-06T20:00:38.798Z"
   },
   {
    "duration": 0,
    "start_time": "2023-03-06T20:00:38.800Z"
   },
   {
    "duration": 0,
    "start_time": "2023-03-06T20:00:38.801Z"
   },
   {
    "duration": 886,
    "start_time": "2023-03-06T20:00:55.881Z"
   },
   {
    "duration": 4,
    "start_time": "2023-03-06T20:01:12.875Z"
   },
   {
    "duration": 195,
    "start_time": "2023-03-06T20:01:14.576Z"
   },
   {
    "duration": 18,
    "start_time": "2023-03-06T20:01:15.340Z"
   },
   {
    "duration": 59,
    "start_time": "2023-03-06T20:01:15.908Z"
   },
   {
    "duration": 14,
    "start_time": "2023-03-06T20:01:16.574Z"
   },
   {
    "duration": 8,
    "start_time": "2023-03-06T20:01:18.175Z"
   },
   {
    "duration": 15,
    "start_time": "2023-03-06T20:01:18.673Z"
   },
   {
    "duration": 99,
    "start_time": "2023-03-06T20:01:19.046Z"
   },
   {
    "duration": 29,
    "start_time": "2023-03-06T20:01:19.473Z"
   },
   {
    "duration": 63,
    "start_time": "2023-03-06T20:01:19.936Z"
   },
   {
    "duration": 109,
    "start_time": "2023-03-06T20:01:20.476Z"
   },
   {
    "duration": 29,
    "start_time": "2023-03-06T20:01:22.234Z"
   },
   {
    "duration": 10,
    "start_time": "2023-03-06T20:01:23.116Z"
   },
   {
    "duration": 4,
    "start_time": "2023-03-06T20:01:24.474Z"
   },
   {
    "duration": 21,
    "start_time": "2023-03-06T20:01:24.991Z"
   },
   {
    "duration": 278,
    "start_time": "2023-03-06T20:01:25.802Z"
   },
   {
    "duration": 13,
    "start_time": "2023-03-06T20:01:27.516Z"
   },
   {
    "duration": 224,
    "start_time": "2023-03-06T20:01:27.914Z"
   },
   {
    "duration": 267,
    "start_time": "2023-03-06T20:01:28.880Z"
   },
   {
    "duration": 42,
    "start_time": "2023-03-06T20:01:30.234Z"
   },
   {
    "duration": 23,
    "start_time": "2023-03-06T20:01:30.769Z"
   },
   {
    "duration": 7,
    "start_time": "2023-03-06T20:01:32.205Z"
   },
   {
    "duration": 40,
    "start_time": "2023-03-06T20:01:32.798Z"
   },
   {
    "duration": 44,
    "start_time": "2023-03-06T20:01:33.309Z"
   },
   {
    "duration": 32,
    "start_time": "2023-03-06T20:01:36.919Z"
   },
   {
    "duration": 78,
    "start_time": "2023-03-06T20:01:38.562Z"
   },
   {
    "duration": 758,
    "start_time": "2023-03-06T20:01:40.311Z"
   },
   {
    "duration": 234,
    "start_time": "2023-03-06T20:01:41.280Z"
   },
   {
    "duration": 15,
    "start_time": "2023-03-06T20:02:19.811Z"
   },
   {
    "duration": 1241,
    "start_time": "2023-03-06T20:02:27.911Z"
   },
   {
    "duration": 185,
    "start_time": "2023-03-06T20:02:29.154Z"
   },
   {
    "duration": 20,
    "start_time": "2023-03-06T20:02:29.341Z"
   },
   {
    "duration": 79,
    "start_time": "2023-03-06T20:02:29.363Z"
   },
   {
    "duration": 14,
    "start_time": "2023-03-06T20:02:29.445Z"
   },
   {
    "duration": 8,
    "start_time": "2023-03-06T20:02:29.461Z"
   },
   {
    "duration": 19,
    "start_time": "2023-03-06T20:02:29.471Z"
   },
   {
    "duration": 136,
    "start_time": "2023-03-06T20:02:29.492Z"
   },
   {
    "duration": 30,
    "start_time": "2023-03-06T20:02:29.639Z"
   },
   {
    "duration": 72,
    "start_time": "2023-03-06T20:02:29.671Z"
   },
   {
    "duration": 112,
    "start_time": "2023-03-06T20:02:29.744Z"
   },
   {
    "duration": 27,
    "start_time": "2023-03-06T20:02:29.858Z"
   },
   {
    "duration": 12,
    "start_time": "2023-03-06T20:02:29.887Z"
   },
   {
    "duration": 22,
    "start_time": "2023-03-06T20:02:29.902Z"
   },
   {
    "duration": 49,
    "start_time": "2023-03-06T20:02:29.927Z"
   },
   {
    "duration": 291,
    "start_time": "2023-03-06T20:02:29.977Z"
   },
   {
    "duration": 9,
    "start_time": "2023-03-06T20:02:30.270Z"
   },
   {
    "duration": 391,
    "start_time": "2023-03-06T20:02:30.281Z"
   },
   {
    "duration": 255,
    "start_time": "2023-03-06T20:02:30.674Z"
   },
   {
    "duration": 48,
    "start_time": "2023-03-06T20:02:30.931Z"
   },
   {
    "duration": 25,
    "start_time": "2023-03-06T20:02:30.981Z"
   },
   {
    "duration": 27,
    "start_time": "2023-03-06T20:02:31.007Z"
   },
   {
    "duration": 32,
    "start_time": "2023-03-06T20:02:31.036Z"
   },
   {
    "duration": 41,
    "start_time": "2023-03-06T20:02:31.069Z"
   },
   {
    "duration": 38,
    "start_time": "2023-03-06T20:02:31.111Z"
   },
   {
    "duration": 85,
    "start_time": "2023-03-06T20:02:31.151Z"
   },
   {
    "duration": 155,
    "start_time": "2023-03-06T20:02:31.238Z"
   },
   {
    "duration": 10,
    "start_time": "2023-03-06T20:02:31.397Z"
   },
   {
    "duration": 26,
    "start_time": "2023-03-06T20:02:31.409Z"
   },
   {
    "duration": 14,
    "start_time": "2023-03-06T20:02:31.441Z"
   },
   {
    "duration": 91,
    "start_time": "2023-03-06T20:02:31.457Z"
   },
   {
    "duration": 31,
    "start_time": "2023-03-06T20:02:31.550Z"
   },
   {
    "duration": 154,
    "start_time": "2023-03-06T20:02:31.582Z"
   },
   {
    "duration": 21,
    "start_time": "2023-03-06T20:02:31.738Z"
   },
   {
    "duration": 906,
    "start_time": "2023-03-06T20:02:31.761Z"
   },
   {
    "duration": 20,
    "start_time": "2023-03-06T20:03:06.880Z"
   },
   {
    "duration": 16,
    "start_time": "2023-03-06T20:04:15.373Z"
   },
   {
    "duration": 12,
    "start_time": "2023-03-06T20:04:26.475Z"
   },
   {
    "duration": 761,
    "start_time": "2023-03-06T20:05:32.111Z"
   },
   {
    "duration": 11,
    "start_time": "2023-03-06T20:06:24.229Z"
   },
   {
    "duration": 12,
    "start_time": "2023-03-06T20:07:31.056Z"
   },
   {
    "duration": 9,
    "start_time": "2023-03-06T20:07:51.168Z"
   },
   {
    "duration": 12,
    "start_time": "2023-03-06T20:08:37.045Z"
   },
   {
    "duration": 709,
    "start_time": "2023-03-06T20:12:18.408Z"
   },
   {
    "duration": 14,
    "start_time": "2023-03-06T20:12:29.708Z"
   },
   {
    "duration": 11,
    "start_time": "2023-03-06T20:12:57.420Z"
   },
   {
    "duration": 14,
    "start_time": "2023-03-06T20:14:17.830Z"
   },
   {
    "duration": 13,
    "start_time": "2023-03-06T20:14:20.511Z"
   },
   {
    "duration": 9,
    "start_time": "2023-03-06T20:14:23.369Z"
   },
   {
    "duration": 732,
    "start_time": "2023-03-06T20:14:45.039Z"
   },
   {
    "duration": 17,
    "start_time": "2023-03-06T20:14:54.847Z"
   },
   {
    "duration": 11,
    "start_time": "2023-03-06T20:15:01.479Z"
   },
   {
    "duration": 11,
    "start_time": "2023-03-06T20:15:13.506Z"
   },
   {
    "duration": 11,
    "start_time": "2023-03-06T20:15:15.769Z"
   },
   {
    "duration": 10,
    "start_time": "2023-03-06T20:15:18.351Z"
   },
   {
    "duration": 9,
    "start_time": "2023-03-06T20:24:03.330Z"
   },
   {
    "duration": 12,
    "start_time": "2023-03-06T20:24:07.817Z"
   },
   {
    "duration": 718,
    "start_time": "2023-03-06T20:24:11.812Z"
   },
   {
    "duration": 119,
    "start_time": "2023-03-06T20:24:41.321Z"
   },
   {
    "duration": 116,
    "start_time": "2023-03-06T20:24:48.181Z"
   },
   {
    "duration": 723,
    "start_time": "2023-03-06T20:24:57.857Z"
   },
   {
    "duration": 1199,
    "start_time": "2023-03-06T20:25:29.223Z"
   },
   {
    "duration": 166,
    "start_time": "2023-03-06T20:25:30.424Z"
   },
   {
    "duration": 28,
    "start_time": "2023-03-06T20:25:30.593Z"
   },
   {
    "duration": 87,
    "start_time": "2023-03-06T20:25:30.623Z"
   },
   {
    "duration": 14,
    "start_time": "2023-03-06T20:25:30.712Z"
   },
   {
    "duration": 36,
    "start_time": "2023-03-06T20:25:30.728Z"
   },
   {
    "duration": 61,
    "start_time": "2023-03-06T20:25:30.766Z"
   },
   {
    "duration": 84,
    "start_time": "2023-03-06T20:25:30.829Z"
   },
   {
    "duration": 27,
    "start_time": "2023-03-06T20:25:30.914Z"
   },
   {
    "duration": 74,
    "start_time": "2023-03-06T20:25:30.943Z"
   },
   {
    "duration": 132,
    "start_time": "2023-03-06T20:25:31.022Z"
   },
   {
    "duration": 27,
    "start_time": "2023-03-06T20:25:31.155Z"
   },
   {
    "duration": 9,
    "start_time": "2023-03-06T20:25:31.184Z"
   },
   {
    "duration": 22,
    "start_time": "2023-03-06T20:25:31.195Z"
   },
   {
    "duration": 34,
    "start_time": "2023-03-06T20:25:31.221Z"
   },
   {
    "duration": 282,
    "start_time": "2023-03-06T20:25:31.257Z"
   },
   {
    "duration": 9,
    "start_time": "2023-03-06T20:25:31.540Z"
   },
   {
    "duration": 305,
    "start_time": "2023-03-06T20:25:31.551Z"
   },
   {
    "duration": 236,
    "start_time": "2023-03-06T20:25:31.858Z"
   },
   {
    "duration": 54,
    "start_time": "2023-03-06T20:25:32.096Z"
   },
   {
    "duration": 18,
    "start_time": "2023-03-06T20:25:32.151Z"
   },
   {
    "duration": 21,
    "start_time": "2023-03-06T20:25:32.171Z"
   },
   {
    "duration": 57,
    "start_time": "2023-03-06T20:25:32.193Z"
   },
   {
    "duration": 42,
    "start_time": "2023-03-06T20:25:32.252Z"
   },
   {
    "duration": 28,
    "start_time": "2023-03-06T20:25:32.295Z"
   },
   {
    "duration": 78,
    "start_time": "2023-03-06T20:25:32.324Z"
   },
   {
    "duration": 157,
    "start_time": "2023-03-06T20:25:32.403Z"
   },
   {
    "duration": 11,
    "start_time": "2023-03-06T20:25:32.563Z"
   },
   {
    "duration": 19,
    "start_time": "2023-03-06T20:25:32.576Z"
   },
   {
    "duration": 30,
    "start_time": "2023-03-06T20:25:32.597Z"
   },
   {
    "duration": 38,
    "start_time": "2023-03-06T20:25:32.629Z"
   },
   {
    "duration": 73,
    "start_time": "2023-03-06T20:25:32.669Z"
   },
   {
    "duration": 129,
    "start_time": "2023-03-06T20:25:32.743Z"
   },
   {
    "duration": 23,
    "start_time": "2023-03-06T20:25:32.873Z"
   },
   {
    "duration": 42,
    "start_time": "2023-03-06T20:25:32.898Z"
   },
   {
    "duration": 45,
    "start_time": "2023-03-06T20:25:32.941Z"
   },
   {
    "duration": 19,
    "start_time": "2023-03-06T20:25:32.988Z"
   },
   {
    "duration": 951,
    "start_time": "2023-03-06T20:25:33.009Z"
   },
   {
    "duration": 729,
    "start_time": "2023-03-06T20:25:51.080Z"
   },
   {
    "duration": 772,
    "start_time": "2023-03-06T20:26:01.528Z"
   },
   {
    "duration": 119,
    "start_time": "2023-03-06T20:27:46.947Z"
   },
   {
    "duration": 120,
    "start_time": "2023-03-06T20:27:51.619Z"
   },
   {
    "duration": 120,
    "start_time": "2023-03-06T20:28:05.740Z"
   },
   {
    "duration": 10,
    "start_time": "2023-03-06T20:28:25.334Z"
   },
   {
    "duration": 12,
    "start_time": "2023-03-06T20:51:21.634Z"
   },
   {
    "duration": 10,
    "start_time": "2023-03-06T20:51:41.423Z"
   },
   {
    "duration": 4,
    "start_time": "2023-03-06T20:52:47.536Z"
   },
   {
    "duration": 8,
    "start_time": "2023-03-06T21:08:51.080Z"
   },
   {
    "duration": 1102,
    "start_time": "2023-03-06T21:08:58.674Z"
   },
   {
    "duration": 169,
    "start_time": "2023-03-06T21:08:59.779Z"
   },
   {
    "duration": 19,
    "start_time": "2023-03-06T21:08:59.950Z"
   },
   {
    "duration": 78,
    "start_time": "2023-03-06T21:08:59.971Z"
   },
   {
    "duration": 15,
    "start_time": "2023-03-06T21:09:00.051Z"
   },
   {
    "duration": 8,
    "start_time": "2023-03-06T21:09:00.068Z"
   },
   {
    "duration": 32,
    "start_time": "2023-03-06T21:09:00.077Z"
   },
   {
    "duration": 102,
    "start_time": "2023-03-06T21:09:00.110Z"
   },
   {
    "duration": 34,
    "start_time": "2023-03-06T21:09:00.213Z"
   },
   {
    "duration": 91,
    "start_time": "2023-03-06T21:09:00.249Z"
   },
   {
    "duration": 114,
    "start_time": "2023-03-06T21:09:00.343Z"
   },
   {
    "duration": 30,
    "start_time": "2023-03-06T21:09:00.458Z"
   },
   {
    "duration": 25,
    "start_time": "2023-03-06T21:09:00.490Z"
   },
   {
    "duration": 15,
    "start_time": "2023-03-06T21:09:00.520Z"
   },
   {
    "duration": 78,
    "start_time": "2023-03-06T21:09:00.538Z"
   },
   {
    "duration": 273,
    "start_time": "2023-03-06T21:09:00.618Z"
   },
   {
    "duration": 11,
    "start_time": "2023-03-06T21:09:00.893Z"
   },
   {
    "duration": 312,
    "start_time": "2023-03-06T21:09:00.906Z"
   },
   {
    "duration": 228,
    "start_time": "2023-03-06T21:09:01.221Z"
   },
   {
    "duration": 42,
    "start_time": "2023-03-06T21:09:01.451Z"
   },
   {
    "duration": 35,
    "start_time": "2023-03-06T21:09:01.495Z"
   },
   {
    "duration": 7,
    "start_time": "2023-03-06T21:09:01.531Z"
   },
   {
    "duration": 47,
    "start_time": "2023-03-06T21:09:01.539Z"
   },
   {
    "duration": 44,
    "start_time": "2023-03-06T21:09:01.588Z"
   },
   {
    "duration": 20,
    "start_time": "2023-03-06T21:09:01.634Z"
   },
   {
    "duration": 87,
    "start_time": "2023-03-06T21:09:01.656Z"
   },
   {
    "duration": 147,
    "start_time": "2023-03-06T21:09:01.745Z"
   },
   {
    "duration": 10,
    "start_time": "2023-03-06T21:09:01.896Z"
   },
   {
    "duration": 24,
    "start_time": "2023-03-06T21:09:01.908Z"
   },
   {
    "duration": 24,
    "start_time": "2023-03-06T21:09:01.933Z"
   },
   {
    "duration": 80,
    "start_time": "2023-03-06T21:09:01.958Z"
   },
   {
    "duration": 32,
    "start_time": "2023-03-06T21:09:02.040Z"
   },
   {
    "duration": 129,
    "start_time": "2023-03-06T21:09:02.074Z"
   },
   {
    "duration": 26,
    "start_time": "2023-03-06T21:09:02.205Z"
   },
   {
    "duration": 12,
    "start_time": "2023-03-06T21:09:02.233Z"
   },
   {
    "duration": 33,
    "start_time": "2023-03-06T21:09:02.246Z"
   },
   {
    "duration": 11,
    "start_time": "2023-03-06T21:09:02.280Z"
   },
   {
    "duration": 13,
    "start_time": "2023-03-06T21:09:02.292Z"
   },
   {
    "duration": 14,
    "start_time": "2023-03-06T21:09:02.306Z"
   },
   {
    "duration": 28,
    "start_time": "2023-03-06T21:10:13.367Z"
   },
   {
    "duration": 7,
    "start_time": "2023-03-06T21:11:01.912Z"
   },
   {
    "duration": 3,
    "start_time": "2023-03-06T21:11:24.026Z"
   },
   {
    "duration": 9,
    "start_time": "2023-03-06T21:34:52.930Z"
   },
   {
    "duration": 9,
    "start_time": "2023-03-06T21:34:58.427Z"
   },
   {
    "duration": 9,
    "start_time": "2023-03-06T21:35:05.469Z"
   },
   {
    "duration": 9,
    "start_time": "2023-03-06T21:35:11.352Z"
   },
   {
    "duration": 106,
    "start_time": "2023-03-06T21:38:14.610Z"
   },
   {
    "duration": 4,
    "start_time": "2023-03-06T21:42:48.663Z"
   },
   {
    "duration": 11,
    "start_time": "2023-03-06T21:44:44.153Z"
   },
   {
    "duration": 11,
    "start_time": "2023-03-06T21:44:57.739Z"
   },
   {
    "duration": 4,
    "start_time": "2023-03-06T21:49:09.112Z"
   },
   {
    "duration": 2,
    "start_time": "2023-03-06T21:51:04.458Z"
   },
   {
    "duration": 2,
    "start_time": "2023-03-06T21:51:06.822Z"
   },
   {
    "duration": 1166,
    "start_time": "2023-03-06T21:51:15.888Z"
   },
   {
    "duration": 154,
    "start_time": "2023-03-06T21:51:17.056Z"
   },
   {
    "duration": 24,
    "start_time": "2023-03-06T21:51:17.212Z"
   },
   {
    "duration": 63,
    "start_time": "2023-03-06T21:51:17.239Z"
   },
   {
    "duration": 27,
    "start_time": "2023-03-06T21:51:17.306Z"
   },
   {
    "duration": 10,
    "start_time": "2023-03-06T21:51:17.334Z"
   },
   {
    "duration": 28,
    "start_time": "2023-03-06T21:51:17.346Z"
   },
   {
    "duration": 86,
    "start_time": "2023-03-06T21:51:17.376Z"
   },
   {
    "duration": 28,
    "start_time": "2023-03-06T21:51:17.464Z"
   },
   {
    "duration": 79,
    "start_time": "2023-03-06T21:51:17.494Z"
   },
   {
    "duration": 126,
    "start_time": "2023-03-06T21:51:17.575Z"
   },
   {
    "duration": 36,
    "start_time": "2023-03-06T21:51:17.704Z"
   },
   {
    "duration": 7,
    "start_time": "2023-03-06T21:51:17.742Z"
   },
   {
    "duration": 3,
    "start_time": "2023-03-06T21:51:17.752Z"
   },
   {
    "duration": 23,
    "start_time": "2023-03-06T21:51:17.757Z"
   },
   {
    "duration": 307,
    "start_time": "2023-03-06T21:51:17.781Z"
   },
   {
    "duration": 12,
    "start_time": "2023-03-06T21:51:18.089Z"
   },
   {
    "duration": 307,
    "start_time": "2023-03-06T21:51:18.102Z"
   },
   {
    "duration": 222,
    "start_time": "2023-03-06T21:51:18.411Z"
   },
   {
    "duration": 42,
    "start_time": "2023-03-06T21:51:18.635Z"
   },
   {
    "duration": 17,
    "start_time": "2023-03-06T21:51:18.678Z"
   },
   {
    "duration": 27,
    "start_time": "2023-03-06T21:51:18.696Z"
   },
   {
    "duration": 31,
    "start_time": "2023-03-06T21:51:18.725Z"
   },
   {
    "duration": 38,
    "start_time": "2023-03-06T21:51:18.758Z"
   },
   {
    "duration": 36,
    "start_time": "2023-03-06T21:51:18.798Z"
   },
   {
    "duration": 66,
    "start_time": "2023-03-06T21:51:18.836Z"
   },
   {
    "duration": 172,
    "start_time": "2023-03-06T21:51:18.904Z"
   },
   {
    "duration": 11,
    "start_time": "2023-03-06T21:51:19.080Z"
   },
   {
    "duration": 11,
    "start_time": "2023-03-06T21:51:19.092Z"
   },
   {
    "duration": 21,
    "start_time": "2023-03-06T21:51:19.104Z"
   },
   {
    "duration": 34,
    "start_time": "2023-03-06T21:51:19.127Z"
   },
   {
    "duration": 85,
    "start_time": "2023-03-06T21:51:19.163Z"
   },
   {
    "duration": 128,
    "start_time": "2023-03-06T21:51:19.250Z"
   },
   {
    "duration": 20,
    "start_time": "2023-03-06T21:51:19.379Z"
   },
   {
    "duration": 23,
    "start_time": "2023-03-06T21:51:19.401Z"
   },
   {
    "duration": 13,
    "start_time": "2023-03-06T21:51:19.425Z"
   },
   {
    "duration": 9,
    "start_time": "2023-03-06T21:51:19.439Z"
   },
   {
    "duration": 9,
    "start_time": "2023-03-06T21:51:19.450Z"
   },
   {
    "duration": 4,
    "start_time": "2023-03-06T21:51:19.460Z"
   },
   {
    "duration": 24,
    "start_time": "2023-03-06T21:51:19.465Z"
   },
   {
    "duration": 3,
    "start_time": "2023-03-06T21:51:29.434Z"
   },
   {
    "duration": 5,
    "start_time": "2023-03-06T21:51:39.594Z"
   },
   {
    "duration": 4,
    "start_time": "2023-03-06T21:51:48.677Z"
   },
   {
    "duration": 4,
    "start_time": "2023-03-06T21:52:24.680Z"
   },
   {
    "duration": 1344,
    "start_time": "2023-03-07T07:12:17.193Z"
   },
   {
    "duration": 730,
    "start_time": "2023-03-07T07:12:18.540Z"
   },
   {
    "duration": 22,
    "start_time": "2023-03-07T07:12:19.272Z"
   },
   {
    "duration": 74,
    "start_time": "2023-03-07T07:12:19.296Z"
   },
   {
    "duration": 13,
    "start_time": "2023-03-07T07:12:19.373Z"
   },
   {
    "duration": 24,
    "start_time": "2023-03-07T07:12:19.388Z"
   },
   {
    "duration": 18,
    "start_time": "2023-03-07T07:12:19.414Z"
   },
   {
    "duration": 84,
    "start_time": "2023-03-07T07:12:19.433Z"
   },
   {
    "duration": 30,
    "start_time": "2023-03-07T07:12:19.519Z"
   },
   {
    "duration": 92,
    "start_time": "2023-03-07T07:12:19.550Z"
   },
   {
    "duration": 108,
    "start_time": "2023-03-07T07:12:19.644Z"
   },
   {
    "duration": 28,
    "start_time": "2023-03-07T07:12:19.753Z"
   },
   {
    "duration": 7,
    "start_time": "2023-03-07T07:12:19.782Z"
   },
   {
    "duration": 4,
    "start_time": "2023-03-07T07:12:19.812Z"
   },
   {
    "duration": 22,
    "start_time": "2023-03-07T07:12:19.817Z"
   },
   {
    "duration": 279,
    "start_time": "2023-03-07T07:12:19.841Z"
   },
   {
    "duration": 9,
    "start_time": "2023-03-07T07:12:20.122Z"
   },
   {
    "duration": 297,
    "start_time": "2023-03-07T07:12:20.133Z"
   },
   {
    "duration": 231,
    "start_time": "2023-03-07T07:12:20.431Z"
   },
   {
    "duration": 49,
    "start_time": "2023-03-07T07:12:20.664Z"
   },
   {
    "duration": 18,
    "start_time": "2023-03-07T07:12:20.715Z"
   },
   {
    "duration": 6,
    "start_time": "2023-03-07T07:12:20.734Z"
   },
   {
    "duration": 35,
    "start_time": "2023-03-07T07:12:20.742Z"
   },
   {
    "duration": 63,
    "start_time": "2023-03-07T07:12:20.778Z"
   },
   {
    "duration": 20,
    "start_time": "2023-03-07T07:12:20.843Z"
   },
   {
    "duration": 83,
    "start_time": "2023-03-07T07:12:20.865Z"
   },
   {
    "duration": 222,
    "start_time": "2023-03-07T07:12:20.949Z"
   },
   {
    "duration": 12,
    "start_time": "2023-03-07T07:12:21.173Z"
   },
   {
    "duration": 33,
    "start_time": "2023-03-07T07:12:21.186Z"
   },
   {
    "duration": 22,
    "start_time": "2023-03-07T07:12:21.221Z"
   },
   {
    "duration": 83,
    "start_time": "2023-03-07T07:12:21.244Z"
   },
   {
    "duration": 34,
    "start_time": "2023-03-07T07:12:21.329Z"
   },
   {
    "duration": 222,
    "start_time": "2023-03-07T07:12:21.364Z"
   },
   {
    "duration": 25,
    "start_time": "2023-03-07T07:12:21.587Z"
   },
   {
    "duration": 12,
    "start_time": "2023-03-07T07:12:21.614Z"
   },
   {
    "duration": 21,
    "start_time": "2023-03-07T07:12:21.628Z"
   },
   {
    "duration": 10,
    "start_time": "2023-03-07T07:12:21.650Z"
   },
   {
    "duration": 9,
    "start_time": "2023-03-07T07:12:21.661Z"
   },
   {
    "duration": 1379,
    "start_time": "2023-03-09T19:15:30.368Z"
   },
   {
    "duration": 1002,
    "start_time": "2023-03-09T19:15:31.756Z"
   },
   {
    "duration": 33,
    "start_time": "2023-03-09T19:15:32.760Z"
   },
   {
    "duration": 71,
    "start_time": "2023-03-09T19:15:32.794Z"
   },
   {
    "duration": 14,
    "start_time": "2023-03-09T19:15:32.867Z"
   },
   {
    "duration": 9,
    "start_time": "2023-03-09T19:15:32.882Z"
   },
   {
    "duration": 14,
    "start_time": "2023-03-09T19:15:32.892Z"
   },
   {
    "duration": 121,
    "start_time": "2023-03-09T19:15:32.907Z"
   },
   {
    "duration": 45,
    "start_time": "2023-03-09T19:15:33.030Z"
   },
   {
    "duration": 83,
    "start_time": "2023-03-09T19:15:33.077Z"
   },
   {
    "duration": 119,
    "start_time": "2023-03-09T19:15:33.162Z"
   },
   {
    "duration": 27,
    "start_time": "2023-03-09T19:15:33.283Z"
   },
   {
    "duration": 7,
    "start_time": "2023-03-09T19:15:33.311Z"
   },
   {
    "duration": 3,
    "start_time": "2023-03-09T19:15:33.321Z"
   },
   {
    "duration": 49,
    "start_time": "2023-03-09T19:15:33.325Z"
   },
   {
    "duration": 255,
    "start_time": "2023-03-09T19:15:33.376Z"
   },
   {
    "duration": 22,
    "start_time": "2023-03-09T19:15:33.633Z"
   },
   {
    "duration": 298,
    "start_time": "2023-03-09T19:15:33.657Z"
   },
   {
    "duration": 225,
    "start_time": "2023-03-09T19:15:33.957Z"
   },
   {
    "duration": 44,
    "start_time": "2023-03-09T19:15:34.184Z"
   },
   {
    "duration": 35,
    "start_time": "2023-03-09T19:15:34.230Z"
   },
   {
    "duration": 7,
    "start_time": "2023-03-09T19:15:34.267Z"
   },
   {
    "duration": 44,
    "start_time": "2023-03-09T19:15:34.276Z"
   },
   {
    "duration": 70,
    "start_time": "2023-03-09T19:15:34.322Z"
   },
   {
    "duration": 32,
    "start_time": "2023-03-09T19:15:34.394Z"
   },
   {
    "duration": 81,
    "start_time": "2023-03-09T19:15:34.428Z"
   },
   {
    "duration": 161,
    "start_time": "2023-03-09T19:15:34.510Z"
   },
   {
    "duration": 10,
    "start_time": "2023-03-09T19:15:34.673Z"
   },
   {
    "duration": 25,
    "start_time": "2023-03-09T19:15:34.684Z"
   },
   {
    "duration": 50,
    "start_time": "2023-03-09T19:15:34.711Z"
   },
   {
    "duration": 97,
    "start_time": "2023-03-09T19:15:34.763Z"
   },
   {
    "duration": 46,
    "start_time": "2023-03-09T19:15:34.862Z"
   },
   {
    "duration": 173,
    "start_time": "2023-03-09T19:15:34.909Z"
   },
   {
    "duration": 20,
    "start_time": "2023-03-09T19:15:35.084Z"
   },
   {
    "duration": 12,
    "start_time": "2023-03-09T19:15:35.106Z"
   },
   {
    "duration": 10,
    "start_time": "2023-03-09T19:15:35.120Z"
   },
   {
    "duration": 9,
    "start_time": "2023-03-09T19:15:35.155Z"
   },
   {
    "duration": 11,
    "start_time": "2023-03-09T19:15:35.165Z"
   },
   {
    "duration": 10,
    "start_time": "2023-03-09T19:18:03.350Z"
   },
   {
    "duration": 18,
    "start_time": "2023-03-09T19:19:21.666Z"
   },
   {
    "duration": 4,
    "start_time": "2023-03-09T19:27:55.766Z"
   },
   {
    "duration": 11,
    "start_time": "2023-03-09T19:28:08.998Z"
   },
   {
    "duration": 8,
    "start_time": "2023-03-09T19:28:19.167Z"
   },
   {
    "duration": 8,
    "start_time": "2023-03-09T19:28:30.373Z"
   },
   {
    "duration": 11,
    "start_time": "2023-03-09T19:28:35.169Z"
   },
   {
    "duration": 171,
    "start_time": "2023-03-09T19:35:31.335Z"
   },
   {
    "duration": 4,
    "start_time": "2023-03-09T19:35:38.930Z"
   },
   {
    "duration": 4,
    "start_time": "2023-03-09T19:35:51.486Z"
   },
   {
    "duration": 1147,
    "start_time": "2023-03-09T19:36:09.555Z"
   },
   {
    "duration": 171,
    "start_time": "2023-03-09T19:36:10.704Z"
   },
   {
    "duration": 19,
    "start_time": "2023-03-09T19:36:10.877Z"
   },
   {
    "duration": 77,
    "start_time": "2023-03-09T19:36:10.899Z"
   },
   {
    "duration": 13,
    "start_time": "2023-03-09T19:36:10.978Z"
   },
   {
    "duration": 7,
    "start_time": "2023-03-09T19:36:10.993Z"
   },
   {
    "duration": 21,
    "start_time": "2023-03-09T19:36:11.002Z"
   },
   {
    "duration": 86,
    "start_time": "2023-03-09T19:36:11.024Z"
   },
   {
    "duration": 25,
    "start_time": "2023-03-09T19:36:11.112Z"
   },
   {
    "duration": 71,
    "start_time": "2023-03-09T19:36:11.156Z"
   },
   {
    "duration": 119,
    "start_time": "2023-03-09T19:36:11.229Z"
   },
   {
    "duration": 37,
    "start_time": "2023-03-09T19:36:11.350Z"
   },
   {
    "duration": 7,
    "start_time": "2023-03-09T19:36:11.388Z"
   },
   {
    "duration": 3,
    "start_time": "2023-03-09T19:36:11.396Z"
   },
   {
    "duration": 24,
    "start_time": "2023-03-09T19:36:11.400Z"
   },
   {
    "duration": 276,
    "start_time": "2023-03-09T19:36:11.425Z"
   },
   {
    "duration": 9,
    "start_time": "2023-03-09T19:36:11.703Z"
   },
   {
    "duration": 298,
    "start_time": "2023-03-09T19:36:11.713Z"
   },
   {
    "duration": 221,
    "start_time": "2023-03-09T19:36:12.012Z"
   },
   {
    "duration": 51,
    "start_time": "2023-03-09T19:36:12.234Z"
   },
   {
    "duration": 22,
    "start_time": "2023-03-09T19:36:12.287Z"
   },
   {
    "duration": 8,
    "start_time": "2023-03-09T19:36:12.311Z"
   },
   {
    "duration": 58,
    "start_time": "2023-03-09T19:36:12.321Z"
   },
   {
    "duration": 39,
    "start_time": "2023-03-09T19:36:12.381Z"
   },
   {
    "duration": 20,
    "start_time": "2023-03-09T19:36:12.421Z"
   },
   {
    "duration": 77,
    "start_time": "2023-03-09T19:36:12.442Z"
   },
   {
    "duration": 186,
    "start_time": "2023-03-09T19:36:12.520Z"
   },
   {
    "duration": 10,
    "start_time": "2023-03-09T19:36:12.709Z"
   },
   {
    "duration": 11,
    "start_time": "2023-03-09T19:36:12.720Z"
   },
   {
    "duration": 11,
    "start_time": "2023-03-09T19:36:12.733Z"
   },
   {
    "duration": 38,
    "start_time": "2023-03-09T19:36:12.765Z"
   },
   {
    "duration": 85,
    "start_time": "2023-03-09T19:36:12.804Z"
   },
   {
    "duration": 116,
    "start_time": "2023-03-09T19:36:12.891Z"
   },
   {
    "duration": 20,
    "start_time": "2023-03-09T19:36:13.008Z"
   },
   {
    "duration": 5,
    "start_time": "2023-03-09T19:36:13.029Z"
   },
   {
    "duration": 29,
    "start_time": "2023-03-09T19:36:13.035Z"
   },
   {
    "duration": 18,
    "start_time": "2023-03-09T19:36:13.065Z"
   },
   {
    "duration": 7,
    "start_time": "2023-03-09T19:36:13.085Z"
   },
   {
    "duration": 8,
    "start_time": "2023-03-09T19:36:13.093Z"
   },
   {
    "duration": 4,
    "start_time": "2023-03-09T19:37:29.988Z"
   },
   {
    "duration": 3,
    "start_time": "2023-03-09T19:37:38.786Z"
   },
   {
    "duration": 11,
    "start_time": "2023-03-09T19:38:38.044Z"
   },
   {
    "duration": 11,
    "start_time": "2023-03-09T19:38:54.173Z"
   },
   {
    "duration": 3,
    "start_time": "2023-03-09T19:38:58.680Z"
   },
   {
    "duration": 5,
    "start_time": "2023-03-09T19:47:37.584Z"
   },
   {
    "duration": 1150,
    "start_time": "2023-03-10T08:05:33.469Z"
   },
   {
    "duration": 155,
    "start_time": "2023-03-10T08:05:34.621Z"
   },
   {
    "duration": 19,
    "start_time": "2023-03-10T08:05:34.777Z"
   },
   {
    "duration": 69,
    "start_time": "2023-03-10T08:05:34.797Z"
   },
   {
    "duration": 14,
    "start_time": "2023-03-10T08:05:34.868Z"
   },
   {
    "duration": 8,
    "start_time": "2023-03-10T08:05:34.883Z"
   },
   {
    "duration": 42,
    "start_time": "2023-03-10T08:05:34.894Z"
   },
   {
    "duration": 123,
    "start_time": "2023-03-10T08:05:34.938Z"
   },
   {
    "duration": 29,
    "start_time": "2023-03-10T08:05:35.062Z"
   },
   {
    "duration": 78,
    "start_time": "2023-03-10T08:05:35.093Z"
   },
   {
    "duration": 112,
    "start_time": "2023-03-10T08:05:35.173Z"
   },
   {
    "duration": 40,
    "start_time": "2023-03-10T08:05:35.287Z"
   },
   {
    "duration": 7,
    "start_time": "2023-03-10T08:05:35.328Z"
   },
   {
    "duration": 4,
    "start_time": "2023-03-10T08:05:35.337Z"
   },
   {
    "duration": 21,
    "start_time": "2023-03-10T08:05:35.343Z"
   },
   {
    "duration": 304,
    "start_time": "2023-03-10T08:05:35.366Z"
   },
   {
    "duration": 9,
    "start_time": "2023-03-10T08:05:35.672Z"
   },
   {
    "duration": 323,
    "start_time": "2023-03-10T08:05:35.683Z"
   },
   {
    "duration": 232,
    "start_time": "2023-03-10T08:05:36.008Z"
   },
   {
    "duration": 50,
    "start_time": "2023-03-10T08:05:36.241Z"
   },
   {
    "duration": 36,
    "start_time": "2023-03-10T08:05:36.293Z"
   },
   {
    "duration": 8,
    "start_time": "2023-03-10T08:05:36.330Z"
   },
   {
    "duration": 34,
    "start_time": "2023-03-10T08:05:36.340Z"
   },
   {
    "duration": 85,
    "start_time": "2023-03-10T08:05:36.376Z"
   },
   {
    "duration": 22,
    "start_time": "2023-03-10T08:05:36.463Z"
   },
   {
    "duration": 81,
    "start_time": "2023-03-10T08:05:36.487Z"
   },
   {
    "duration": 204,
    "start_time": "2023-03-10T08:05:36.570Z"
   },
   {
    "duration": 44,
    "start_time": "2023-03-10T08:05:36.778Z"
   },
   {
    "duration": 17,
    "start_time": "2023-03-10T08:05:36.824Z"
   },
   {
    "duration": 32,
    "start_time": "2023-03-10T08:05:36.844Z"
   },
   {
    "duration": 51,
    "start_time": "2023-03-10T08:05:36.921Z"
   },
   {
    "duration": 56,
    "start_time": "2023-03-10T08:05:36.974Z"
   },
   {
    "duration": 118,
    "start_time": "2023-03-10T08:05:37.032Z"
   },
   {
    "duration": 20,
    "start_time": "2023-03-10T08:05:37.152Z"
   },
   {
    "duration": 4,
    "start_time": "2023-03-10T08:05:37.175Z"
   },
   {
    "duration": 40,
    "start_time": "2023-03-10T08:05:37.182Z"
   },
   {
    "duration": 11,
    "start_time": "2023-03-10T08:05:37.224Z"
   },
   {
    "duration": 10,
    "start_time": "2023-03-10T08:05:37.237Z"
   },
   {
    "duration": 10,
    "start_time": "2023-03-10T08:05:37.249Z"
   },
   {
    "duration": 1561,
    "start_time": "2023-04-19T13:25:44.413Z"
   },
   {
    "duration": 899,
    "start_time": "2023-04-19T13:25:45.980Z"
   },
   {
    "duration": 24,
    "start_time": "2023-04-19T13:25:46.881Z"
   },
   {
    "duration": 93,
    "start_time": "2023-04-19T13:25:46.907Z"
   },
   {
    "duration": 18,
    "start_time": "2023-04-19T13:25:47.003Z"
   },
   {
    "duration": 73,
    "start_time": "2023-04-19T13:25:47.024Z"
   },
   {
    "duration": 58,
    "start_time": "2023-04-19T13:25:47.100Z"
   },
   {
    "duration": 141,
    "start_time": "2023-04-19T13:25:47.165Z"
   },
   {
    "duration": 84,
    "start_time": "2023-04-19T13:25:47.308Z"
   },
   {
    "duration": 124,
    "start_time": "2023-04-19T13:25:47.394Z"
   },
   {
    "duration": 151,
    "start_time": "2023-04-19T13:25:47.520Z"
   },
   {
    "duration": 33,
    "start_time": "2023-04-19T13:25:47.673Z"
   },
   {
    "duration": 34,
    "start_time": "2023-04-19T13:25:47.708Z"
   },
   {
    "duration": 12,
    "start_time": "2023-04-19T13:25:47.748Z"
   },
   {
    "duration": 64,
    "start_time": "2023-04-19T13:25:47.763Z"
   },
   {
    "duration": 430,
    "start_time": "2023-04-19T13:25:47.830Z"
   },
   {
    "duration": 13,
    "start_time": "2023-04-19T13:25:48.262Z"
   },
   {
    "duration": 385,
    "start_time": "2023-04-19T13:25:48.278Z"
   },
   {
    "duration": 293,
    "start_time": "2023-04-19T13:25:48.667Z"
   },
   {
    "duration": 52,
    "start_time": "2023-04-19T13:25:48.963Z"
   },
   {
    "duration": 45,
    "start_time": "2023-04-19T13:25:49.017Z"
   },
   {
    "duration": 12,
    "start_time": "2023-04-19T13:25:49.065Z"
   },
   {
    "duration": 82,
    "start_time": "2023-04-19T13:25:49.079Z"
   },
   {
    "duration": 51,
    "start_time": "2023-04-19T13:25:49.164Z"
   },
   {
    "duration": 45,
    "start_time": "2023-04-19T13:25:49.218Z"
   },
   {
    "duration": 108,
    "start_time": "2023-04-19T13:25:49.265Z"
   },
   {
    "duration": 200,
    "start_time": "2023-04-19T13:25:49.376Z"
   },
   {
    "duration": 13,
    "start_time": "2023-04-19T13:25:49.578Z"
   },
   {
    "duration": 76,
    "start_time": "2023-04-19T13:25:49.593Z"
   },
   {
    "duration": 81,
    "start_time": "2023-04-19T13:25:49.672Z"
   },
   {
    "duration": 82,
    "start_time": "2023-04-19T13:25:49.757Z"
   },
   {
    "duration": 60,
    "start_time": "2023-04-19T13:25:49.846Z"
   },
   {
    "duration": 167,
    "start_time": "2023-04-19T13:25:49.908Z"
   },
   {
    "duration": 36,
    "start_time": "2023-04-19T13:25:50.078Z"
   },
   {
    "duration": 30,
    "start_time": "2023-04-19T13:25:50.117Z"
   },
   {
    "duration": 69,
    "start_time": "2023-04-19T13:25:50.150Z"
   },
   {
    "duration": 18,
    "start_time": "2023-04-19T13:25:50.221Z"
   },
   {
    "duration": 53,
    "start_time": "2023-04-19T13:25:50.241Z"
   },
   {
    "duration": 31,
    "start_time": "2023-04-19T13:25:50.296Z"
   },
   {
    "duration": 1343,
    "start_time": "2023-05-07T17:29:14.200Z"
   },
   {
    "duration": 758,
    "start_time": "2023-05-07T17:29:15.545Z"
   },
   {
    "duration": 24,
    "start_time": "2023-05-07T17:29:16.305Z"
   },
   {
    "duration": 82,
    "start_time": "2023-05-07T17:29:16.331Z"
   },
   {
    "duration": 17,
    "start_time": "2023-05-07T17:29:16.416Z"
   },
   {
    "duration": 12,
    "start_time": "2023-05-07T17:29:16.434Z"
   },
   {
    "duration": 23,
    "start_time": "2023-05-07T17:29:16.448Z"
   },
   {
    "duration": 88,
    "start_time": "2023-05-07T17:29:16.472Z"
   },
   {
    "duration": 30,
    "start_time": "2023-05-07T17:29:16.562Z"
   },
   {
    "duration": 82,
    "start_time": "2023-05-07T17:29:16.594Z"
   },
   {
    "duration": 126,
    "start_time": "2023-05-07T17:29:16.678Z"
   },
   {
    "duration": 38,
    "start_time": "2023-05-07T17:29:16.806Z"
   },
   {
    "duration": 12,
    "start_time": "2023-05-07T17:29:16.845Z"
   },
   {
    "duration": 3,
    "start_time": "2023-05-07T17:29:16.860Z"
   },
   {
    "duration": 23,
    "start_time": "2023-05-07T17:29:16.865Z"
   },
   {
    "duration": 302,
    "start_time": "2023-05-07T17:29:16.913Z"
   },
   {
    "duration": 9,
    "start_time": "2023-05-07T17:29:17.217Z"
   },
   {
    "duration": 309,
    "start_time": "2023-05-07T17:29:17.228Z"
   },
   {
    "duration": 238,
    "start_time": "2023-05-07T17:29:17.539Z"
   },
   {
    "duration": 52,
    "start_time": "2023-05-07T17:29:17.780Z"
   },
   {
    "duration": 20,
    "start_time": "2023-05-07T17:29:17.835Z"
   },
   {
    "duration": 11,
    "start_time": "2023-05-07T17:29:17.857Z"
   },
   {
    "duration": 53,
    "start_time": "2023-05-07T17:29:17.869Z"
   },
   {
    "duration": 43,
    "start_time": "2023-05-07T17:29:17.924Z"
   },
   {
    "duration": 24,
    "start_time": "2023-05-07T17:29:17.969Z"
   },
   {
    "duration": 88,
    "start_time": "2023-05-07T17:29:17.994Z"
   },
   {
    "duration": 147,
    "start_time": "2023-05-07T17:29:18.084Z"
   },
   {
    "duration": 11,
    "start_time": "2023-05-07T17:29:18.233Z"
   },
   {
    "duration": 12,
    "start_time": "2023-05-07T17:29:18.245Z"
   },
   {
    "duration": 62,
    "start_time": "2023-05-07T17:29:18.258Z"
   },
   {
    "duration": 91,
    "start_time": "2023-05-07T17:29:18.322Z"
   },
   {
    "duration": 34,
    "start_time": "2023-05-07T17:29:18.415Z"
   },
   {
    "duration": 135,
    "start_time": "2023-05-07T17:29:18.451Z"
   },
   {
    "duration": 30,
    "start_time": "2023-05-07T17:29:18.588Z"
   },
   {
    "duration": 7,
    "start_time": "2023-05-07T17:29:18.620Z"
   },
   {
    "duration": 15,
    "start_time": "2023-05-07T17:29:18.629Z"
   },
   {
    "duration": 13,
    "start_time": "2023-05-07T17:29:18.646Z"
   },
   {
    "duration": 39,
    "start_time": "2023-05-07T17:29:18.661Z"
   },
   {
    "duration": 40,
    "start_time": "2023-05-07T17:29:18.711Z"
   },
   {
    "duration": 131,
    "start_time": "2023-05-07T17:39:56.845Z"
   },
   {
    "duration": 47,
    "start_time": "2023-08-09T21:41:10.274Z"
   },
   {
    "duration": 1108,
    "start_time": "2023-08-09T21:41:12.518Z"
   },
   {
    "duration": 771,
    "start_time": "2023-08-09T21:41:13.630Z"
   },
   {
    "duration": 1781,
    "start_time": "2023-08-09T21:42:24.497Z"
   }
  ],
  "kernelspec": {
   "display_name": "Python 3 (ipykernel)",
   "language": "python",
   "name": "python3"
  },
  "language_info": {
   "codemirror_mode": {
    "name": "ipython",
    "version": 3
   },
   "file_extension": ".py",
   "mimetype": "text/x-python",
   "name": "python",
   "nbconvert_exporter": "python",
   "pygments_lexer": "ipython3",
   "version": "3.9.13"
  },
  "toc": {
   "base_numbering": 1,
   "nav_menu": {},
   "number_sections": true,
   "sideBar": true,
   "skip_h1_title": true,
   "title_cell": "Table of Contents",
   "title_sidebar": "Contents",
   "toc_cell": false,
   "toc_position": {},
   "toc_section_display": true,
   "toc_window_display": true
  }
 },
 "nbformat": 4,
 "nbformat_minor": 2
}
